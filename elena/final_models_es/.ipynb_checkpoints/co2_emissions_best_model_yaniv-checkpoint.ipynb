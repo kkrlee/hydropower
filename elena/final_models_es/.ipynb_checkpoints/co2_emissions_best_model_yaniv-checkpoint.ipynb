{
 "cells": [
  {
   "cell_type": "code",
   "execution_count": 4,
   "metadata": {},
   "outputs": [],
   "source": [
    "%matplotlib inline\n",
    "import matplotlib.pyplot as plt\n",
    "import numpy as np\n",
    "import pandas as pd\n",
    "\n",
    "from sklearn.ensemble import GradientBoostingRegressor, RandomForestRegressor\n",
    "from sklearn.model_selection import GridSearchCV, LeaveOneOut, LeavePOut, RepeatedKFold, train_test_split\n",
    "from sklearn.neighbors import KNeighborsRegressor\n",
    "from sklearn.pipeline import Pipeline\n",
    "from sklearn.preprocessing import RobustScaler, StandardScaler # robust_scale\n",
    "from sklearn.svm import SVR"
   ]
  },
  {
   "cell_type": "code",
   "execution_count": 5,
   "metadata": {},
   "outputs": [],
   "source": [
    "raw = pd.read_csv('data/training_final_latcorr.csv')"
   ]
  },
  {
   "cell_type": "code",
   "execution_count": 6,
   "metadata": {},
   "outputs": [
    {
     "name": "stdout",
     "output_type": "stream",
     "text": [
      "raw.shape   = (154, 44)\n",
      "clean.shape = (154, 9)\n"
     ]
    }
   ],
   "source": [
    "co2_raw_cols = [\n",
    "    'CO2 (mg C m¯² d¯¹)',\n",
    "    'Age', \n",
    "    'org_c', \n",
    "    'temp_annual_avg',\n",
    "    'temp_diff_summer_winter_lc', \n",
    "    'NDVI_annual_avg', \n",
    "    'npp_annual_avg', \n",
    "    'erosion',\n",
    "    'precip'\n",
    "]\n",
    "\n",
    "clean = raw[co2_raw_cols].copy()\n",
    "\n",
    "print(\"raw.shape   =\", raw.shape)\n",
    "print(\"clean.shape =\", clean.shape)"
   ]
  },
  {
   "cell_type": "code",
   "execution_count": 7,
   "metadata": {},
   "outputs": [
    {
     "name": "stderr",
     "output_type": "stream",
     "text": [
      "/Users/estep/opt/anaconda3/lib/python3.7/site-packages/pandas/core/series.py:679: RuntimeWarning: invalid value encountered in log\n",
      "  result = getattr(ufunc, method)(*inputs, **kwargs)\n"
     ]
    }
   ],
   "source": [
    "clean['log_co2_emissions'] = np.log(clean['CO2 (mg C m¯² d¯¹)'])\n"
   ]
  },
  {
   "cell_type": "code",
   "execution_count": 8,
   "metadata": {},
   "outputs": [
    {
     "data": {
      "text/plain": [
       "(120, 10)"
      ]
     },
     "execution_count": 8,
     "metadata": {},
     "output_type": "execute_result"
    }
   ],
   "source": [
    "reduced = clean.dropna()\n",
    "reduced.shape"
   ]
  },
  {
   "cell_type": "code",
   "execution_count": 13,
   "metadata": {},
   "outputs": [
    {
     "data": {
      "text/plain": [
       "5.870708    3\n",
       "6.396930    2\n",
       "6.994758    2\n",
       "5.757639    2\n",
       "2.509599    2\n",
       "           ..\n",
       "4.667206    1\n",
       "6.143112    1\n",
       "6.253444    1\n",
       "4.933754    1\n",
       "6.531169    1\n",
       "Name: log_co2_emissions, Length: 113, dtype: int64"
      ]
     },
     "execution_count": 13,
     "metadata": {},
     "output_type": "execute_result"
    }
   ],
   "source": [
    "reduced['log_co2_emissions'].value_counts()\n"
   ]
  },
  {
   "cell_type": "code",
   "execution_count": 6,
   "metadata": {},
   "outputs": [],
   "source": [
    "#target = 'CO2 (mg C m¯² d¯¹)'\n",
    "target = 'log_co2_emissions'\n",
    "\n",
    "features = ['Age', 'org_c', 'temp_annual_avg', 'temp_diff_summer_winter_lc', \n",
    "            'NDVI_annual_avg', 'npp_annual_avg', 'erosion', 'precip']\n",
    "\n",
    "X = reduced[features]\n",
    "y = reduced[target]"
   ]
  },
  {
   "cell_type": "code",
   "execution_count": 7,
   "metadata": {},
   "outputs": [],
   "source": [
    "X_train, X_test, y_train, y_test = train_test_split(X, y, test_size=0.25, random_state=0)"
   ]
  },
  {
   "cell_type": "code",
   "execution_count": 8,
   "metadata": {},
   "outputs": [
    {
     "name": "stdout",
     "output_type": "stream",
     "text": [
      "X_train.shape = (90, 8)\n",
      "X_test.shape  = (30, 8)\n",
      "y_train.shape = (90,)\n",
      "y_test.shape  = (30,)\n"
     ]
    }
   ],
   "source": [
    "print(\"X_train.shape =\", X_train.shape)\n",
    "print(\"X_test.shape  =\", X_test.shape)\n",
    "print(\"y_train.shape =\", y_train.shape)\n",
    "print(\"y_test.shape  =\", y_test.shape)"
   ]
  },
  {
   "cell_type": "code",
   "execution_count": 9,
   "metadata": {},
   "outputs": [
    {
     "name": "stdout",
     "output_type": "stream",
     "text": [
      "Train score = 0.6089452371310761\n",
      "Test score  = 0.49710373213557973\n"
     ]
    }
   ],
   "source": [
    "pipeline = Pipeline([\n",
    "    ('scaler', StandardScaler()),\n",
    "    ('knr', KNeighborsRegressor())\n",
    "])\n",
    "\n",
    "pipeline.fit(X_train, y_train)\n",
    "\n",
    "print(\"Train score =\", pipeline.score(X_train, y_train))\n",
    "print(\"Test score  =\", pipeline.score(X_test, y_test))"
   ]
  },
  {
   "cell_type": "code",
   "execution_count": 11,
   "metadata": {
    "scrolled": true
   },
   "outputs": [
    {
     "name": "stdout",
     "output_type": "stream",
     "text": [
      "Best score: 0.245\n",
      "\tknr__n_neighbors: 5\n",
      "\tknr__weights: 'distance'\n"
     ]
    },
    {
     "data": {
      "text/plain": [
       "0.6083936912199917"
      ]
     },
     "execution_count": 11,
     "metadata": {},
     "output_type": "execute_result"
    }
   ],
   "source": [
    "parameters = {\n",
    "    'knr__n_neighbors': range(1, round(len(y_train) / 2)),\n",
    "    'knr__weights': ['uniform', 'distance']\n",
    "}\n",
    "\n",
    "my_cv = RepeatedKFold(n_splits=2, n_repeats=10, random_state=0)\n",
    "\n",
    "best_co2_model = GridSearchCV(pipeline, parameters, cv=my_cv, n_jobs=-1, scoring='r2') \n",
    "\n",
    "best_co2_model.fit(X_train, y_train)\n",
    "\n",
    "print(\"Best score: %0.3f\" % best_co2_model.best_score_)\n",
    "best_parameters = best_co2_model.best_estimator_.get_params()\n",
    "for param_name in sorted(parameters.keys()):\n",
    "    print(\"\\t%s: %r\" % (param_name, best_parameters[param_name]))\n",
    "\n",
    "best_co2_model.best_estimator_.score(X_test, y_test)"
   ]
  },
  {
   "cell_type": "markdown",
   "metadata": {},
   "source": [
    "## Use this model to predict CO2 emissions in USA dataset"
   ]
  },
  {
   "cell_type": "code",
   "execution_count": 56,
   "metadata": {},
   "outputs": [],
   "source": [
    "present = pd.read_csv('../data_predict/merged_PRESENT.csv')\n",
    "best_case = pd.read_csv('../data_predict/merged_2100ssp126.csv')\n",
    "worst_case = pd.read_csv('../data_predict/merged_2100ssp585.csv')"
   ]
  },
  {
   "cell_type": "code",
   "execution_count": 57,
   "metadata": {
    "scrolled": true
   },
   "outputs": [
    {
     "name": "stdout",
     "output_type": "stream",
     "text": [
      "Age : 0\n",
      "org_c : 0\n",
      "temp_annual_avg : 0\n",
      "temp_diff_summer_winter_lc : 0\n",
      "NDVI_annual_avg : 0\n",
      "npp_annual_avg : 33\n",
      "erosion : 0\n",
      "precip : 0\n"
     ]
    }
   ],
   "source": [
    "for column in present[features]:\n",
    "    print(column, ':',  present[features][column].isna().sum())"
   ]
  },
  {
   "cell_type": "code",
   "execution_count": 58,
   "metadata": {},
   "outputs": [],
   "source": [
    "present['npp_annual_avg'] = present['npp_annual_avg'].fillna(present['npp_annual_avg'].mean())\n",
    "best_case['npp_annual_avg'] = best_case['npp_annual_avg'].fillna(best_case['npp_annual_avg'].mean())\n",
    "worst_case['npp_annual_avg'] = worst_case['npp_annual_avg'].fillna(worst_case['npp_annual_avg'].mean())"
   ]
  },
  {
   "cell_type": "code",
   "execution_count": 59,
   "metadata": {},
   "outputs": [],
   "source": [
    "present['co2_emissions_logscale'] = best_co2_model.predict(present[features])\n",
    "best_case['co2_emissions_logscale'] = best_co2_model.predict(best_case[features])\n",
    "worst_case['co2_emissions_logscale'] = best_co2_model.predict(worst_case[features])"
   ]
  },
  {
   "cell_type": "code",
   "execution_count": 60,
   "metadata": {},
   "outputs": [],
   "source": [
    "present['co2_emissions'] = 10**present['co2_emissions_logscale']\n",
    "best_case['co2_emissions'] = 10**best_case['co2_emissions_logscale']\n",
    "worst_case['co2_emissions'] = 10**worst_case['co2_emissions_logscale']"
   ]
  },
  {
   "cell_type": "code",
   "execution_count": 66,
   "metadata": {},
   "outputs": [],
   "source": [
    "present.to_csv('../data_predict/merged_PRESENT_co2predicted.csv')\n",
    "best_case.to_csv('../data_predict/merged_2100ssp126_co2predicted.csv')\n",
    "worst_case.to_csv('../data_predict/merged_2100ssp585_co2predicted.csv')"
   ]
  },
  {
   "cell_type": "code",
   "execution_count": 70,
   "metadata": {},
   "outputs": [
    {
     "data": {
      "text/plain": [
       "148721.69675618425"
      ]
     },
     "execution_count": 70,
     "metadata": {},
     "output_type": "execute_result"
    }
   ],
   "source": [
    "present['co2_emissions'].median()"
   ]
  },
  {
   "cell_type": "code",
   "execution_count": 71,
   "metadata": {},
   "outputs": [
    {
     "data": {
      "text/plain": [
       "168073.49382113252"
      ]
     },
     "execution_count": 71,
     "metadata": {},
     "output_type": "execute_result"
    }
   ],
   "source": [
    "best_case['co2_emissions'].median()"
   ]
  },
  {
   "cell_type": "code",
   "execution_count": 72,
   "metadata": {},
   "outputs": [
    {
     "data": {
      "text/plain": [
       "201921.0311567986"
      ]
     },
     "execution_count": 72,
     "metadata": {},
     "output_type": "execute_result"
    }
   ],
   "source": [
    "worst_case['co2_emissions'].median()"
   ]
  },
  {
   "cell_type": "code",
   "execution_count": null,
   "metadata": {},
   "outputs": [],
   "source": []
  }
 ],
 "metadata": {
  "kernelspec": {
   "display_name": "Python 3",
   "language": "python",
   "name": "python3"
  },
  "language_info": {
   "codemirror_mode": {
    "name": "ipython",
    "version": 3
   },
   "file_extension": ".py",
   "mimetype": "text/x-python",
   "name": "python",
   "nbconvert_exporter": "python",
   "pygments_lexer": "ipython3",
   "version": "3.7.6"
  }
 },
 "nbformat": 4,
 "nbformat_minor": 4
}
