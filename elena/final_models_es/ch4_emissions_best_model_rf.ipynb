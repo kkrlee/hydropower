{
 "cells": [
  {
   "cell_type": "code",
   "execution_count": 75,
   "metadata": {},
   "outputs": [],
   "source": [
    "%matplotlib inline\n",
    "import matplotlib.pyplot as plt\n",
    "import numpy as np\n",
    "import pandas as pd\n",
    "\n",
    "from sklearn.ensemble import GradientBoostingRegressor, RandomForestRegressor\n",
    "from sklearn.model_selection import GridSearchCV, LeaveOneOut, LeavePOut, RepeatedKFold, train_test_split\n",
    "from sklearn.neighbors import KNeighborsRegressor\n",
    "from sklearn.pipeline import Pipeline\n",
    "from sklearn.preprocessing import RobustScaler, StandardScaler # robust_scale\n",
    "from sklearn.svm import SVR"
   ]
  },
  {
   "cell_type": "code",
   "execution_count": 76,
   "metadata": {},
   "outputs": [],
   "source": [
    "raw = pd.read_csv('../data/training_final_latcorr.csv')"
   ]
  },
  {
   "cell_type": "code",
   "execution_count": 77,
   "metadata": {},
   "outputs": [
    {
     "data": {
      "text/plain": [
       "Index(['field_1', 'Name', 'Longitude', 'Latitude', 'CO2 (mg C m¯² d¯¹)',\n",
       "       'CH4 (mg C m-2 d-1)', 'CO2 (g/kWh)', 'CH4 (g/kWh)',\n",
       "       'Area / Electricity', 'Area_km2', 'Age', 'Volume_km3',\n",
       "       'Areakm2_div_Volkm3', 'org_c', 'temp_annual_avg',\n",
       "       'temp_diff_summer_winter_lc', 'temp_spring_avg_lc', 'temp_spring_avg',\n",
       "       'temp_summer_avg_lc', 'temp_summer_avg', 'temp_fall_avg_lc',\n",
       "       'temp_fall_avg', 'temp_winter_avg_lc', 'temp_winter_avg',\n",
       "       'NDVI_annual_avg', 'NDVI_spring_avg_lc', 'NDVI_spring_avg',\n",
       "       'NDVI_summer_avg_lc', 'NDVI_summer_avg', 'NDVI_fall_avg_lc',\n",
       "       'NDVI_fall_avg', 'NDVI_winter_avg_lc', 'NDVI_winter_avg',\n",
       "       'npp_annual_avg', 'npp_spring_avg_lc', 'npp_spring_avg',\n",
       "       'npp_summer_avg_lc', 'npp_summer_avg', 'npp_fall_avg_lc',\n",
       "       'npp_fall_avg', 'npp_winter_avg_lc', 'npp_winter_avg', 'erosion',\n",
       "       'precip'],\n",
       "      dtype='object')"
      ]
     },
     "execution_count": 77,
     "metadata": {},
     "output_type": "execute_result"
    }
   ],
   "source": [
    "raw.columns\n"
   ]
  },
  {
   "cell_type": "code",
   "execution_count": 78,
   "metadata": {},
   "outputs": [
    {
     "name": "stdout",
     "output_type": "stream",
     "text": [
      "raw.shape   = (154, 44)\n",
      "clean.shape = (154, 13)\n"
     ]
    }
   ],
   "source": [
    "raw_cols_to_include = [\n",
    "    #'field_1', \n",
    "    #'Name', \n",
    "    #'Longitude', \n",
    "    'Latitude', \n",
    "    #'CO2 (mg C m¯² d¯¹)',\n",
    "    'CH4 (mg C m-2 d-1)', \n",
    "    #'CO2 (g/kWh)', \n",
    "    #'CH4 (g/kWh)',\n",
    "    #'Area / Electricity', \n",
    "    'Area_km2', \n",
    "    'Age', \n",
    "    'Volume_km3',\n",
    "    'Areakm2_div_Volkm3', \n",
    "    'org_c', \n",
    "    'temp_annual_avg', \n",
    "    'temp_diff_summer_winter_lc',\n",
    "    #'temp_spring_avg_lc',\n",
    "    #'temp_spring_avg', \n",
    "    #'temp_summer_avg_lc',\n",
    "    #'temp_summer_avg',\n",
    "    #'temp_fall_avg_lc', \n",
    "    #'temp_fall_avg', \n",
    "    #'temp_winter_avg_lc',\n",
    "    #'temp_winter_avg', \n",
    "    'NDVI_annual_avg', \n",
    "    #'NDVI_spring_avg_lc',\n",
    "    #'NDVI_spring_avg', \n",
    "    #'NDVI_summer_avg_lc', \n",
    "    #'NDVI_summer_avg',\n",
    "    #'NDVI_fall_avg_lc', \n",
    "    #'NDVI_fall_avg', \n",
    "    #'NDVI_winter_avg_lc',\n",
    "    #'NDVI_winter_avg', \n",
    "    'npp_annual_avg', \n",
    "    #'npp_spring_avg_lc',\n",
    "    #'npp_spring_avg', \n",
    "    #'npp_summer_avg_lc', \n",
    "    #'npp_summer_avg',\n",
    "    #'npp_fall_avg_lc', \n",
    "    #'npp_fall_avg', \n",
    "    #'npp_winter_avg_lc',\n",
    "    #'npp_winter_avg',\n",
    "    'erosion',\n",
    "    'precip'\n",
    "]\n",
    "\n",
    "clean = raw[raw_cols_to_include].copy()\n",
    "\n",
    "print(\"raw.shape   =\", raw.shape)\n",
    "print(\"clean.shape =\", clean.shape)"
   ]
  },
  {
   "cell_type": "code",
   "execution_count": 79,
   "metadata": {},
   "outputs": [],
   "source": [
    "clean.rename(columns = {'CH4 (mg C m-2 d-1)':'ch4_emissions', 'CO2 (mg C m¯² d¯¹)':'co2_emissions'}, inplace = True) "
   ]
  },
  {
   "cell_type": "code",
   "execution_count": null,
   "metadata": {},
   "outputs": [],
   "source": []
  },
  {
   "cell_type": "code",
   "execution_count": null,
   "metadata": {},
   "outputs": [],
   "source": []
  },
  {
   "cell_type": "code",
   "execution_count": 80,
   "metadata": {},
   "outputs": [],
   "source": [
    "clean['log_ch4_emissions'] = np.log(clean['ch4_emissions'])"
   ]
  },
  {
   "cell_type": "code",
   "execution_count": null,
   "metadata": {},
   "outputs": [],
   "source": []
  },
  {
   "cell_type": "code",
   "execution_count": null,
   "metadata": {},
   "outputs": [],
   "source": []
  },
  {
   "cell_type": "code",
   "execution_count": 81,
   "metadata": {},
   "outputs": [
    {
     "data": {
      "text/plain": [
       "(88, 14)"
      ]
     },
     "execution_count": 81,
     "metadata": {},
     "output_type": "execute_result"
    }
   ],
   "source": [
    "reduced = clean.dropna()\n",
    "reduced.shape"
   ]
  },
  {
   "cell_type": "code",
   "execution_count": 82,
   "metadata": {},
   "outputs": [],
   "source": [
    "#target = 'CH4 (mg C m¯² d¯¹)'\n",
    "target = 'log_ch4_emissions'\n",
    "\n",
    "features = ['Age', 'org_c', 'temp_annual_avg', 'temp_diff_summer_winter_lc', \n",
    "            'NDVI_annual_avg', 'npp_annual_avg', 'erosion', 'precip']\n",
    "\n",
    "X = reduced[features]\n",
    "y = reduced[target]"
   ]
  },
  {
   "cell_type": "code",
   "execution_count": 83,
   "metadata": {},
   "outputs": [],
   "source": [
    "X_train, X_test, y_train, y_test = train_test_split(X, y, test_size=0.25, random_state=0)"
   ]
  },
  {
   "cell_type": "code",
   "execution_count": 84,
   "metadata": {
    "scrolled": true
   },
   "outputs": [
    {
     "name": "stdout",
     "output_type": "stream",
     "text": [
      "X_train.shape = (66, 8)\n",
      "X_test.shape  = (22, 8)\n",
      "y_train.shape = (66,)\n",
      "y_test.shape  = (22,)\n"
     ]
    }
   ],
   "source": [
    "print(\"X_train.shape =\", X_train.shape)\n",
    "print(\"X_test.shape  =\", X_test.shape)\n",
    "print(\"y_train.shape =\", y_train.shape)\n",
    "print(\"y_test.shape  =\", y_test.shape)"
   ]
  },
  {
   "cell_type": "code",
   "execution_count": 85,
   "metadata": {},
   "outputs": [
    {
     "name": "stdout",
     "output_type": "stream",
     "text": [
      "Train score = 0.9209885323437533\n",
      "Test score  = 0.593547984584792\n"
     ]
    }
   ],
   "source": [
    "pipeline = Pipeline([\n",
    "    ('scaler', StandardScaler()),\n",
    "    ('rfr', RandomForestRegressor(random_state=0))\n",
    "])\n",
    "\n",
    "pipeline.fit(X_train, y_train)\n",
    "\n",
    "print(\"Train score =\", pipeline.score(X_train, y_train))\n",
    "print(\"Test score  =\", pipeline.score(X_test, y_test))"
   ]
  },
  {
   "cell_type": "code",
   "execution_count": 86,
   "metadata": {
    "scrolled": true
   },
   "outputs": [
    {
     "name": "stdout",
     "output_type": "stream",
     "text": [
      "Best score: 0.370\n",
      "\trfr__n_estimators: 60\n"
     ]
    },
    {
     "data": {
      "text/plain": [
       "0.5863500395494796"
      ]
     },
     "execution_count": 86,
     "metadata": {},
     "output_type": "execute_result"
    }
   ],
   "source": [
    "pipeline = Pipeline([\n",
    "    ('scaler', StandardScaler()),\n",
    "    ('rfr', RandomForestRegressor(random_state=0))\n",
    "])\n",
    "\n",
    "parameters = {\n",
    "    'rfr__n_estimators': range(20, 200, 20),\n",
    "}\n",
    "\n",
    "my_cv = RepeatedKFold(n_splits=2, n_repeats=10, random_state=0)\n",
    "\n",
    "best_ch4_model = GridSearchCV(pipeline, parameters, cv=my_cv, n_jobs=-1, scoring='r2') \n",
    "\n",
    "best_ch4_model.fit(X_train, y_train)\n",
    "\n",
    "print(\"Best score: %0.3f\" % best_ch4_model.best_score_)\n",
    "best_parameters = best_ch4_model.best_estimator_.get_params()\n",
    "for param_name in sorted(parameters.keys()):\n",
    "    print(\"\\t%s: %r\" % (param_name, best_parameters[param_name]))\n",
    "\n",
    "best_ch4_model.best_estimator_.score(X_test, y_test)"
   ]
  },
  {
   "cell_type": "markdown",
   "metadata": {},
   "source": [
    "## Use this model to predict CH4 emissions in USA dataset"
   ]
  },
  {
   "cell_type": "code",
   "execution_count": 87,
   "metadata": {},
   "outputs": [],
   "source": [
    "present = pd.read_csv('data_predict/merged_PRESENT.csv')\n",
    "best_case = pd.read_csv('data_predict/merged_2100ssp126.csv')\n",
    "worst_case = pd.read_csv('data_predict/merged_2100ssp585.csv')"
   ]
  },
  {
   "cell_type": "code",
   "execution_count": 88,
   "metadata": {
    "scrolled": true
   },
   "outputs": [
    {
     "name": "stdout",
     "output_type": "stream",
     "text": [
      "Age : 0\n",
      "org_c : 0\n",
      "temp_annual_avg : 0\n",
      "temp_diff_summer_winter_lc : 0\n",
      "NDVI_annual_avg : 0\n",
      "npp_annual_avg : 33\n",
      "erosion : 0\n",
      "precip : 0\n"
     ]
    }
   ],
   "source": [
    "for column in present[features]:\n",
    "    print(column, ':',  present[features][column].isna().sum())"
   ]
  },
  {
   "cell_type": "code",
   "execution_count": 89,
   "metadata": {},
   "outputs": [],
   "source": [
    "present['npp_annual_avg'] = present['npp_annual_avg'].fillna(present['npp_annual_avg'].mean())\n",
    "best_case['npp_annual_avg'] = best_case['npp_annual_avg'].fillna(best_case['npp_annual_avg'].mean())\n",
    "worst_case['npp_annual_avg'] = worst_case['npp_annual_avg'].fillna(worst_case['npp_annual_avg'].mean())"
   ]
  },
  {
   "cell_type": "code",
   "execution_count": 90,
   "metadata": {},
   "outputs": [],
   "source": [
    "present['ch4_emissions_logscale'] = best_ch4_model.predict(present[features])\n",
    "best_case['ch4_emissions_logscale'] = best_ch4_model.predict(best_case[features])\n",
    "worst_case['ch4_emissions_logscale'] = best_ch4_model.predict(worst_case[features])"
   ]
  },
  {
   "cell_type": "code",
   "execution_count": 91,
   "metadata": {},
   "outputs": [],
   "source": [
    "present['ch4_emissions'] = 10**present['ch4_emissions_logscale']\n",
    "best_case['ch4_emissions'] = 10**best_case['ch4_emissions_logscale']\n",
    "worst_case['ch4_emissions'] = 10**worst_case['ch4_emissions_logscale']"
   ]
  },
  {
   "cell_type": "code",
   "execution_count": 92,
   "metadata": {},
   "outputs": [],
   "source": [
    "present.to_csv('data_predict/merged_PRESENT_ch4predicted.csv')\n",
    "best_case.to_csv('data_predict/merged_2100ssp126_ch4predicted.csv')\n",
    "worst_case.to_csv('data_predict/merged_2100ssp585_ch4predicted.csv')"
   ]
  },
  {
   "cell_type": "code",
   "execution_count": 93,
   "metadata": {},
   "outputs": [
    {
     "data": {
      "text/plain": [
       "684.0259643086779"
      ]
     },
     "execution_count": 93,
     "metadata": {},
     "output_type": "execute_result"
    }
   ],
   "source": [
    "present['ch4_emissions'].median()"
   ]
  },
  {
   "cell_type": "code",
   "execution_count": 94,
   "metadata": {},
   "outputs": [
    {
     "data": {
      "text/plain": [
       "796.3405983030921"
      ]
     },
     "execution_count": 94,
     "metadata": {},
     "output_type": "execute_result"
    }
   ],
   "source": [
    "best_case['ch4_emissions'].median()"
   ]
  },
  {
   "cell_type": "code",
   "execution_count": 95,
   "metadata": {},
   "outputs": [
    {
     "data": {
      "text/plain": [
       "1486.70566558934"
      ]
     },
     "execution_count": 95,
     "metadata": {},
     "output_type": "execute_result"
    }
   ],
   "source": [
    "worst_case['ch4_emissions'].median()"
   ]
  },
  {
   "cell_type": "code",
   "execution_count": null,
   "metadata": {},
   "outputs": [],
   "source": []
  }
 ],
 "metadata": {
  "kernelspec": {
   "display_name": "Python 3",
   "language": "python",
   "name": "python3"
  },
  "language_info": {
   "codemirror_mode": {
    "name": "ipython",
    "version": 3
   },
   "file_extension": ".py",
   "mimetype": "text/x-python",
   "name": "python",
   "nbconvert_exporter": "python",
   "pygments_lexer": "ipython3",
   "version": "3.7.6"
  }
 },
 "nbformat": 4,
 "nbformat_minor": 4
}
