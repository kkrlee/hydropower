{
 "cells": [
  {
   "cell_type": "code",
   "execution_count": 4,
   "metadata": {},
   "outputs": [],
   "source": [
    "%matplotlib inline\n",
    "import matplotlib.pyplot as plt\n",
    "import numpy as np\n",
    "import pandas as pd\n",
    "\n",
    "from sklearn.ensemble import GradientBoostingRegressor, RandomForestRegressor\n",
    "from sklearn.model_selection import GridSearchCV, LeaveOneOut, LeavePOut, RepeatedKFold, train_test_split\n",
    "from sklearn.neighbors import KNeighborsRegressor\n",
    "from sklearn.pipeline import Pipeline\n",
    "from sklearn.preprocessing import RobustScaler, StandardScaler # robust_scale\n",
    "from sklearn.svm import SVR"
   ]
  },
  {
   "cell_type": "code",
   "execution_count": 5,
   "metadata": {},
   "outputs": [],
   "source": [
    "raw = pd.read_csv('data/training_final_latcorr.csv')"
   ]
  },
  {
   "cell_type": "code",
   "execution_count": 6,
   "metadata": {},
   "outputs": [
    {
     "name": "stdout",
     "output_type": "stream",
     "text": [
      "raw.shape   = (154, 44)\n",
      "clean.shape = (154, 9)\n"
     ]
    }
   ],
   "source": [
    "co2_raw_cols = [\n",
    "    'CO2 (mg C m¯² d¯¹)',\n",
    "    'Age', \n",
    "    'org_c', \n",
    "    'temp_annual_avg',\n",
    "    'temp_diff_summer_winter_lc', \n",
    "    'NDVI_annual_avg', \n",
    "    'npp_annual_avg', \n",
    "    'erosion',\n",
    "    'precip'\n",
    "]\n",
    "\n",
    "clean = raw[co2_raw_cols].copy()\n",
    "\n",
    "print(\"raw.shape   =\", raw.shape)\n",
    "print(\"clean.shape =\", clean.shape)"
   ]
  },
  {
   "cell_type": "code",
   "execution_count": 7,
   "metadata": {},
   "outputs": [
    {
     "name": "stderr",
     "output_type": "stream",
     "text": [
      "/Users/estep/opt/anaconda3/lib/python3.7/site-packages/pandas/core/series.py:679: RuntimeWarning: invalid value encountered in log\n",
      "  result = getattr(ufunc, method)(*inputs, **kwargs)\n"
     ]
    }
   ],
   "source": [
    "clean['log_co2_emissions'] = np.log(clean['CO2 (mg C m¯² d¯¹)'])\n"
   ]
  },
  {
   "cell_type": "code",
   "execution_count": 8,
   "metadata": {},
   "outputs": [
    {
     "data": {
      "text/plain": [
       "(120, 10)"
      ]
     },
     "execution_count": 8,
     "metadata": {},
     "output_type": "execute_result"
    }
   ],
   "source": [
    "reduced = clean.dropna()\n",
    "reduced.shape"
   ]
  },
  {
   "cell_type": "code",
   "execution_count": 16,
   "metadata": {},
   "outputs": [
    {
     "data": {
      "text/html": [
       "<div>\n",
       "<style scoped>\n",
       "    .dataframe tbody tr th:only-of-type {\n",
       "        vertical-align: middle;\n",
       "    }\n",
       "\n",
       "    .dataframe tbody tr th {\n",
       "        vertical-align: top;\n",
       "    }\n",
       "\n",
       "    .dataframe thead th {\n",
       "        text-align: right;\n",
       "    }\n",
       "</style>\n",
       "<table border=\"1\" class=\"dataframe\">\n",
       "  <thead>\n",
       "    <tr style=\"text-align: right;\">\n",
       "      <th></th>\n",
       "      <th>CO2 (mg C m¯² d¯¹)</th>\n",
       "      <th>Age</th>\n",
       "      <th>org_c</th>\n",
       "      <th>temp_annual_avg</th>\n",
       "      <th>temp_diff_summer_winter_lc</th>\n",
       "      <th>NDVI_annual_avg</th>\n",
       "      <th>npp_annual_avg</th>\n",
       "      <th>erosion</th>\n",
       "      <th>precip</th>\n",
       "      <th>log_co2_emissions</th>\n",
       "    </tr>\n",
       "  </thead>\n",
       "  <tbody>\n",
       "    <tr>\n",
       "      <th>count</th>\n",
       "      <td>120.000000</td>\n",
       "      <td>120.000000</td>\n",
       "      <td>120.000000</td>\n",
       "      <td>120.000000</td>\n",
       "      <td>120.000000</td>\n",
       "      <td>120.000000</td>\n",
       "      <td>120.000000</td>\n",
       "      <td>120.000000</td>\n",
       "      <td>120.000000</td>\n",
       "      <td>120.000000</td>\n",
       "    </tr>\n",
       "    <tr>\n",
       "      <th>mean</th>\n",
       "      <td>617.940000</td>\n",
       "      <td>34.691667</td>\n",
       "      <td>71.589661</td>\n",
       "      <td>10.094683</td>\n",
       "      <td>16.874590</td>\n",
       "      <td>177.953472</td>\n",
       "      <td>97.432639</td>\n",
       "      <td>4.288679</td>\n",
       "      <td>636.758333</td>\n",
       "      <td>5.922503</td>\n",
       "    </tr>\n",
       "    <tr>\n",
       "      <th>std</th>\n",
       "      <td>626.375194</td>\n",
       "      <td>25.116132</td>\n",
       "      <td>41.278424</td>\n",
       "      <td>11.020708</td>\n",
       "      <td>12.132600</td>\n",
       "      <td>51.338768</td>\n",
       "      <td>28.637932</td>\n",
       "      <td>10.112684</td>\n",
       "      <td>290.828229</td>\n",
       "      <td>1.136253</td>\n",
       "    </tr>\n",
       "    <tr>\n",
       "      <th>min</th>\n",
       "      <td>12.300000</td>\n",
       "      <td>1.000000</td>\n",
       "      <td>6.547675</td>\n",
       "      <td>-5.253000</td>\n",
       "      <td>-0.937332</td>\n",
       "      <td>93.416664</td>\n",
       "      <td>50.666668</td>\n",
       "      <td>0.000198</td>\n",
       "      <td>258.000000</td>\n",
       "      <td>2.509599</td>\n",
       "    </tr>\n",
       "    <tr>\n",
       "      <th>25%</th>\n",
       "      <td>204.700000</td>\n",
       "      <td>14.750000</td>\n",
       "      <td>41.144838</td>\n",
       "      <td>1.176167</td>\n",
       "      <td>3.863999</td>\n",
       "      <td>136.750000</td>\n",
       "      <td>77.916664</td>\n",
       "      <td>0.029740</td>\n",
       "      <td>391.000000</td>\n",
       "      <td>5.321043</td>\n",
       "    </tr>\n",
       "    <tr>\n",
       "      <th>50%</th>\n",
       "      <td>383.850000</td>\n",
       "      <td>28.500000</td>\n",
       "      <td>59.661419</td>\n",
       "      <td>4.404000</td>\n",
       "      <td>20.368001</td>\n",
       "      <td>169.500000</td>\n",
       "      <td>93.333336</td>\n",
       "      <td>0.124527</td>\n",
       "      <td>585.000000</td>\n",
       "      <td>5.950252</td>\n",
       "    </tr>\n",
       "    <tr>\n",
       "      <th>75%</th>\n",
       "      <td>836.175000</td>\n",
       "      <td>46.250000</td>\n",
       "      <td>90.360537</td>\n",
       "      <td>22.435501</td>\n",
       "      <td>29.009666</td>\n",
       "      <td>229.291668</td>\n",
       "      <td>115.333334</td>\n",
       "      <td>1.121719</td>\n",
       "      <td>798.000000</td>\n",
       "      <td>6.728815</td>\n",
       "    </tr>\n",
       "    <tr>\n",
       "      <th>max</th>\n",
       "      <td>3800.000000</td>\n",
       "      <td>95.000000</td>\n",
       "      <td>177.533341</td>\n",
       "      <td>26.893333</td>\n",
       "      <td>33.606668</td>\n",
       "      <td>255.000000</td>\n",
       "      <td>200.500000</td>\n",
       "      <td>45.775703</td>\n",
       "      <td>1510.000000</td>\n",
       "      <td>8.242756</td>\n",
       "    </tr>\n",
       "  </tbody>\n",
       "</table>\n",
       "</div>"
      ],
      "text/plain": [
       "       CO2 (mg C m¯² d¯¹)         Age       org_c  temp_annual_avg  \\\n",
       "count          120.000000  120.000000  120.000000       120.000000   \n",
       "mean           617.940000   34.691667   71.589661        10.094683   \n",
       "std            626.375194   25.116132   41.278424        11.020708   \n",
       "min             12.300000    1.000000    6.547675        -5.253000   \n",
       "25%            204.700000   14.750000   41.144838         1.176167   \n",
       "50%            383.850000   28.500000   59.661419         4.404000   \n",
       "75%            836.175000   46.250000   90.360537        22.435501   \n",
       "max           3800.000000   95.000000  177.533341        26.893333   \n",
       "\n",
       "       temp_diff_summer_winter_lc  NDVI_annual_avg  npp_annual_avg  \\\n",
       "count                  120.000000       120.000000      120.000000   \n",
       "mean                    16.874590       177.953472       97.432639   \n",
       "std                     12.132600        51.338768       28.637932   \n",
       "min                     -0.937332        93.416664       50.666668   \n",
       "25%                      3.863999       136.750000       77.916664   \n",
       "50%                     20.368001       169.500000       93.333336   \n",
       "75%                     29.009666       229.291668      115.333334   \n",
       "max                     33.606668       255.000000      200.500000   \n",
       "\n",
       "          erosion       precip  log_co2_emissions  \n",
       "count  120.000000   120.000000         120.000000  \n",
       "mean     4.288679   636.758333           5.922503  \n",
       "std     10.112684   290.828229           1.136253  \n",
       "min      0.000198   258.000000           2.509599  \n",
       "25%      0.029740   391.000000           5.321043  \n",
       "50%      0.124527   585.000000           5.950252  \n",
       "75%      1.121719   798.000000           6.728815  \n",
       "max     45.775703  1510.000000           8.242756  "
      ]
     },
     "execution_count": 16,
     "metadata": {},
     "output_type": "execute_result"
    }
   ],
   "source": [
    "reduced.describe()\n"
   ]
  },
  {
   "cell_type": "code",
   "execution_count": 17,
   "metadata": {},
   "outputs": [],
   "source": [
    "#target = 'CO2 (mg C m¯² d¯¹)'\n",
    "target = 'log_co2_emissions'\n",
    "\n",
    "features = ['Age', 'org_c', 'temp_annual_avg', 'temp_diff_summer_winter_lc', \n",
    "            'NDVI_annual_avg', 'npp_annual_avg', 'erosion', 'precip']\n",
    "\n",
    "X = reduced[features]\n",
    "y = reduced[target]"
   ]
  },
  {
   "cell_type": "code",
   "execution_count": 18,
   "metadata": {},
   "outputs": [],
   "source": [
    "X_train, X_test, y_train, y_test = train_test_split(X, y, test_size=0.25, random_state=0)"
   ]
  },
  {
   "cell_type": "code",
   "execution_count": 19,
   "metadata": {},
   "outputs": [
    {
     "name": "stdout",
     "output_type": "stream",
     "text": [
      "X_train.shape = (90, 8)\n",
      "X_test.shape  = (30, 8)\n",
      "y_train.shape = (90,)\n",
      "y_test.shape  = (30,)\n"
     ]
    }
   ],
   "source": [
    "print(\"X_train.shape =\", X_train.shape)\n",
    "print(\"X_test.shape  =\", X_test.shape)\n",
    "print(\"y_train.shape =\", y_train.shape)\n",
    "print(\"y_test.shape  =\", y_test.shape)"
   ]
  },
  {
   "cell_type": "code",
   "execution_count": 9,
   "metadata": {},
   "outputs": [
    {
     "name": "stdout",
     "output_type": "stream",
     "text": [
      "Train score = 0.6089452371310761\n",
      "Test score  = 0.49710373213557973\n"
     ]
    }
   ],
   "source": [
    "pipeline = Pipeline([\n",
    "    ('scaler', StandardScaler()),\n",
    "    ('knr', KNeighborsRegressor())\n",
    "])\n",
    "\n",
    "pipeline.fit(X_train, y_train)\n",
    "\n",
    "print(\"Train score =\", pipeline.score(X_train, y_train))\n",
    "print(\"Test score  =\", pipeline.score(X_test, y_test))"
   ]
  },
  {
   "cell_type": "code",
   "execution_count": 11,
   "metadata": {
    "scrolled": true
   },
   "outputs": [
    {
     "name": "stdout",
     "output_type": "stream",
     "text": [
      "Best score: 0.245\n",
      "\tknr__n_neighbors: 5\n",
      "\tknr__weights: 'distance'\n"
     ]
    },
    {
     "data": {
      "text/plain": [
       "0.6083936912199917"
      ]
     },
     "execution_count": 11,
     "metadata": {},
     "output_type": "execute_result"
    }
   ],
   "source": [
    "parameters = {\n",
    "    'knr__n_neighbors': range(1, round(len(y_train) / 2)),\n",
    "    'knr__weights': ['uniform', 'distance']\n",
    "}\n",
    "\n",
    "my_cv = RepeatedKFold(n_splits=2, n_repeats=10, random_state=0)\n",
    "\n",
    "best_co2_model = GridSearchCV(pipeline, parameters, cv=my_cv, n_jobs=-1, scoring='r2') \n",
    "\n",
    "best_co2_model.fit(X_train, y_train)\n",
    "\n",
    "print(\"Best score: %0.3f\" % best_co2_model.best_score_)\n",
    "best_parameters = best_co2_model.best_estimator_.get_params()\n",
    "for param_name in sorted(parameters.keys()):\n",
    "    print(\"\\t%s: %r\" % (param_name, best_parameters[param_name]))\n",
    "\n",
    "best_co2_model.best_estimator_.score(X_test, y_test)"
   ]
  },
  {
   "cell_type": "markdown",
   "metadata": {},
   "source": [
    "## Use this model to predict CO2 emissions in USA dataset"
   ]
  },
  {
   "cell_type": "code",
   "execution_count": 56,
   "metadata": {},
   "outputs": [],
   "source": [
    "present = pd.read_csv('../data_predict/merged_PRESENT.csv')\n",
    "best_case = pd.read_csv('../data_predict/merged_2100ssp126.csv')\n",
    "worst_case = pd.read_csv('../data_predict/merged_2100ssp585.csv')"
   ]
  },
  {
   "cell_type": "code",
   "execution_count": 57,
   "metadata": {
    "scrolled": true
   },
   "outputs": [
    {
     "name": "stdout",
     "output_type": "stream",
     "text": [
      "Age : 0\n",
      "org_c : 0\n",
      "temp_annual_avg : 0\n",
      "temp_diff_summer_winter_lc : 0\n",
      "NDVI_annual_avg : 0\n",
      "npp_annual_avg : 33\n",
      "erosion : 0\n",
      "precip : 0\n"
     ]
    }
   ],
   "source": [
    "for column in present[features]:\n",
    "    print(column, ':',  present[features][column].isna().sum())"
   ]
  },
  {
   "cell_type": "code",
   "execution_count": 58,
   "metadata": {},
   "outputs": [],
   "source": [
    "present['npp_annual_avg'] = present['npp_annual_avg'].fillna(present['npp_annual_avg'].mean())\n",
    "best_case['npp_annual_avg'] = best_case['npp_annual_avg'].fillna(best_case['npp_annual_avg'].mean())\n",
    "worst_case['npp_annual_avg'] = worst_case['npp_annual_avg'].fillna(worst_case['npp_annual_avg'].mean())"
   ]
  },
  {
   "cell_type": "code",
   "execution_count": 59,
   "metadata": {},
   "outputs": [],
   "source": [
    "present['co2_emissions_logscale'] = best_co2_model.predict(present[features])\n",
    "best_case['co2_emissions_logscale'] = best_co2_model.predict(best_case[features])\n",
    "worst_case['co2_emissions_logscale'] = best_co2_model.predict(worst_case[features])"
   ]
  },
  {
   "cell_type": "code",
   "execution_count": 60,
   "metadata": {},
   "outputs": [],
   "source": [
    "present['co2_emissions'] = 10**present['co2_emissions_logscale']\n",
    "best_case['co2_emissions'] = 10**best_case['co2_emissions_logscale']\n",
    "worst_case['co2_emissions'] = 10**worst_case['co2_emissions_logscale']"
   ]
  },
  {
   "cell_type": "code",
   "execution_count": 66,
   "metadata": {},
   "outputs": [],
   "source": [
    "present.to_csv('../data_predict/merged_PRESENT_co2predicted.csv')\n",
    "best_case.to_csv('../data_predict/merged_2100ssp126_co2predicted.csv')\n",
    "worst_case.to_csv('../data_predict/merged_2100ssp585_co2predicted.csv')"
   ]
  },
  {
   "cell_type": "code",
   "execution_count": 70,
   "metadata": {},
   "outputs": [
    {
     "data": {
      "text/plain": [
       "148721.69675618425"
      ]
     },
     "execution_count": 70,
     "metadata": {},
     "output_type": "execute_result"
    }
   ],
   "source": [
    "present['co2_emissions'].median()"
   ]
  },
  {
   "cell_type": "code",
   "execution_count": 71,
   "metadata": {},
   "outputs": [
    {
     "data": {
      "text/plain": [
       "168073.49382113252"
      ]
     },
     "execution_count": 71,
     "metadata": {},
     "output_type": "execute_result"
    }
   ],
   "source": [
    "best_case['co2_emissions'].median()"
   ]
  },
  {
   "cell_type": "code",
   "execution_count": 72,
   "metadata": {},
   "outputs": [
    {
     "data": {
      "text/plain": [
       "201921.0311567986"
      ]
     },
     "execution_count": 72,
     "metadata": {},
     "output_type": "execute_result"
    }
   ],
   "source": [
    "worst_case['co2_emissions'].median()"
   ]
  },
  {
   "cell_type": "code",
   "execution_count": null,
   "metadata": {},
   "outputs": [],
   "source": []
  }
 ],
 "metadata": {
  "kernelspec": {
   "display_name": "Python 3",
   "language": "python",
   "name": "python3"
  },
  "language_info": {
   "codemirror_mode": {
    "name": "ipython",
    "version": 3
   },
   "file_extension": ".py",
   "mimetype": "text/x-python",
   "name": "python",
   "nbconvert_exporter": "python",
   "pygments_lexer": "ipython3",
   "version": "3.7.6"
  }
 },
 "nbformat": 4,
 "nbformat_minor": 4
}
