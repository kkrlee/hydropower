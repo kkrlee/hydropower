{
 "cells": [
  {
   "cell_type": "code",
   "execution_count": 1,
   "metadata": {},
   "outputs": [],
   "source": [
    "%matplotlib inline\n",
    "import pandas as pd\n",
    "import numpy as np\n",
    "import matplotlib.pyplot as plt\n",
    "import seaborn as sns"
   ]
  },
  {
   "cell_type": "code",
   "execution_count": 2,
   "metadata": {},
   "outputs": [],
   "source": [
    "df = pd.read_csv('../elena/data/training_final_latcorr.csv')"
   ]
  },
  {
   "cell_type": "code",
   "execution_count": 3,
   "metadata": {},
   "outputs": [],
   "source": [
    "df['kWh'] = df['Area_km2'] / df['Area / Electricity']\n",
    "df = df.drop(['Longitude', 'Latitude','CO2 (g/kWh)', 'CH4 (g/kWh)', 'Area / Electricity', 'Name', 'field_1',\n",
    "              'temp_spring_avg', 'temp_summer_avg', 'temp_fall_avg', 'temp_winter_avg', \n",
    "              'NDVI_spring_avg', 'NDVI_summer_avg', 'NDVI_fall_avg', 'NDVI_winter_avg', \n",
    "              'npp_spring_avg' , 'npp_summer_avg' , 'npp_fall_avg' , 'npp_winter_avg'], axis=1)"
   ]
  },
  {
   "cell_type": "code",
   "execution_count": 4,
   "metadata": {},
   "outputs": [
    {
     "data": {
      "text/plain": [
       "Index(['CO2 (mg C m¯² d¯¹)', 'CH4 (mg C m-2 d-1)', 'Area_km2', 'Age',\n",
       "       'Volume_km3', 'Areakm2_div_Volkm3', 'org_c', 'temp_annual_avg',\n",
       "       'temp_spring_avg_lc', 'temp_summer_avg_lc', 'temp_fall_avg_lc',\n",
       "       'temp_winter_avg_lc', 'NDVI_annual_avg', 'NDVI_spring_avg_lc',\n",
       "       'NDVI_summer_avg_lc', 'NDVI_fall_avg_lc', 'NDVI_winter_avg_lc',\n",
       "       'npp_annual_avg', 'npp_spring_avg_lc', 'npp_summer_avg_lc',\n",
       "       'npp_fall_avg_lc', 'npp_winter_avg_lc', 'erosion', 'kWh'],\n",
       "      dtype='object')"
      ]
     },
     "execution_count": 4,
     "metadata": {},
     "output_type": "execute_result"
    }
   ],
   "source": [
    "df.columns"
   ]
  },
  {
   "cell_type": "code",
   "execution_count": 5,
   "metadata": {},
   "outputs": [
    {
     "data": {
      "text/plain": [
       "(154, 24)"
      ]
     },
     "execution_count": 5,
     "metadata": {},
     "output_type": "execute_result"
    }
   ],
   "source": [
    "df.shape"
   ]
  },
  {
   "cell_type": "code",
   "execution_count": 6,
   "metadata": {},
   "outputs": [],
   "source": [
    "ch4 = df.drop(['CO2 (mg C m¯² d¯¹)'], axis=1)\n",
    "ch4 = ch4[ch4['CH4 (mg C m-2 d-1)'].notna()]"
   ]
  },
  {
   "cell_type": "code",
   "execution_count": 7,
   "metadata": {},
   "outputs": [
    {
     "data": {
      "text/plain": [
       "Index(['CH4 (mg C m-2 d-1)', 'Area_km2', 'Age', 'Volume_km3',\n",
       "       'Areakm2_div_Volkm3', 'org_c', 'temp_annual_avg', 'temp_spring_avg_lc',\n",
       "       'temp_summer_avg_lc', 'temp_fall_avg_lc', 'temp_winter_avg_lc',\n",
       "       'NDVI_annual_avg', 'NDVI_spring_avg_lc', 'NDVI_summer_avg_lc',\n",
       "       'NDVI_fall_avg_lc', 'NDVI_winter_avg_lc', 'npp_annual_avg',\n",
       "       'npp_spring_avg_lc', 'npp_summer_avg_lc', 'npp_fall_avg_lc',\n",
       "       'npp_winter_avg_lc', 'erosion', 'kWh'],\n",
       "      dtype='object')"
      ]
     },
     "execution_count": 7,
     "metadata": {},
     "output_type": "execute_result"
    }
   ],
   "source": [
    "ch4.columns"
   ]
  },
  {
   "cell_type": "code",
   "execution_count": 8,
   "metadata": {},
   "outputs": [],
   "source": [
    "from sklearn.impute import KNNImputer\n",
    "model_impute = KNNImputer(n_neighbors=int(np.sqrt(ch4.shape[0])))\n",
    "ch4_imputed = model_impute.fit_transform(ch4)"
   ]
  },
  {
   "cell_type": "code",
   "execution_count": 9,
   "metadata": {},
   "outputs": [],
   "source": [
    "ch4_imputed = pd.DataFrame(columns=ch4.columns, data=ch4_imputed)"
   ]
  },
  {
   "cell_type": "code",
   "execution_count": 10,
   "metadata": {},
   "outputs": [
    {
     "name": "stdout",
     "output_type": "stream",
     "text": [
      "CH4 (mg C m-2 d-1) : 0\n",
      "Area_km2 : 0\n",
      "Age : 0\n",
      "Volume_km3 : 0\n",
      "Areakm2_div_Volkm3 : 0\n",
      "org_c : 0\n",
      "temp_annual_avg : 0\n",
      "temp_spring_avg_lc : 0\n",
      "temp_summer_avg_lc : 0\n",
      "temp_fall_avg_lc : 0\n",
      "temp_winter_avg_lc : 0\n",
      "NDVI_annual_avg : 0\n",
      "NDVI_spring_avg_lc : 0\n",
      "NDVI_summer_avg_lc : 0\n",
      "NDVI_fall_avg_lc : 0\n",
      "NDVI_winter_avg_lc : 0\n",
      "npp_annual_avg : 0\n",
      "npp_spring_avg_lc : 0\n",
      "npp_summer_avg_lc : 0\n",
      "npp_fall_avg_lc : 0\n",
      "npp_winter_avg_lc : 0\n",
      "erosion : 0\n",
      "kWh : 0\n"
     ]
    }
   ],
   "source": [
    "for column in ch4_imputed:\n",
    "    print(column, ':',  ch4_imputed[column].isna().sum())"
   ]
  },
  {
   "cell_type": "code",
   "execution_count": 11,
   "metadata": {},
   "outputs": [],
   "source": [
    "from sklearn.preprocessing import StandardScaler\n",
    "data = ch4_imputed.drop(['CH4 (mg C m-2 d-1)'], axis=1).copy()\n",
    "scaler = StandardScaler()\n",
    "ch4_scaled = pd.DataFrame(scaler.fit_transform(data),columns=ch4.columns[1:])"
   ]
  },
  {
   "cell_type": "code",
   "execution_count": 12,
   "metadata": {},
   "outputs": [],
   "source": [
    "%matplotlib inline\n",
    "import pandas as pd\n",
    "import numpy as np\n",
    "import matplotlib.pyplot as plt\n",
    "import seaborn as sns"
   ]
  },
  {
   "cell_type": "code",
   "execution_count": 13,
   "metadata": {},
   "outputs": [],
   "source": [
    "df = pd.read_csv('../elena/data/training_final_latcorr.csv')"
   ]
  },
  {
   "cell_type": "code",
   "execution_count": 14,
   "metadata": {},
   "outputs": [],
   "source": [
    "df['kWh'] = df['Area_km2'] / df['Area / Electricity']\n",
    "df = df.drop(['Longitude', 'Latitude','CO2 (g/kWh)', 'CH4 (g/kWh)', 'Area / Electricity', 'Name', 'field_1',\n",
    "              'temp_spring_avg', 'temp_summer_avg', 'temp_fall_avg', 'temp_winter_avg', \n",
    "              'NDVI_spring_avg', 'NDVI_summer_avg', 'NDVI_fall_avg', 'NDVI_winter_avg', \n",
    "              'npp_spring_avg' , 'npp_summer_avg' , 'npp_fall_avg' , 'npp_winter_avg'], axis=1)"
   ]
  },
  {
   "cell_type": "code",
   "execution_count": 15,
   "metadata": {},
   "outputs": [
    {
     "data": {
      "text/plain": [
       "Index(['CO2 (mg C m¯² d¯¹)', 'CH4 (mg C m-2 d-1)', 'Area_km2', 'Age',\n",
       "       'Volume_km3', 'Areakm2_div_Volkm3', 'org_c', 'temp_annual_avg',\n",
       "       'temp_spring_avg_lc', 'temp_summer_avg_lc', 'temp_fall_avg_lc',\n",
       "       'temp_winter_avg_lc', 'NDVI_annual_avg', 'NDVI_spring_avg_lc',\n",
       "       'NDVI_summer_avg_lc', 'NDVI_fall_avg_lc', 'NDVI_winter_avg_lc',\n",
       "       'npp_annual_avg', 'npp_spring_avg_lc', 'npp_summer_avg_lc',\n",
       "       'npp_fall_avg_lc', 'npp_winter_avg_lc', 'erosion', 'kWh'],\n",
       "      dtype='object')"
      ]
     },
     "execution_count": 15,
     "metadata": {},
     "output_type": "execute_result"
    }
   ],
   "source": [
    "df.columns"
   ]
  },
  {
   "cell_type": "code",
   "execution_count": 16,
   "metadata": {},
   "outputs": [
    {
     "data": {
      "text/plain": [
       "(154, 24)"
      ]
     },
     "execution_count": 16,
     "metadata": {},
     "output_type": "execute_result"
    }
   ],
   "source": [
    "df.shape"
   ]
  },
  {
   "cell_type": "code",
   "execution_count": 17,
   "metadata": {},
   "outputs": [],
   "source": [
    "ch4 = df.drop(['CO2 (mg C m¯² d¯¹)'], axis=1)\n",
    "ch4 = ch4[ch4['CH4 (mg C m-2 d-1)'].notna()]"
   ]
  },
  {
   "cell_type": "code",
   "execution_count": 18,
   "metadata": {},
   "outputs": [
    {
     "data": {
      "text/plain": [
       "Index(['CH4 (mg C m-2 d-1)', 'Area_km2', 'Age', 'Volume_km3',\n",
       "       'Areakm2_div_Volkm3', 'org_c', 'temp_annual_avg', 'temp_spring_avg_lc',\n",
       "       'temp_summer_avg_lc', 'temp_fall_avg_lc', 'temp_winter_avg_lc',\n",
       "       'NDVI_annual_avg', 'NDVI_spring_avg_lc', 'NDVI_summer_avg_lc',\n",
       "       'NDVI_fall_avg_lc', 'NDVI_winter_avg_lc', 'npp_annual_avg',\n",
       "       'npp_spring_avg_lc', 'npp_summer_avg_lc', 'npp_fall_avg_lc',\n",
       "       'npp_winter_avg_lc', 'erosion', 'kWh'],\n",
       "      dtype='object')"
      ]
     },
     "execution_count": 18,
     "metadata": {},
     "output_type": "execute_result"
    }
   ],
   "source": [
    "ch4.columns"
   ]
  },
  {
   "cell_type": "code",
   "execution_count": 19,
   "metadata": {},
   "outputs": [],
   "source": [
    "from sklearn.impute import KNNImputer\n",
    "model_impute = KNNImputer(n_neighbors=int(np.sqrt(ch4.shape[0])))\n",
    "ch4_imputed = model_impute.fit_transform(ch4)"
   ]
  },
  {
   "cell_type": "code",
   "execution_count": 20,
   "metadata": {},
   "outputs": [],
   "source": [
    "ch4_imputed = pd.DataFrame(columns=ch4.columns, data=ch4_imputed)"
   ]
  },
  {
   "cell_type": "code",
   "execution_count": 21,
   "metadata": {},
   "outputs": [
    {
     "name": "stdout",
     "output_type": "stream",
     "text": [
      "CH4 (mg C m-2 d-1) : 0\n",
      "Area_km2 : 0\n",
      "Age : 0\n",
      "Volume_km3 : 0\n",
      "Areakm2_div_Volkm3 : 0\n",
      "org_c : 0\n",
      "temp_annual_avg : 0\n",
      "temp_spring_avg_lc : 0\n",
      "temp_summer_avg_lc : 0\n",
      "temp_fall_avg_lc : 0\n",
      "temp_winter_avg_lc : 0\n",
      "NDVI_annual_avg : 0\n",
      "NDVI_spring_avg_lc : 0\n",
      "NDVI_summer_avg_lc : 0\n",
      "NDVI_fall_avg_lc : 0\n",
      "NDVI_winter_avg_lc : 0\n",
      "npp_annual_avg : 0\n",
      "npp_spring_avg_lc : 0\n",
      "npp_summer_avg_lc : 0\n",
      "npp_fall_avg_lc : 0\n",
      "npp_winter_avg_lc : 0\n",
      "erosion : 0\n",
      "kWh : 0\n"
     ]
    }
   ],
   "source": [
    "for column in ch4_imputed:\n",
    "    print(column, ':',  ch4_imputed[column].isna().sum())"
   ]
  },
  {
   "cell_type": "code",
   "execution_count": 22,
   "metadata": {},
   "outputs": [],
   "source": [
    "from sklearn.preprocessing import StandardScaler\n",
    "data = ch4_imputed.drop(['CH4 (mg C m-2 d-1)'], axis=1).copy()\n",
    "scaler = StandardScaler()\n",
    "ch4_scaled = pd.DataFrame(scaler.fit_transform(data),columns=ch4.columns[1:])"
   ]
  },
  {
   "cell_type": "markdown",
   "metadata": {},
   "source": [
    "# SVM"
   ]
  },
  {
   "cell_type": "code",
   "execution_count": 23,
   "metadata": {},
   "outputs": [],
   "source": [
    "X = ch4_scaled\n",
    "y = ch4['CH4 (mg C m-2 d-1)']"
   ]
  },
  {
   "cell_type": "code",
   "execution_count": 24,
   "metadata": {},
   "outputs": [],
   "source": [
    "from sklearn.model_selection import train_test_split\n",
    "from sklearn.linear_model import LinearRegression "
   ]
  },
  {
   "cell_type": "code",
   "execution_count": 25,
   "metadata": {},
   "outputs": [],
   "source": [
    "X_train, X_test, y_train, y_test = train_test_split(X, y, test_size = 0.2, random_state = 42)"
   ]
  },
  {
   "cell_type": "code",
   "execution_count": 26,
   "metadata": {},
   "outputs": [],
   "source": [
    "from sklearn.svm import SVR"
   ]
  },
  {
   "cell_type": "code",
   "execution_count": 27,
   "metadata": {},
   "outputs": [
    {
     "name": "stdout",
     "output_type": "stream",
     "text": [
      "0.26833377786315404\n",
      "[  -3.69600441  -19.57040235   -6.37834404   -1.5067939   -24.09351214\n",
      " 1061.84584217 -262.94813791 -285.59930869  106.15896628 -573.14644937\n",
      "   -9.83583363  -90.98053869   53.83557977  -22.23258693   97.66593977\n",
      " -170.7842906    84.06468313  101.37474312  -21.75564866   83.48490765\n",
      "    8.26850134  -28.12839469]\n"
     ]
    }
   ],
   "source": [
    "ols = LinearRegression()\n",
    "ols.fit(X,y)\n",
    "print(ols.score(X,y))\n",
    "print(ols.coef_)"
   ]
  },
  {
   "cell_type": "code",
   "execution_count": 28,
   "metadata": {},
   "outputs": [
    {
     "name": "stdout",
     "output_type": "stream",
     "text": [
      "-0.08586984700023015\n"
     ]
    }
   ],
   "source": [
    "svr = SVR(epsilon = 1e-4, gamma=1)\n",
    "svr.fit(X,y)\n",
    "print(svr.score(X,y))"
   ]
  },
  {
   "cell_type": "code",
   "execution_count": 29,
   "metadata": {},
   "outputs": [
    {
     "name": "stdout",
     "output_type": "stream",
     "text": [
      "train score: -0.1521765401829116\n",
      "test  score: -0.1697831459341248\n"
     ]
    }
   ],
   "source": [
    "print('train score:', svr.score(X_train, y_train))\n",
    "print('test  score:', svr.score(X_test, y_test))"
   ]
  },
  {
   "cell_type": "code",
   "execution_count": 30,
   "metadata": {},
   "outputs": [
    {
     "data": {
      "text/plain": [
       "SVR(kernel='linear')"
      ]
     },
     "execution_count": 30,
     "metadata": {},
     "output_type": "execute_result"
    }
   ],
   "source": [
    "linear_svr = SVR(kernel='linear')\n",
    "linear_svr.fit(X_train, y_train)"
   ]
  },
  {
   "cell_type": "code",
   "execution_count": 31,
   "metadata": {},
   "outputs": [
    {
     "name": "stdout",
     "output_type": "stream",
     "text": [
      "train score: 0.2419735087845294\n",
      "test  score: -0.06780066678559438\n"
     ]
    }
   ],
   "source": [
    "print('train score:', linear_svr.score(X_train, y_train))\n",
    "print('test  score:', linear_svr.score(X_test, y_test))"
   ]
  },
  {
   "cell_type": "code",
   "execution_count": 32,
   "metadata": {},
   "outputs": [
    {
     "data": {
      "text/html": [
       "<div>\n",
       "<style scoped>\n",
       "    .dataframe tbody tr th:only-of-type {\n",
       "        vertical-align: middle;\n",
       "    }\n",
       "\n",
       "    .dataframe tbody tr th {\n",
       "        vertical-align: top;\n",
       "    }\n",
       "\n",
       "    .dataframe thead th {\n",
       "        text-align: right;\n",
       "    }\n",
       "</style>\n",
       "<table border=\"1\" class=\"dataframe\">\n",
       "  <thead>\n",
       "    <tr style=\"text-align: right;\">\n",
       "      <th></th>\n",
       "      <th>0</th>\n",
       "    </tr>\n",
       "  </thead>\n",
       "  <tbody>\n",
       "    <tr>\n",
       "      <th>npp_fall_avg_lc</th>\n",
       "      <td>-6.236024</td>\n",
       "    </tr>\n",
       "    <tr>\n",
       "      <th>npp_summer_avg_lc</th>\n",
       "      <td>-4.196525</td>\n",
       "    </tr>\n",
       "    <tr>\n",
       "      <th>npp_annual_avg</th>\n",
       "      <td>-2.839714</td>\n",
       "    </tr>\n",
       "    <tr>\n",
       "      <th>org_c</th>\n",
       "      <td>-1.960108</td>\n",
       "    </tr>\n",
       "    <tr>\n",
       "      <th>Age</th>\n",
       "      <td>-1.567136</td>\n",
       "    </tr>\n",
       "    <tr>\n",
       "      <th>kWh</th>\n",
       "      <td>-1.552539</td>\n",
       "    </tr>\n",
       "    <tr>\n",
       "      <th>NDVI_spring_avg_lc</th>\n",
       "      <td>-1.190616</td>\n",
       "    </tr>\n",
       "    <tr>\n",
       "      <th>erosion</th>\n",
       "      <td>-0.678657</td>\n",
       "    </tr>\n",
       "    <tr>\n",
       "      <th>NDVI_annual_avg</th>\n",
       "      <td>-0.635477</td>\n",
       "    </tr>\n",
       "    <tr>\n",
       "      <th>NDVI_winter_avg_lc</th>\n",
       "      <td>-0.430098</td>\n",
       "    </tr>\n",
       "    <tr>\n",
       "      <th>npp_spring_avg_lc</th>\n",
       "      <td>-0.032405</td>\n",
       "    </tr>\n",
       "    <tr>\n",
       "      <th>npp_winter_avg_lc</th>\n",
       "      <td>0.198331</td>\n",
       "    </tr>\n",
       "    <tr>\n",
       "      <th>Area_km2</th>\n",
       "      <td>0.435055</td>\n",
       "    </tr>\n",
       "    <tr>\n",
       "      <th>NDVI_summer_avg_lc</th>\n",
       "      <td>0.525654</td>\n",
       "    </tr>\n",
       "    <tr>\n",
       "      <th>Volume_km3</th>\n",
       "      <td>0.691851</td>\n",
       "    </tr>\n",
       "    <tr>\n",
       "      <th>NDVI_fall_avg_lc</th>\n",
       "      <td>1.962619</td>\n",
       "    </tr>\n",
       "    <tr>\n",
       "      <th>temp_winter_avg_lc</th>\n",
       "      <td>3.918229</td>\n",
       "    </tr>\n",
       "    <tr>\n",
       "      <th>Areakm2_div_Volkm3</th>\n",
       "      <td>4.358503</td>\n",
       "    </tr>\n",
       "    <tr>\n",
       "      <th>temp_annual_avg</th>\n",
       "      <td>4.595872</td>\n",
       "    </tr>\n",
       "    <tr>\n",
       "      <th>temp_spring_avg_lc</th>\n",
       "      <td>4.786803</td>\n",
       "    </tr>\n",
       "    <tr>\n",
       "      <th>temp_summer_avg_lc</th>\n",
       "      <td>5.269955</td>\n",
       "    </tr>\n",
       "    <tr>\n",
       "      <th>temp_fall_avg_lc</th>\n",
       "      <td>5.705189</td>\n",
       "    </tr>\n",
       "  </tbody>\n",
       "</table>\n",
       "</div>"
      ],
      "text/plain": [
       "                           0\n",
       "npp_fall_avg_lc    -6.236024\n",
       "npp_summer_avg_lc  -4.196525\n",
       "npp_annual_avg     -2.839714\n",
       "org_c              -1.960108\n",
       "Age                -1.567136\n",
       "kWh                -1.552539\n",
       "NDVI_spring_avg_lc -1.190616\n",
       "erosion            -0.678657\n",
       "NDVI_annual_avg    -0.635477\n",
       "NDVI_winter_avg_lc -0.430098\n",
       "npp_spring_avg_lc  -0.032405\n",
       "npp_winter_avg_lc   0.198331\n",
       "Area_km2            0.435055\n",
       "NDVI_summer_avg_lc  0.525654\n",
       "Volume_km3          0.691851\n",
       "NDVI_fall_avg_lc    1.962619\n",
       "temp_winter_avg_lc  3.918229\n",
       "Areakm2_div_Volkm3  4.358503\n",
       "temp_annual_avg     4.595872\n",
       "temp_spring_avg_lc  4.786803\n",
       "temp_summer_avg_lc  5.269955\n",
       "temp_fall_avg_lc    5.705189"
      ]
     },
     "execution_count": 32,
     "metadata": {},
     "output_type": "execute_result"
    }
   ],
   "source": [
    "pd.DataFrame(columns=X_train.columns, data=linear_svr.coef_).T.sort_values(by=0)"
   ]
  },
  {
   "cell_type": "code",
   "execution_count": 33,
   "metadata": {},
   "outputs": [],
   "source": [
    "y_train_scaled = scaler.fit_transform(np.array(y_train).reshape(-1,1))\n",
    "y_test_scaled = scaler.fit_transform(np.array(y_test).reshape(-1,1))"
   ]
  },
  {
   "cell_type": "code",
   "execution_count": 34,
   "metadata": {},
   "outputs": [
    {
     "name": "stderr",
     "output_type": "stream",
     "text": [
      "C:\\Users\\kkrle\\anaconda3\\lib\\site-packages\\sklearn\\utils\\validation.py:73: DataConversionWarning: A column-vector y was passed when a 1d array was expected. Please change the shape of y to (n_samples, ), for example using ravel().\n",
      "  return f(**kwargs)\n"
     ]
    },
    {
     "data": {
      "text/plain": [
       "SVR(C=20)"
      ]
     },
     "execution_count": 34,
     "metadata": {},
     "output_type": "execute_result"
    }
   ],
   "source": [
    "svr_rbf_scaled = SVR(kernel='rbf', C=20)\n",
    "svr_rbf_scaled.fit(X_train, y_train_scaled)"
   ]
  },
  {
   "cell_type": "code",
   "execution_count": 36,
   "metadata": {},
   "outputs": [
    {
     "name": "stdout",
     "output_type": "stream",
     "text": [
      "train score: 0.8493929423116915\n",
      "test  score: -0.9805423178618526\n"
     ]
    }
   ],
   "source": [
    "print('train score:', svr_rbf_scaled.score(X_train, y_train_scaled))\n",
    "print('test  score:', svr_rbf_scaled.score(X_test, y_test_scaled))"
   ]
  },
  {
   "cell_type": "code",
   "execution_count": 38,
   "metadata": {},
   "outputs": [
    {
     "name": "stderr",
     "output_type": "stream",
     "text": [
      "C:\\Users\\kkrle\\anaconda3\\lib\\site-packages\\sklearn\\utils\\validation.py:73: DataConversionWarning: A column-vector y was passed when a 1d array was expected. Please change the shape of y to (n_samples, ), for example using ravel().\n",
      "  return f(**kwargs)\n"
     ]
    },
    {
     "data": {
      "text/plain": [
       "SVR(kernel='linear')"
      ]
     },
     "execution_count": 38,
     "metadata": {},
     "output_type": "execute_result"
    }
   ],
   "source": [
    "linear_rbf = SVR(kernel='linear')\n",
    "linear_rbf.fit(X_train, y_train_scaled)"
   ]
  },
  {
   "cell_type": "code",
   "execution_count": 39,
   "metadata": {},
   "outputs": [
    {
     "name": "stdout",
     "output_type": "stream",
     "text": [
      "train score: 0.3107937238415981\n",
      "test  score: 0.30146101253017954\n"
     ]
    }
   ],
   "source": [
    "print('train score:', linear_rbf.score(X_train, y_train_scaled))\n",
    "print('test  score:', linear_rbf.score(X_test, y_test_scaled))"
   ]
  },
  {
   "cell_type": "code",
   "execution_count": 41,
   "metadata": {},
   "outputs": [
    {
     "name": "stderr",
     "output_type": "stream",
     "text": [
      "C:\\Users\\kkrle\\anaconda3\\lib\\site-packages\\sklearn\\utils\\validation.py:73: DataConversionWarning: A column-vector y was passed when a 1d array was expected. Please change the shape of y to (n_samples, ), for example using ravel().\n",
      "  return f(**kwargs)\n"
     ]
    },
    {
     "data": {
      "text/plain": [
       "SVR(C=12, kernel='poly')"
      ]
     },
     "execution_count": 41,
     "metadata": {},
     "output_type": "execute_result"
    }
   ],
   "source": [
    "svr_poly = SVR(kernel='poly', C=12, degree=3)\n",
    "svr_poly.fit(X_train, y_train_scaled)"
   ]
  },
  {
   "cell_type": "code",
   "execution_count": 42,
   "metadata": {},
   "outputs": [
    {
     "name": "stdout",
     "output_type": "stream",
     "text": [
      "train score: 0.6171291057412776\n",
      "test  score: 0.18450664187581212\n"
     ]
    }
   ],
   "source": [
    "print('train score:', svr_poly.score(X_train, y_train_scaled))\n",
    "print('test  score:', svr_poly.score(X_test, y_test_scaled))"
   ]
  },
  {
   "cell_type": "code",
   "execution_count": 43,
   "metadata": {},
   "outputs": [
    {
     "name": "stderr",
     "output_type": "stream",
     "text": [
      "C:\\Users\\kkrle\\anaconda3\\lib\\site-packages\\sklearn\\utils\\validation.py:73: DataConversionWarning: A column-vector y was passed when a 1d array was expected. Please change the shape of y to (n_samples, ), for example using ravel().\n",
      "  return f(**kwargs)\n"
     ]
    },
    {
     "data": {
      "text/plain": [
       "SVR(kernel='sigmoid')"
      ]
     },
     "execution_count": 43,
     "metadata": {},
     "output_type": "execute_result"
    }
   ],
   "source": [
    "svr_sigmoid = SVR(kernel='sigmoid')\n",
    "svr_sigmoid.fit(X_train, y_train_scaled)"
   ]
  },
  {
   "cell_type": "code",
   "execution_count": 45,
   "metadata": {},
   "outputs": [
    {
     "name": "stdout",
     "output_type": "stream",
     "text": [
      "train score: -0.4944169815623336\n",
      "test  score: -1.1465305977678537\n"
     ]
    }
   ],
   "source": [
    "print('train score:', svr_sigmoid.score(X_train, y_train_scaled))\n",
    "print('test  score:', svr_sigmoid.score(X_test, y_test_scaled))"
   ]
  },
  {
   "cell_type": "code",
   "execution_count": null,
   "metadata": {},
   "outputs": [],
   "source": []
  }
 ],
 "metadata": {
  "kernelspec": {
   "display_name": "Python 3",
   "language": "python",
   "name": "python3"
  },
  "language_info": {
   "codemirror_mode": {
    "name": "ipython",
    "version": 3
   },
   "file_extension": ".py",
   "mimetype": "text/x-python",
   "name": "python",
   "nbconvert_exporter": "python",
   "pygments_lexer": "ipython3",
   "version": "3.8.3"
  },
  "latex_envs": {
   "LaTeX_envs_menu_present": true,
   "autoclose": false,
   "autocomplete": true,
   "bibliofile": "biblio.bib",
   "cite_by": "apalike",
   "current_citInitial": 1,
   "eqLabelWithNumbers": true,
   "eqNumInitial": 1,
   "hotkeys": {
    "equation": "Ctrl-E",
    "itemize": "Ctrl-I"
   },
   "labels_anchors": false,
   "latex_user_defs": false,
   "report_style_numbering": false,
   "user_envs_cfg": false
  },
  "toc": {
   "base_numbering": 1,
   "nav_menu": {},
   "number_sections": false,
   "sideBar": true,
   "skip_h1_title": false,
   "title_cell": "Table of Contents",
   "title_sidebar": "Contents",
   "toc_cell": false,
   "toc_position": {},
   "toc_section_display": true,
   "toc_window_display": false
  },
  "varInspector": {
   "cols": {
    "lenName": 16,
    "lenType": 16,
    "lenVar": 40
   },
   "kernels_config": {
    "python": {
     "delete_cmd_postfix": "",
     "delete_cmd_prefix": "del ",
     "library": "var_list.py",
     "varRefreshCmd": "print(var_dic_list())"
    },
    "r": {
     "delete_cmd_postfix": ") ",
     "delete_cmd_prefix": "rm(",
     "library": "var_list.r",
     "varRefreshCmd": "cat(var_dic_list()) "
    }
   },
   "types_to_exclude": [
    "module",
    "function",
    "builtin_function_or_method",
    "instance",
    "_Feature"
   ],
   "window_display": false
  }
 },
 "nbformat": 4,
 "nbformat_minor": 4
}
