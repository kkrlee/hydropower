{
 "cells": [
  {
   "cell_type": "code",
   "execution_count": 1,
   "metadata": {},
   "outputs": [],
   "source": [
    "%matplotlib inline\n",
    "import pandas as pd\n",
    "import numpy as np\n",
    "import matplotlib.pyplot as plt\n",
    "import seaborn as sns"
   ]
  },
  {
   "cell_type": "code",
   "execution_count": 2,
   "metadata": {
    "scrolled": true
   },
   "outputs": [
    {
     "name": "stdout",
     "output_type": "stream",
     "text": [
      "(389, 55)\n"
     ]
    },
    {
     "data": {
      "text/html": [
       "<div>\n",
       "<style scoped>\n",
       "    .dataframe tbody tr th:only-of-type {\n",
       "        vertical-align: middle;\n",
       "    }\n",
       "\n",
       "    .dataframe tbody tr th {\n",
       "        vertical-align: top;\n",
       "    }\n",
       "\n",
       "    .dataframe thead th {\n",
       "        text-align: right;\n",
       "    }\n",
       "</style>\n",
       "<table border=\"1\" class=\"dataframe\">\n",
       "  <thead>\n",
       "    <tr style=\"text-align: right;\">\n",
       "      <th></th>\n",
       "      <th>EHA_PtID</th>\n",
       "      <th>PtName</th>\n",
       "      <th>County</th>\n",
       "      <th>State</th>\n",
       "      <th>Lat</th>\n",
       "      <th>Lon</th>\n",
       "      <th>Pt_Own</th>\n",
       "      <th>OwType</th>\n",
       "      <th>Dam_Own</th>\n",
       "      <th>Type</th>\n",
       "      <th>...</th>\n",
       "      <th>Direct_Use</th>\n",
       "      <th>Total Facility Use</th>\n",
       "      <th>Retail Sales</th>\n",
       "      <th>Sales for Resale</th>\n",
       "      <th>Tolling Agreements</th>\n",
       "      <th>Outgoing Electricity</th>\n",
       "      <th>Total_Disposition</th>\n",
       "      <th>Revenue from Resale</th>\n",
       "      <th>Types of Incoming Electricity</th>\n",
       "      <th>Types of Outgoing Electricity</th>\n",
       "    </tr>\n",
       "  </thead>\n",
       "  <tbody>\n",
       "    <tr>\n",
       "      <th>0</th>\n",
       "      <td>hc0039_p01</td>\n",
       "      <td>Palisades</td>\n",
       "      <td>Bonneville</td>\n",
       "      <td>ID</td>\n",
       "      <td>43.334849</td>\n",
       "      <td>-111.205752</td>\n",
       "      <td>Reclamation Pacific Northwest Region (PN)</td>\n",
       "      <td>Reclamation</td>\n",
       "      <td>Reclamation Pacific Northwest Region (PN)</td>\n",
       "      <td>HY</td>\n",
       "      <td>...</td>\n",
       "      <td>0.0</td>\n",
       "      <td>338414.0</td>\n",
       "      <td>0.0</td>\n",
       "      <td>6864433.0</td>\n",
       "      <td>0.0</td>\n",
       "      <td>0.0</td>\n",
       "      <td>7202847.0</td>\n",
       "      <td>159653.0</td>\n",
       "      <td>From Gris for offline station power</td>\n",
       "      <td>NaN</td>\n",
       "    </tr>\n",
       "    <tr>\n",
       "      <th>1</th>\n",
       "      <td>hc0040_p01</td>\n",
       "      <td>Parker</td>\n",
       "      <td>San Bernardino</td>\n",
       "      <td>CA</td>\n",
       "      <td>34.295334</td>\n",
       "      <td>-114.140222</td>\n",
       "      <td>Reclamation Lower Colorado Region (LC)</td>\n",
       "      <td>Reclamation</td>\n",
       "      <td>Reclamation Lower Colorado Region (LC)</td>\n",
       "      <td>HY</td>\n",
       "      <td>...</td>\n",
       "      <td>0.0</td>\n",
       "      <td>20.0</td>\n",
       "      <td>0.0</td>\n",
       "      <td>4320.0</td>\n",
       "      <td>0.0</td>\n",
       "      <td>0.0</td>\n",
       "      <td>4340.0</td>\n",
       "      <td>65.0</td>\n",
       "      <td>NaN</td>\n",
       "      <td>NaN</td>\n",
       "    </tr>\n",
       "    <tr>\n",
       "      <th>2</th>\n",
       "      <td>hc1773_p01</td>\n",
       "      <td>Parker</td>\n",
       "      <td>Merced</td>\n",
       "      <td>CA</td>\n",
       "      <td>37.477900</td>\n",
       "      <td>-120.444400</td>\n",
       "      <td>Merced Irrigation District</td>\n",
       "      <td>Publicly Owned Utility</td>\n",
       "      <td>Merced Irrigation District</td>\n",
       "      <td>HY</td>\n",
       "      <td>...</td>\n",
       "      <td>0.0</td>\n",
       "      <td>20.0</td>\n",
       "      <td>0.0</td>\n",
       "      <td>4320.0</td>\n",
       "      <td>0.0</td>\n",
       "      <td>0.0</td>\n",
       "      <td>4340.0</td>\n",
       "      <td>65.0</td>\n",
       "      <td>NaN</td>\n",
       "      <td>NaN</td>\n",
       "    </tr>\n",
       "    <tr>\n",
       "      <th>3</th>\n",
       "      <td>hc0113_p01</td>\n",
       "      <td>New Lahontan</td>\n",
       "      <td>Churchill</td>\n",
       "      <td>NV</td>\n",
       "      <td>39.462900</td>\n",
       "      <td>-119.065800</td>\n",
       "      <td>Truckee-Carson Irrigation District</td>\n",
       "      <td>Publicly Owned Utility</td>\n",
       "      <td>U S Bureau of Reclamation</td>\n",
       "      <td>HY</td>\n",
       "      <td>...</td>\n",
       "      <td>0.0</td>\n",
       "      <td>0.0</td>\n",
       "      <td>0.0</td>\n",
       "      <td>15631.0</td>\n",
       "      <td>0.0</td>\n",
       "      <td>0.0</td>\n",
       "      <td>15631.0</td>\n",
       "      <td>636.0</td>\n",
       "      <td>NaN</td>\n",
       "      <td>NaN</td>\n",
       "    </tr>\n",
       "    <tr>\n",
       "      <th>4</th>\n",
       "      <td>hc0113_p02</td>\n",
       "      <td>Lahontan</td>\n",
       "      <td>CHURCHILL</td>\n",
       "      <td>NV</td>\n",
       "      <td>39.462900</td>\n",
       "      <td>-119.065800</td>\n",
       "      <td>Truckee-Carson Irrigation District</td>\n",
       "      <td>Publicly Owned Utility</td>\n",
       "      <td>U S Bureau of Reclamation</td>\n",
       "      <td>HY</td>\n",
       "      <td>...</td>\n",
       "      <td>0.0</td>\n",
       "      <td>0.0</td>\n",
       "      <td>0.0</td>\n",
       "      <td>8278.0</td>\n",
       "      <td>0.0</td>\n",
       "      <td>0.0</td>\n",
       "      <td>8278.0</td>\n",
       "      <td>207.0</td>\n",
       "      <td>NaN</td>\n",
       "      <td>NaN</td>\n",
       "    </tr>\n",
       "  </tbody>\n",
       "</table>\n",
       "<p>5 rows × 55 columns</p>\n",
       "</div>"
      ],
      "text/plain": [
       "     EHA_PtID        PtName          County State        Lat         Lon  \\\n",
       "0  hc0039_p01     Palisades      Bonneville    ID  43.334849 -111.205752   \n",
       "1  hc0040_p01        Parker  San Bernardino    CA  34.295334 -114.140222   \n",
       "2  hc1773_p01        Parker          Merced    CA  37.477900 -120.444400   \n",
       "3  hc0113_p01  New Lahontan       Churchill    NV  39.462900 -119.065800   \n",
       "4  hc0113_p02      Lahontan       CHURCHILL    NV  39.462900 -119.065800   \n",
       "\n",
       "                                      Pt_Own                  OwType  \\\n",
       "0  Reclamation Pacific Northwest Region (PN)             Reclamation   \n",
       "1     Reclamation Lower Colorado Region (LC)             Reclamation   \n",
       "2                 Merced Irrigation District  Publicly Owned Utility   \n",
       "3         Truckee-Carson Irrigation District  Publicly Owned Utility   \n",
       "4         Truckee-Carson Irrigation District  Publicly Owned Utility   \n",
       "\n",
       "                                     Dam_Own Type  ...  Direct_Use  \\\n",
       "0  Reclamation Pacific Northwest Region (PN)   HY  ...         0.0   \n",
       "1     Reclamation Lower Colorado Region (LC)   HY  ...         0.0   \n",
       "2                 Merced Irrigation District   HY  ...         0.0   \n",
       "3                  U S Bureau of Reclamation   HY  ...         0.0   \n",
       "4                  U S Bureau of Reclamation   HY  ...         0.0   \n",
       "\n",
       "  Total Facility Use Retail Sales Sales for Resale Tolling Agreements  \\\n",
       "0           338414.0          0.0        6864433.0                0.0   \n",
       "1               20.0          0.0           4320.0                0.0   \n",
       "2               20.0          0.0           4320.0                0.0   \n",
       "3                0.0          0.0          15631.0                0.0   \n",
       "4                0.0          0.0           8278.0                0.0   \n",
       "\n",
       "  Outgoing Electricity  Total_Disposition  Revenue from Resale  \\\n",
       "0                  0.0          7202847.0             159653.0   \n",
       "1                  0.0             4340.0                 65.0   \n",
       "2                  0.0             4340.0                 65.0   \n",
       "3                  0.0            15631.0                636.0   \n",
       "4                  0.0             8278.0                207.0   \n",
       "\n",
       "         Types of Incoming Electricity  Types of Outgoing Electricity  \n",
       "0  From Gris for offline station power                            NaN  \n",
       "1                                  NaN                            NaN  \n",
       "2                                  NaN                            NaN  \n",
       "3                                  NaN                            NaN  \n",
       "4                                  NaN                            NaN  \n",
       "\n",
       "[5 rows x 55 columns]"
      ]
     },
     "execution_count": 2,
     "metadata": {},
     "output_type": "execute_result"
    }
   ],
   "source": [
    "hydro2019 = pd.read_csv(\"data/USA_hydro_2019_production.csv\", index_col = 0)\n",
    "print(hydro2019.shape)\n",
    "hydro2019.head()"
   ]
  },
  {
   "cell_type": "code",
   "execution_count": 3,
   "metadata": {},
   "outputs": [
    {
     "data": {
      "text/html": [
       "<div>\n",
       "<style scoped>\n",
       "    .dataframe tbody tr th:only-of-type {\n",
       "        vertical-align: middle;\n",
       "    }\n",
       "\n",
       "    .dataframe tbody tr th {\n",
       "        vertical-align: top;\n",
       "    }\n",
       "\n",
       "    .dataframe thead th {\n",
       "        text-align: right;\n",
       "    }\n",
       "</style>\n",
       "<table border=\"1\" class=\"dataframe\">\n",
       "  <thead>\n",
       "    <tr style=\"text-align: right;\">\n",
       "      <th></th>\n",
       "      <th>Missing Ratio</th>\n",
       "    </tr>\n",
       "  </thead>\n",
       "  <tbody>\n",
       "    <tr>\n",
       "      <th>PS_Pf</th>\n",
       "      <td>99.228792</td>\n",
       "    </tr>\n",
       "    <tr>\n",
       "      <th>PS_OpYear</th>\n",
       "      <td>99.228792</td>\n",
       "    </tr>\n",
       "    <tr>\n",
       "      <th>PS_MW</th>\n",
       "      <td>99.228792</td>\n",
       "    </tr>\n",
       "    <tr>\n",
       "      <th>PS_MWh</th>\n",
       "      <td>99.228792</td>\n",
       "    </tr>\n",
       "    <tr>\n",
       "      <th>Types of Outgoing Electricity</th>\n",
       "      <td>97.943445</td>\n",
       "    </tr>\n",
       "    <tr>\n",
       "      <th>Types of Incoming Electricity</th>\n",
       "      <td>86.118252</td>\n",
       "    </tr>\n",
       "    <tr>\n",
       "      <th>Mode</th>\n",
       "      <td>35.732648</td>\n",
       "    </tr>\n",
       "    <tr>\n",
       "      <th>FcExpire</th>\n",
       "      <td>34.961440</td>\n",
       "    </tr>\n",
       "    <tr>\n",
       "      <th>NID_ID</th>\n",
       "      <td>23.907455</td>\n",
       "    </tr>\n",
       "    <tr>\n",
       "      <th>FcIssue</th>\n",
       "      <td>7.712082</td>\n",
       "    </tr>\n",
       "    <tr>\n",
       "      <th>FC_Dock</th>\n",
       "      <td>7.455013</td>\n",
       "    </tr>\n",
       "    <tr>\n",
       "      <th>Revenue from Resale</th>\n",
       "      <td>4.884319</td>\n",
       "    </tr>\n",
       "    <tr>\n",
       "      <th>BACode</th>\n",
       "      <td>3.084833</td>\n",
       "    </tr>\n",
       "    <tr>\n",
       "      <th>Dam_Own</th>\n",
       "      <td>2.313625</td>\n",
       "    </tr>\n",
       "    <tr>\n",
       "      <th>Trans</th>\n",
       "      <td>2.056555</td>\n",
       "    </tr>\n",
       "    <tr>\n",
       "      <th>Sector</th>\n",
       "      <td>2.056555</td>\n",
       "    </tr>\n",
       "    <tr>\n",
       "      <th>CH_Pf</th>\n",
       "      <td>1.799486</td>\n",
       "    </tr>\n",
       "    <tr>\n",
       "      <th>CH_MWh</th>\n",
       "      <td>1.799486</td>\n",
       "    </tr>\n",
       "    <tr>\n",
       "      <th>EIA_PtID</th>\n",
       "      <td>1.799486</td>\n",
       "    </tr>\n",
       "    <tr>\n",
       "      <th>NERC</th>\n",
       "      <td>1.285347</td>\n",
       "    </tr>\n",
       "    <tr>\n",
       "      <th>CH_OpYear</th>\n",
       "      <td>1.028278</td>\n",
       "    </tr>\n",
       "    <tr>\n",
       "      <th>ReEDSPCA</th>\n",
       "      <td>1.028278</td>\n",
       "    </tr>\n",
       "    <tr>\n",
       "      <th>CH_MW</th>\n",
       "      <td>0.771208</td>\n",
       "    </tr>\n",
       "    <tr>\n",
       "      <th>HUC</th>\n",
       "      <td>0.771208</td>\n",
       "    </tr>\n",
       "    <tr>\n",
       "      <th>Water</th>\n",
       "      <td>0.514139</td>\n",
       "    </tr>\n",
       "    <tr>\n",
       "      <th>Tolling Agreements</th>\n",
       "      <td>0.257069</td>\n",
       "    </tr>\n",
       "  </tbody>\n",
       "</table>\n",
       "</div>"
      ],
      "text/plain": [
       "                               Missing Ratio\n",
       "PS_Pf                              99.228792\n",
       "PS_OpYear                          99.228792\n",
       "PS_MW                              99.228792\n",
       "PS_MWh                             99.228792\n",
       "Types of Outgoing Electricity      97.943445\n",
       "Types of Incoming Electricity      86.118252\n",
       "Mode                               35.732648\n",
       "FcExpire                           34.961440\n",
       "NID_ID                             23.907455\n",
       "FcIssue                             7.712082\n",
       "FC_Dock                             7.455013\n",
       "Revenue from Resale                 4.884319\n",
       "BACode                              3.084833\n",
       "Dam_Own                             2.313625\n",
       "Trans                               2.056555\n",
       "Sector                              2.056555\n",
       "CH_Pf                               1.799486\n",
       "CH_MWh                              1.799486\n",
       "EIA_PtID                            1.799486\n",
       "NERC                                1.285347\n",
       "CH_OpYear                           1.028278\n",
       "ReEDSPCA                            1.028278\n",
       "CH_MW                               0.771208\n",
       "HUC                                 0.771208\n",
       "Water                               0.514139\n",
       "Tolling Agreements                  0.257069"
      ]
     },
     "execution_count": 3,
     "metadata": {},
     "output_type": "execute_result"
    }
   ],
   "source": [
    "all_na = (hydro2019.isnull().sum() / len(hydro2019)) * 100\n",
    "all_na = all_na.drop(all_na[all_na == 0].index).sort_values(ascending=False)[:30]\n",
    "missing_data = pd.DataFrame({'Missing Ratio' :all_na})\n",
    "missing_data.head(30)"
   ]
  },
  {
   "cell_type": "code",
   "execution_count": 4,
   "metadata": {},
   "outputs": [
    {
     "data": {
      "text/plain": [
       "Text(0.5, 1.0, 'Percent missing data by feature')"
      ]
     },
     "execution_count": 4,
     "metadata": {},
     "output_type": "execute_result"
    },
    {
     "data": {
      "image/png": "[encoded data removed]",
      "text/plain": [
       "<Figure size 1080x864 with 1 Axes>"
      ]
     },
     "metadata": {
      "needs_background": "light"
     },
     "output_type": "display_data"
    }
   ],
   "source": [
    "f, ax = plt.subplots(figsize=(15, 12))\n",
    "plt.xticks(rotation='90')\n",
    "sns.barplot(x=all_na.index, y=all_na)\n",
    "plt.xlabel('Features', fontsize=15)\n",
    "plt.ylabel('Percent of missing values', fontsize=15)\n",
    "plt.title('Percent missing data by feature', fontsize=15)"
   ]
  },
  {
   "cell_type": "markdown",
   "metadata": {},
   "source": [
    "## Features cleaning"
   ]
  },
  {
   "cell_type": "markdown",
   "metadata": {},
   "source": [
    "## 1. PS_Pf"
   ]
  },
  {
   "cell_type": "code",
   "execution_count": 5,
   "metadata": {},
   "outputs": [
    {
     "data": {
      "text/plain": [
       "6.638607     1\n",
       "9.187759     1\n",
       "16.424647    1\n",
       "Name: PS_Pf, dtype: int64"
      ]
     },
     "execution_count": 5,
     "metadata": {},
     "output_type": "execute_result"
    }
   ],
   "source": [
    "hydro2019[\"PS_Pf\"].value_counts()"
   ]
  },
  {
   "cell_type": "code",
   "execution_count": 6,
   "metadata": {},
   "outputs": [
    {
     "data": {
      "text/plain": [
       "0.000000     386\n",
       "6.638607       1\n",
       "9.187759       1\n",
       "16.424647      1\n",
       "Name: PS_Pf, dtype: int64"
      ]
     },
     "execution_count": 6,
     "metadata": {},
     "output_type": "execute_result"
    }
   ],
   "source": [
    "hydro2019[\"PS_Pf\"] = hydro2019[\"PS_Pf\"].fillna(0)\n",
    "hydro2019[\"PS_Pf\"].value_counts()"
   ]
  },
  {
   "cell_type": "markdown",
   "metadata": {},
   "source": [
    "## 2. PS_OpYear"
   ]
  },
  {
   "cell_type": "code",
   "execution_count": 7,
   "metadata": {},
   "outputs": [
    {
     "data": {
      "text/plain": [
       "1974.0    1\n",
       "1972.0    1\n",
       "1967.0    1\n",
       "Name: PS_OpYear, dtype: int64"
      ]
     },
     "execution_count": 7,
     "metadata": {},
     "output_type": "execute_result"
    }
   ],
   "source": [
    "hydro2019[\"PS_OpYear\"].value_counts()"
   ]
  },
  {
   "cell_type": "code",
   "execution_count": 8,
   "metadata": {},
   "outputs": [
    {
     "data": {
      "text/plain": [
       "None      386\n",
       "1974.0      1\n",
       "1972.0      1\n",
       "1967.0      1\n",
       "Name: PS_OpYear, dtype: int64"
      ]
     },
     "execution_count": 8,
     "metadata": {},
     "output_type": "execute_result"
    }
   ],
   "source": [
    "hydro2019[\"PS_OpYear\"] = hydro2019[\"PS_OpYear\"].fillna(\"None\")\n",
    "hydro2019[\"PS_OpYear\"].value_counts()"
   ]
  },
  {
   "cell_type": "markdown",
   "metadata": {},
   "source": [
    "## 3. PS_MW"
   ]
  },
  {
   "cell_type": "code",
   "execution_count": 9,
   "metadata": {},
   "outputs": [
    {
     "data": {
      "text/plain": [
       "600.0     1\n",
       "1168.0    1\n",
       "1072.0    1\n",
       "Name: PS_MW, dtype: int64"
      ]
     },
     "execution_count": 9,
     "metadata": {},
     "output_type": "execute_result"
    }
   ],
   "source": [
    "hydro2019[\"PS_MW\"].value_counts()"
   ]
  },
  {
   "cell_type": "code",
   "execution_count": 10,
   "metadata": {},
   "outputs": [
    {
     "data": {
      "text/plain": [
       "None      386\n",
       "1072.0      1\n",
       "600.0       1\n",
       "1168.0      1\n",
       "Name: PS_MW, dtype: int64"
      ]
     },
     "execution_count": 10,
     "metadata": {},
     "output_type": "execute_result"
    }
   ],
   "source": [
    "hydro2019[\"PS_MW\"] = hydro2019[\"PS_MW\"].fillna(\"None\")\n",
    "hydro2019[\"PS_MW\"].value_counts()"
   ]
  },
  {
   "cell_type": "markdown",
   "metadata": {},
   "source": [
    "## 4. PS_MWh"
   ]
  },
  {
   "cell_type": "code",
   "execution_count": 11,
   "metadata": {},
   "outputs": [
    {
     "data": {
      "text/plain": [
       "940062.06     1\n",
       "348925.18     1\n",
       "1542392.65    1\n",
       "Name: PS_MWh, dtype: int64"
      ]
     },
     "execution_count": 11,
     "metadata": {},
     "output_type": "execute_result"
    }
   ],
   "source": [
    "hydro2019[\"PS_MWh\"].value_counts()"
   ]
  },
  {
   "cell_type": "code",
   "execution_count": 12,
   "metadata": {},
   "outputs": [
    {
     "data": {
      "text/plain": [
       "None          386\n",
       "348925.18       1\n",
       "1542392.65      1\n",
       "940062.06       1\n",
       "Name: PS_MWh, dtype: int64"
      ]
     },
     "execution_count": 12,
     "metadata": {},
     "output_type": "execute_result"
    }
   ],
   "source": [
    "hydro2019[\"PS_MWh\"] = hydro2019[\"PS_MWh\"].fillna(\"None\")\n",
    "hydro2019[\"PS_MWh\"].value_counts()"
   ]
  },
  {
   "cell_type": "markdown",
   "metadata": {},
   "source": [
    "## 5. Types of Outgoing Electricity"
   ]
  },
  {
   "cell_type": "code",
   "execution_count": 13,
   "metadata": {},
   "outputs": [
    {
     "data": {
      "text/plain": [
       "Transmission Losses                                                                                                                                                    4\n",
       "none                                                                                                                                                                   1\n",
       "Generated electricity is allocated to offset use by municipally owned drinking water pumping station, drinking water treatment plant and wastewater treatment plant    1\n",
       "Hydro Generators at the R.B. Simms Drinking Water Treatment Facility                                                                                                   1\n",
       "Power in excess of what is used on our system that is exported to Maui Electric without compensation                                                                   1\n",
       "Name: Types of Outgoing Electricity, dtype: int64"
      ]
     },
     "execution_count": 13,
     "metadata": {},
     "output_type": "execute_result"
    }
   ],
   "source": [
    "hydro2019[\"Types of Outgoing Electricity\"].value_counts()"
   ]
  },
  {
   "cell_type": "code",
   "execution_count": 14,
   "metadata": {},
   "outputs": [
    {
     "data": {
      "text/plain": [
       "None                                                                                                                                                                   382\n",
       "Transmission Losses                                                                                                                                                      4\n",
       "Generated electricity is allocated to offset use by municipally owned drinking water pumping station, drinking water treatment plant and wastewater treatment plant      1\n",
       "Hydro Generators at the R.B. Simms Drinking Water Treatment Facility                                                                                                     1\n",
       "Power in excess of what is used on our system that is exported to Maui Electric without compensation                                                                     1\n",
       "Name: Types of Outgoing Electricity, dtype: int64"
      ]
     },
     "execution_count": 14,
     "metadata": {},
     "output_type": "execute_result"
    }
   ],
   "source": [
    "hydro2019[\"Types of Outgoing Electricity\"] = hydro2019[\"Types of Outgoing Electricity\"].fillna(\"None\")\n",
    "hydro2019.loc[(hydro2019[\"Types of Outgoing Electricity\"] == \"none\")] = \"None\"\n",
    "hydro2019[\"Types of Outgoing Electricity\"].value_counts()"
   ]
  },
  {
   "cell_type": "markdown",
   "metadata": {},
   "source": [
    "## 6. Types of Incoming Electricity"
   ]
  },
  {
   "cell_type": "code",
   "execution_count": 15,
   "metadata": {},
   "outputs": [
    {
     "data": {
      "text/plain": [
       "other utility                                                                                                                                                                 7\n",
       "Utility backfeed purchases.                                                                                                                                                   5\n",
       "Station Service off-line                                                                                                                                                      3\n",
       "Facility consumes energy off the retail grid for auxiliary and balance of plant operations,                                                                                   1\n",
       "Utility provided electricity while maintenance performed.                                                                                                                     1\n",
       "Consumer's Energy                                                                                                                                                             1\n",
       "Utility electricity used while facility under maintenance.                                                                                                                    1\n",
       "Electricity used to power station lighting, heating and auxiliary equipment (motors).                                                                                         1\n",
       "Purchase power                                                                                                                                                                1\n",
       "incoming electricity from National Grid                                                                                                                                       1\n",
       "DCL                                                                                                                                                                           1\n",
       "National Grid Electric for when Generating unit is not running                                                                                                                1\n",
       ". Purchased from Arkansas Valley Electric Coop                                                                                                                                1\n",
       "Electricity purchased from local utility during periods when station is not generating electricity.                                                                           1\n",
       "Purchased electric                                                                                                                                                            1\n",
       "Power from PJM for station service when unit not generating                                                                                                                   1\n",
       "incoming electricity from National grid                                                                                                                                       1\n",
       "None                                                                                                                                                                          1\n",
       "This is a pumped storage facility, other incoming represents pumping power and schedule 6 completed following previous year guidence                                          1\n",
       "Sourced from National Grid                                                                                                                                                    1\n",
       "From Gris for offline station power                                                                                                                                           1\n",
       "Utility provided facility energy during periods of no generation.                                                                                                             1\n",
       "Purchased from grid                                                                                                                                                           1\n",
       "Purchased Power From PG&E                                                                                                                                                     1\n",
       "Purchased from Northwestern Energy during plant outages.                                                                                                                      1\n",
       "Southern California Edison Station Power                                                                                                                                      1\n",
       "Commercial Electric purchased from Duke Energy to power the R.B Simms Drinking Water Treatment Facility.                                                                      1\n",
       "purchased from PG&E                                                                                                                                                           1\n",
       "purchased from Georgia Power                                                                                                                                                  1\n",
       "Incoming electricity is from PUD when Hydro isoffline                                                                                                                         1\n",
       "AEP                                                                                                                                                                           1\n",
       "PURCHASED ELECTRICITY                                                                                                                                                         1\n",
       "Purchase of station service from utility                                                                                                                                      1\n",
       "Purchased from Utility                                                                                                                                                        1\n",
       "Pumped storage consumption                                                                                                                                                    1\n",
       "Local power utility Avista Corp. provides power to the station when hydroelectric generation at the plant does not meet municipal water system groundwater pumping demand.    1\n",
       "Total MWh from Annual Electric Bills for the station                                                                                                                          1\n",
       "Utility electricity used while maintenance performed.                                                                                                                         1\n",
       "Station service purchased from utility                                                                                                                                        1\n",
       "Incoming Electricity Used for Station Use                                                                                                                                     1\n",
       "Pulled from Grid (PJM) when units not generating                                                                                                                              1\n",
       "Station service off-line                                                                                                                                                      1\n",
       "Name: Types of Incoming Electricity, dtype: int64"
      ]
     },
     "execution_count": 15,
     "metadata": {},
     "output_type": "execute_result"
    }
   ],
   "source": [
    "hydro2019[\"Types of Incoming Electricity\"].value_counts()"
   ]
  },
  {
   "cell_type": "code",
   "execution_count": 16,
   "metadata": {},
   "outputs": [
    {
     "data": {
      "text/plain": [
       "None                                                                                                                                                                          336\n",
       "other utility                                                                                                                                                                   7\n",
       "Utility backfeed purchases.                                                                                                                                                     5\n",
       "Station Service off-line                                                                                                                                                        3\n",
       "Facility consumes energy off the retail grid for auxiliary and balance of plant operations,                                                                                     1\n",
       "DCL                                                                                                                                                                             1\n",
       "From Gris for offline station power                                                                                                                                             1\n",
       "Consumer's Energy                                                                                                                                                               1\n",
       "Utility electricity used while facility under maintenance.                                                                                                                      1\n",
       "Electricity used to power station lighting, heating and auxiliary equipment (motors).                                                                                           1\n",
       "Purchase power                                                                                                                                                                  1\n",
       "incoming electricity from National Grid                                                                                                                                         1\n",
       ". Purchased from Arkansas Valley Electric Coop                                                                                                                                  1\n",
       "Utility provided electricity while maintenance performed.                                                                                                                       1\n",
       "Utility provided facility energy during periods of no generation.                                                                                                               1\n",
       "National Grid Electric for when Generating unit is not running                                                                                                                  1\n",
       "Purchased electric                                                                                                                                                              1\n",
       "Power from PJM for station service when unit not generating                                                                                                                     1\n",
       "Southern California Edison Station Power                                                                                                                                        1\n",
       "This is a pumped storage facility, other incoming represents pumping power and schedule 6 completed following previous year guidence                                            1\n",
       "Sourced from National Grid                                                                                                                                                      1\n",
       "Electricity purchased from local utility during periods when station is not generating electricity.                                                                             1\n",
       "Purchased Power From PG&E                                                                                                                                                       1\n",
       "Purchased from grid                                                                                                                                                             1\n",
       "PURCHASED ELECTRICITY                                                                                                                                                           1\n",
       "Purchased from Northwestern Energy during plant outages.                                                                                                                        1\n",
       "Commercial Electric purchased from Duke Energy to power the R.B Simms Drinking Water Treatment Facility.                                                                        1\n",
       "purchased from PG&E                                                                                                                                                             1\n",
       "purchased from Georgia Power                                                                                                                                                    1\n",
       "Incoming electricity is from PUD when Hydro isoffline                                                                                                                           1\n",
       "incoming electricity from National grid                                                                                                                                         1\n",
       "AEP                                                                                                                                                                             1\n",
       "Purchase of station service from utility                                                                                                                                        1\n",
       "Pulled from Grid (PJM) when units not generating                                                                                                                                1\n",
       "Purchased from Utility                                                                                                                                                          1\n",
       "Pumped storage consumption                                                                                                                                                      1\n",
       "Local power utility Avista Corp. provides power to the station when hydroelectric generation at the plant does not meet municipal water system groundwater pumping demand.      1\n",
       "Total MWh from Annual Electric Bills for the station                                                                                                                            1\n",
       "Utility electricity used while maintenance performed.                                                                                                                           1\n",
       "Station service purchased from utility                                                                                                                                          1\n",
       "Incoming Electricity Used for Station Use                                                                                                                                       1\n",
       "Station service off-line                                                                                                                                                        1\n",
       "Name: Types of Incoming Electricity, dtype: int64"
      ]
     },
     "execution_count": 16,
     "metadata": {},
     "output_type": "execute_result"
    }
   ],
   "source": [
    "hydro2019[\"Types of Incoming Electricity\"] = hydro2019[\"Types of Incoming Electricity\"].fillna(\"None\")\n",
    "hydro2019[\"Types of Incoming Electricity\"].value_counts()"
   ]
  },
  {
   "cell_type": "markdown",
   "metadata": {},
   "source": [
    "## 7. Mode"
   ]
  },
  {
   "cell_type": "code",
   "execution_count": 17,
   "metadata": {},
   "outputs": [
    {
     "data": {
      "text/plain": [
       "Run-of-river                     137\n",
       "Canal/Conduit                     45\n",
       "Peaking                           39\n",
       "Run-of-river/Peaking              11\n",
       "Run-of-river/Upstream Peaking     10\n",
       "Intermediate Peaking               6\n",
       "None                               1\n",
       "Reregulating                       1\n",
       "Name: Mode, dtype: int64"
      ]
     },
     "execution_count": 17,
     "metadata": {},
     "output_type": "execute_result"
    }
   ],
   "source": [
    "hydro2019[\"Mode\"].value_counts()"
   ]
  },
  {
   "cell_type": "code",
   "execution_count": 18,
   "metadata": {},
   "outputs": [
    {
     "data": {
      "text/plain": [
       "None                             140\n",
       "Run-of-river                     137\n",
       "Canal/Conduit                     45\n",
       "Peaking                           39\n",
       "Run-of-river/Peaking              11\n",
       "Run-of-river/Upstream Peaking     10\n",
       "Intermediate Peaking               6\n",
       "Reregulating                       1\n",
       "Name: Mode, dtype: int64"
      ]
     },
     "execution_count": 18,
     "metadata": {},
     "output_type": "execute_result"
    }
   ],
   "source": [
    "hydro2019[\"Mode\"] = hydro2019[\"Mode\"].fillna(\"None\")\n",
    "hydro2019[\"Mode\"].value_counts()"
   ]
  },
  {
   "cell_type": "markdown",
   "metadata": {},
   "source": [
    "## 8. FcExpire"
   ]
  },
  {
   "cell_type": "code",
   "execution_count": 19,
   "metadata": {},
   "outputs": [
    {
     "data": {
      "text/plain": [
       "12/27/2033    13\n",
       "07/27/2026     9\n",
       "12/27/2052     6\n",
       "08/27/2042     6\n",
       "11/26/2026     6\n",
       "              ..\n",
       "03/27/2035     1\n",
       "09/26/2037     1\n",
       "09/26/2036     1\n",
       "04/26/2029     1\n",
       "12/27/2031     1\n",
       "Name: FcExpire, Length: 143, dtype: int64"
      ]
     },
     "execution_count": 19,
     "metadata": {},
     "output_type": "execute_result"
    }
   ],
   "source": [
    "hydro2019[\"FcExpire\"].value_counts()"
   ]
  },
  {
   "cell_type": "code",
   "execution_count": 20,
   "metadata": {},
   "outputs": [
    {
     "data": {
      "text/plain": [
       "None          137\n",
       "12/27/2033     13\n",
       "07/27/2026      9\n",
       "08/27/2042      6\n",
       "12/27/2052      6\n",
       "             ... \n",
       "09/26/2024      1\n",
       "03/27/2035      1\n",
       "09/26/2036      1\n",
       "04/26/2029      1\n",
       "12/27/2031      1\n",
       "Name: FcExpire, Length: 143, dtype: int64"
      ]
     },
     "execution_count": 20,
     "metadata": {},
     "output_type": "execute_result"
    }
   ],
   "source": [
    "hydro2019[\"FcExpire\"] = hydro2019[\"FcExpire\"].fillna(\"None\")\n",
    "hydro2019[\"FcExpire\"].value_counts()"
   ]
  },
  {
   "cell_type": "markdown",
   "metadata": {},
   "source": [
    "## 9. NID_ID"
   ]
  },
  {
   "cell_type": "code",
   "execution_count": 21,
   "metadata": {},
   "outputs": [
    {
     "data": {
      "text/plain": [
       "MA00849    3\n",
       "ME00006    2\n",
       "NV10123    2\n",
       "NY00408    2\n",
       "ME00139    2\n",
       "          ..\n",
       "CA00264    1\n",
       "NY00696    1\n",
       "WI00788    1\n",
       "NY00141    1\n",
       "LA00598    1\n",
       "Name: NID_ID, Length: 290, dtype: int64"
      ]
     },
     "execution_count": 21,
     "metadata": {},
     "output_type": "execute_result"
    }
   ],
   "source": [
    "hydro2019[\"NID_ID\"].value_counts()"
   ]
  },
  {
   "cell_type": "code",
   "execution_count": 22,
   "metadata": {},
   "outputs": [
    {
     "data": {
      "text/plain": [
       "None       93\n",
       "MA00849     3\n",
       "ME00006     2\n",
       "ME00139     2\n",
       "NV10123     2\n",
       "           ..\n",
       "CA00264     1\n",
       "NY00696     1\n",
       "WI00788     1\n",
       "NY00141     1\n",
       "LA00598     1\n",
       "Name: NID_ID, Length: 290, dtype: int64"
      ]
     },
     "execution_count": 22,
     "metadata": {},
     "output_type": "execute_result"
    }
   ],
   "source": [
    "hydro2019[\"NID_ID\"] = hydro2019[\"NID_ID\"].fillna(\"None\")\n",
    "hydro2019[\"NID_ID\"].value_counts()"
   ]
  },
  {
   "cell_type": "markdown",
   "metadata": {},
   "source": [
    "## 10. ETC (Missing value is greater than 1%)"
   ]
  },
  {
   "cell_type": "code",
   "execution_count": 23,
   "metadata": {},
   "outputs": [
    {
     "data": {
      "text/html": [
       "<div>\n",
       "<style scoped>\n",
       "    .dataframe tbody tr th:only-of-type {\n",
       "        vertical-align: middle;\n",
       "    }\n",
       "\n",
       "    .dataframe tbody tr th {\n",
       "        vertical-align: top;\n",
       "    }\n",
       "\n",
       "    .dataframe thead th {\n",
       "        text-align: right;\n",
       "    }\n",
       "</style>\n",
       "<table border=\"1\" class=\"dataframe\">\n",
       "  <thead>\n",
       "    <tr style=\"text-align: right;\">\n",
       "      <th></th>\n",
       "      <th>FcIssue</th>\n",
       "      <th>FC_Dock</th>\n",
       "      <th>Revenue from Resale</th>\n",
       "      <th>BACode</th>\n",
       "      <th>Dam_Own</th>\n",
       "      <th>Trans</th>\n",
       "      <th>Sector</th>\n",
       "      <th>CH_Pf</th>\n",
       "      <th>CH_MWh</th>\n",
       "      <th>EIA_PtID</th>\n",
       "      <th>NERC</th>\n",
       "      <th>CH_OpYear</th>\n",
       "      <th>ReEDSPCA</th>\n",
       "    </tr>\n",
       "  </thead>\n",
       "  <tbody>\n",
       "    <tr>\n",
       "      <th>0</th>\n",
       "      <td>NaN</td>\n",
       "      <td>NaN</td>\n",
       "      <td>159653</td>\n",
       "      <td>BPAT</td>\n",
       "      <td>Reclamation Pacific Northwest Region (PN)</td>\n",
       "      <td>Bonneville Power Administration</td>\n",
       "      <td>Electric Utility</td>\n",
       "      <td>37.419</td>\n",
       "      <td>578223</td>\n",
       "      <td>850</td>\n",
       "      <td>WECC</td>\n",
       "      <td>1957</td>\n",
       "      <td>16</td>\n",
       "    </tr>\n",
       "    <tr>\n",
       "      <th>1</th>\n",
       "      <td>NaN</td>\n",
       "      <td>NaN</td>\n",
       "      <td>65</td>\n",
       "      <td>WALC</td>\n",
       "      <td>Reclamation Lower Colorado Region (LC)</td>\n",
       "      <td>WAPA-- Western Area Power Administration</td>\n",
       "      <td>Electric Utility</td>\n",
       "      <td>42.2421</td>\n",
       "      <td>444049</td>\n",
       "      <td>447</td>\n",
       "      <td>WECC</td>\n",
       "      <td>1942</td>\n",
       "      <td>10</td>\n",
       "    </tr>\n",
       "    <tr>\n",
       "      <th>2</th>\n",
       "      <td>08/13/1980</td>\n",
       "      <td>P-3055</td>\n",
       "      <td>65</td>\n",
       "      <td>CISO</td>\n",
       "      <td>Merced Irrigation District</td>\n",
       "      <td>Pacific Gas &amp; Electric Co</td>\n",
       "      <td>IPP Non-CHP</td>\n",
       "      <td>36.0726</td>\n",
       "      <td>8531.88</td>\n",
       "      <td>428</td>\n",
       "      <td>WECC</td>\n",
       "      <td>1982</td>\n",
       "      <td>9</td>\n",
       "    </tr>\n",
       "    <tr>\n",
       "      <th>3</th>\n",
       "      <td>12/21/1985</td>\n",
       "      <td>P-7828</td>\n",
       "      <td>636</td>\n",
       "      <td>NEVP</td>\n",
       "      <td>U S Bureau of Reclamation</td>\n",
       "      <td>Sierra Pacific Power Co</td>\n",
       "      <td>IPP Non-CHP</td>\n",
       "      <td>30.4871</td>\n",
       "      <td>10682.7</td>\n",
       "      <td>50261</td>\n",
       "      <td>WECC</td>\n",
       "      <td>1989</td>\n",
       "      <td>12</td>\n",
       "    </tr>\n",
       "    <tr>\n",
       "      <th>4</th>\n",
       "      <td>NaN</td>\n",
       "      <td>NaN</td>\n",
       "      <td>207</td>\n",
       "      <td>NEVP</td>\n",
       "      <td>U S Bureau of Reclamation</td>\n",
       "      <td>Sierra Pacific Power Co</td>\n",
       "      <td>IPP Non-CHP</td>\n",
       "      <td>17.1643</td>\n",
       "      <td>2706.47</td>\n",
       "      <td>6521</td>\n",
       "      <td>WECC</td>\n",
       "      <td>1911</td>\n",
       "      <td>12</td>\n",
       "    </tr>\n",
       "  </tbody>\n",
       "</table>\n",
       "</div>"
      ],
      "text/plain": [
       "      FcIssue FC_Dock Revenue from Resale BACode  \\\n",
       "0         NaN     NaN              159653   BPAT   \n",
       "1         NaN     NaN                  65   WALC   \n",
       "2  08/13/1980  P-3055                  65   CISO   \n",
       "3  12/21/1985  P-7828                 636   NEVP   \n",
       "4         NaN     NaN                 207   NEVP   \n",
       "\n",
       "                                     Dam_Own  \\\n",
       "0  Reclamation Pacific Northwest Region (PN)   \n",
       "1     Reclamation Lower Colorado Region (LC)   \n",
       "2                 Merced Irrigation District   \n",
       "3                  U S Bureau of Reclamation   \n",
       "4                  U S Bureau of Reclamation   \n",
       "\n",
       "                                      Trans            Sector    CH_Pf  \\\n",
       "0           Bonneville Power Administration  Electric Utility   37.419   \n",
       "1  WAPA-- Western Area Power Administration  Electric Utility  42.2421   \n",
       "2                 Pacific Gas & Electric Co       IPP Non-CHP  36.0726   \n",
       "3                   Sierra Pacific Power Co       IPP Non-CHP  30.4871   \n",
       "4                   Sierra Pacific Power Co       IPP Non-CHP  17.1643   \n",
       "\n",
       "    CH_MWh EIA_PtID  NERC CH_OpYear ReEDSPCA  \n",
       "0   578223      850  WECC      1957       16  \n",
       "1   444049      447  WECC      1942       10  \n",
       "2  8531.88      428  WECC      1982        9  \n",
       "3  10682.7    50261  WECC      1989       12  \n",
       "4  2706.47     6521  WECC      1911       12  "
      ]
     },
     "execution_count": 23,
     "metadata": {},
     "output_type": "execute_result"
    }
   ],
   "source": [
    "hydro2019[[\"FcIssue\", \"FC_Dock\", \"Revenue from Resale\", \"BACode\", \"Dam_Own\", \"Trans\", \"Sector\", \"CH_Pf\", \"CH_MWh\", \"EIA_PtID\", \"NERC\", \"CH_OpYear\", \"ReEDSPCA\"]].head()"
   ]
  },
  {
   "cell_type": "code",
   "execution_count": 24,
   "metadata": {},
   "outputs": [],
   "source": [
    "hydro2019[\"FcIssue\"] = hydro2019[\"FcIssue\"].fillna(\"None\")\n",
    "hydro2019[\"FC_Dock\"] = hydro2019[\"FC_Dock\"].fillna(\"None\")\n",
    "hydro2019[\"BACode\"] = hydro2019[\"BACode\"].fillna(\"None\")\n",
    "hydro2019[\"Dam_Own\"] = hydro2019[\"Dam_Own\"].fillna(\"None\")\n",
    "hydro2019[\"Trans\"] = hydro2019[\"Trans\"].fillna(\"None\")\n",
    "hydro2019[\"Sector\"] = hydro2019[\"Sector\"].fillna(\"None\")\n",
    "hydro2019[\"NERC\"] = hydro2019[\"NERC\"].fillna(\"None\")\n",
    "hydro2019[\"CH_OpYear\"] = hydro2019[\"CH_OpYear\"].fillna(\"None\")\n",
    "hydro2019[\"Revenue from Resale\"] = hydro2019[\"Revenue from Resale\"].fillna(0)\n",
    "hydro2019[\"CH_Pf\"] = hydro2019[\"CH_Pf\"].fillna(0)\n",
    "hydro2019[\"CH_MWh\"] = hydro2019[\"CH_MWh\"].fillna(0)\n",
    "hydro2019[\"EIA_PtID\"] = hydro2019[\"EIA_PtID\"].fillna(0)\n",
    "hydro2019[\"CH_MWh\"] = hydro2019[\"CH_MWh\"].fillna(0)\n",
    "hydro2019[\"ReEDSPCA\"] = hydro2019[\"ReEDSPCA\"].fillna(0)"
   ]
  },
  {
   "cell_type": "code",
   "execution_count": 25,
   "metadata": {},
   "outputs": [
    {
     "data": {
      "text/html": [
       "<div>\n",
       "<style scoped>\n",
       "    .dataframe tbody tr th:only-of-type {\n",
       "        vertical-align: middle;\n",
       "    }\n",
       "\n",
       "    .dataframe tbody tr th {\n",
       "        vertical-align: top;\n",
       "    }\n",
       "\n",
       "    .dataframe thead th {\n",
       "        text-align: right;\n",
       "    }\n",
       "</style>\n",
       "<table border=\"1\" class=\"dataframe\">\n",
       "  <thead>\n",
       "    <tr style=\"text-align: right;\">\n",
       "      <th></th>\n",
       "      <th>FcIssue</th>\n",
       "      <th>FC_Dock</th>\n",
       "      <th>Revenue from Resale</th>\n",
       "      <th>BACode</th>\n",
       "      <th>Dam_Own</th>\n",
       "      <th>Trans</th>\n",
       "      <th>Sector</th>\n",
       "      <th>CH_Pf</th>\n",
       "      <th>CH_MWh</th>\n",
       "      <th>EIA_PtID</th>\n",
       "      <th>NERC</th>\n",
       "      <th>CH_OpYear</th>\n",
       "      <th>ReEDSPCA</th>\n",
       "    </tr>\n",
       "  </thead>\n",
       "  <tbody>\n",
       "    <tr>\n",
       "      <th>0</th>\n",
       "      <td>None</td>\n",
       "      <td>None</td>\n",
       "      <td>159653</td>\n",
       "      <td>BPAT</td>\n",
       "      <td>Reclamation Pacific Northwest Region (PN)</td>\n",
       "      <td>Bonneville Power Administration</td>\n",
       "      <td>Electric Utility</td>\n",
       "      <td>37.419</td>\n",
       "      <td>578223</td>\n",
       "      <td>850</td>\n",
       "      <td>WECC</td>\n",
       "      <td>1957</td>\n",
       "      <td>16</td>\n",
       "    </tr>\n",
       "    <tr>\n",
       "      <th>1</th>\n",
       "      <td>None</td>\n",
       "      <td>None</td>\n",
       "      <td>65</td>\n",
       "      <td>WALC</td>\n",
       "      <td>Reclamation Lower Colorado Region (LC)</td>\n",
       "      <td>WAPA-- Western Area Power Administration</td>\n",
       "      <td>Electric Utility</td>\n",
       "      <td>42.2421</td>\n",
       "      <td>444049</td>\n",
       "      <td>447</td>\n",
       "      <td>WECC</td>\n",
       "      <td>1942</td>\n",
       "      <td>10</td>\n",
       "    </tr>\n",
       "    <tr>\n",
       "      <th>2</th>\n",
       "      <td>08/13/1980</td>\n",
       "      <td>P-3055</td>\n",
       "      <td>65</td>\n",
       "      <td>CISO</td>\n",
       "      <td>Merced Irrigation District</td>\n",
       "      <td>Pacific Gas &amp; Electric Co</td>\n",
       "      <td>IPP Non-CHP</td>\n",
       "      <td>36.0726</td>\n",
       "      <td>8531.88</td>\n",
       "      <td>428</td>\n",
       "      <td>WECC</td>\n",
       "      <td>1982</td>\n",
       "      <td>9</td>\n",
       "    </tr>\n",
       "    <tr>\n",
       "      <th>3</th>\n",
       "      <td>12/21/1985</td>\n",
       "      <td>P-7828</td>\n",
       "      <td>636</td>\n",
       "      <td>NEVP</td>\n",
       "      <td>U S Bureau of Reclamation</td>\n",
       "      <td>Sierra Pacific Power Co</td>\n",
       "      <td>IPP Non-CHP</td>\n",
       "      <td>30.4871</td>\n",
       "      <td>10682.7</td>\n",
       "      <td>50261</td>\n",
       "      <td>WECC</td>\n",
       "      <td>1989</td>\n",
       "      <td>12</td>\n",
       "    </tr>\n",
       "    <tr>\n",
       "      <th>4</th>\n",
       "      <td>None</td>\n",
       "      <td>None</td>\n",
       "      <td>207</td>\n",
       "      <td>NEVP</td>\n",
       "      <td>U S Bureau of Reclamation</td>\n",
       "      <td>Sierra Pacific Power Co</td>\n",
       "      <td>IPP Non-CHP</td>\n",
       "      <td>17.1643</td>\n",
       "      <td>2706.47</td>\n",
       "      <td>6521</td>\n",
       "      <td>WECC</td>\n",
       "      <td>1911</td>\n",
       "      <td>12</td>\n",
       "    </tr>\n",
       "  </tbody>\n",
       "</table>\n",
       "</div>"
      ],
      "text/plain": [
       "      FcIssue FC_Dock Revenue from Resale BACode  \\\n",
       "0        None    None              159653   BPAT   \n",
       "1        None    None                  65   WALC   \n",
       "2  08/13/1980  P-3055                  65   CISO   \n",
       "3  12/21/1985  P-7828                 636   NEVP   \n",
       "4        None    None                 207   NEVP   \n",
       "\n",
       "                                     Dam_Own  \\\n",
       "0  Reclamation Pacific Northwest Region (PN)   \n",
       "1     Reclamation Lower Colorado Region (LC)   \n",
       "2                 Merced Irrigation District   \n",
       "3                  U S Bureau of Reclamation   \n",
       "4                  U S Bureau of Reclamation   \n",
       "\n",
       "                                      Trans            Sector    CH_Pf  \\\n",
       "0           Bonneville Power Administration  Electric Utility   37.419   \n",
       "1  WAPA-- Western Area Power Administration  Electric Utility  42.2421   \n",
       "2                 Pacific Gas & Electric Co       IPP Non-CHP  36.0726   \n",
       "3                   Sierra Pacific Power Co       IPP Non-CHP  30.4871   \n",
       "4                   Sierra Pacific Power Co       IPP Non-CHP  17.1643   \n",
       "\n",
       "    CH_MWh EIA_PtID  NERC CH_OpYear ReEDSPCA  \n",
       "0   578223      850  WECC      1957       16  \n",
       "1   444049      447  WECC      1942       10  \n",
       "2  8531.88      428  WECC      1982        9  \n",
       "3  10682.7    50261  WECC      1989       12  \n",
       "4  2706.47     6521  WECC      1911       12  "
      ]
     },
     "execution_count": 25,
     "metadata": {},
     "output_type": "execute_result"
    }
   ],
   "source": [
    "hydro2019[[\"FcIssue\", \"FC_Dock\", \"Revenue from Resale\", \"BACode\", \"Dam_Own\", \"Trans\", \"Sector\", \"CH_Pf\", \"CH_MWh\", \"EIA_PtID\", \"NERC\", \"CH_OpYear\", \"ReEDSPCA\"]].head()"
   ]
  },
  {
   "cell_type": "markdown",
   "metadata": {},
   "source": [
    "## 11. Check every features"
   ]
  },
  {
   "cell_type": "code",
   "execution_count": 26,
   "metadata": {},
   "outputs": [
    {
     "data": {
      "text/html": [
       "<div>\n",
       "<style scoped>\n",
       "    .dataframe tbody tr th:only-of-type {\n",
       "        vertical-align: middle;\n",
       "    }\n",
       "\n",
       "    .dataframe tbody tr th {\n",
       "        vertical-align: top;\n",
       "    }\n",
       "\n",
       "    .dataframe thead th {\n",
       "        text-align: right;\n",
       "    }\n",
       "</style>\n",
       "<table border=\"1\" class=\"dataframe\">\n",
       "  <thead>\n",
       "    <tr style=\"text-align: right;\">\n",
       "      <th></th>\n",
       "      <th>Missing Ratio</th>\n",
       "    </tr>\n",
       "  </thead>\n",
       "  <tbody>\n",
       "    <tr>\n",
       "      <th>HUC</th>\n",
       "      <td>0.771208</td>\n",
       "    </tr>\n",
       "    <tr>\n",
       "      <th>CH_MW</th>\n",
       "      <td>0.771208</td>\n",
       "    </tr>\n",
       "    <tr>\n",
       "      <th>Water</th>\n",
       "      <td>0.514139</td>\n",
       "    </tr>\n",
       "    <tr>\n",
       "      <th>Tolling Agreements</th>\n",
       "      <td>0.257069</td>\n",
       "    </tr>\n",
       "  </tbody>\n",
       "</table>\n",
       "</div>"
      ],
      "text/plain": [
       "                    Missing Ratio\n",
       "HUC                      0.771208\n",
       "CH_MW                    0.771208\n",
       "Water                    0.514139\n",
       "Tolling Agreements       0.257069"
      ]
     },
     "execution_count": 26,
     "metadata": {},
     "output_type": "execute_result"
    }
   ],
   "source": [
    "#check null values \n",
    "all_na = (hydro2019.isnull().sum() / len(hydro2019)) * 100\n",
    "all_na = all_na.drop(all_na[all_na == 0].index).sort_values(ascending=False)[:30]\n",
    "missing_data = pd.DataFrame({'Missing Ratio' :all_na})\n",
    "missing_data.head(20)"
   ]
  },
  {
   "cell_type": "markdown",
   "metadata": {},
   "source": [
    "## 12. Correlation"
   ]
  },
  {
   "cell_type": "code",
   "execution_count": null,
   "metadata": {},
   "outputs": [],
   "source": []
  },
  {
   "cell_type": "markdown",
   "metadata": {},
   "source": [
    "## 13. Numeric features"
   ]
  },
  {
   "cell_type": "code",
   "execution_count": 32,
   "metadata": {},
   "outputs": [
    {
     "data": {
      "text/plain": [
       "Index([], dtype='object')"
      ]
     },
     "execution_count": 32,
     "metadata": {},
     "output_type": "execute_result"
    }
   ],
   "source": [
    "#get the numeric values\n",
    "numeric_features = hydro2019.dtypes[hydro2019.dtypes != \"object\"].index\n",
    "numeric_features"
   ]
  },
  {
   "cell_type": "code",
   "execution_count": 34,
   "metadata": {},
   "outputs": [
    {
     "data": {
      "text/plain": [
       "55"
      ]
     },
     "execution_count": 34,
     "metadata": {},
     "output_type": "execute_result"
    }
   ],
   "source": [
    "categorical_features = hydro2019.dtypes[hydro2019.dtypes == \"object\"].index\n",
    "categorical_features"
   ]
  },
  {
   "cell_type": "code",
   "execution_count": 36,
   "metadata": {},
   "outputs": [
    {
     "data": {
      "text/plain": [
       "EHA_PtID                         object\n",
       "PtName                           object\n",
       "County                           object\n",
       "State                            object\n",
       "Lat                              object\n",
       "Lon                              object\n",
       "Pt_Own                           object\n",
       "OwType                           object\n",
       "Dam_Own                          object\n",
       "Type                             object\n",
       "EIA_PtID                         object\n",
       "FC_Dock                          object\n",
       "FcIssue                          object\n",
       "FcExpire                         object\n",
       "Mode                             object\n",
       "Pm_Type                          object\n",
       "Number_of_Units                  object\n",
       "CH_MW                            object\n",
       "CH_MWh                           object\n",
       "CH_Pf                            object\n",
       "CH_OpYear                        object\n",
       "PS_MW                            object\n",
       "PS_MWh                           object\n",
       "PS_Pf                            object\n",
       "PS_OpYear                        object\n",
       "Water                            object\n",
       "HUC                              object\n",
       "NID_ID                           object\n",
       "ReEDSPCA                         object\n",
       "NERC                             object\n",
       "BACode                           object\n",
       "Sector                           object\n",
       "Trans                            object\n",
       "Year                             object\n",
       "Utility ID                       object\n",
       "Utility Name                     object\n",
       "Sector Code                      object\n",
       "Plant Code                       object\n",
       "CHP Plant                        object\n",
       "Plant Name                       object\n",
       "Plant State                      object\n",
       "Gross Generation                 object\n",
       "Incoming Electricity             object\n",
       "Total Source                     object\n",
       "Station_Use                      object\n",
       "Direct_Use                       object\n",
       "Total Facility Use               object\n",
       "Retail Sales                     object\n",
       "Sales for Resale                 object\n",
       "Tolling Agreements               object\n",
       "Outgoing Electricity             object\n",
       "Total_Disposition                object\n",
       "Revenue from Resale              object\n",
       "Types of Incoming Electricity    object\n",
       "Types of Outgoing Electricity    object\n",
       "dtype: object"
      ]
     },
     "execution_count": 36,
     "metadata": {},
     "output_type": "execute_result"
    }
   ],
   "source": [
    "hydro2019.dtypes"
   ]
  },
  {
   "cell_type": "code",
   "execution_count": null,
   "metadata": {},
   "outputs": [],
   "source": []
  }
 ],
 "metadata": {
  "kernelspec": {
   "display_name": "Python 3",
   "language": "python",
   "name": "python3"
  },
  "language_info": {
   "codemirror_mode": {
    "name": "ipython",
    "version": 3
   },
   "file_extension": ".py",
   "mimetype": "text/x-python",
   "name": "python",
   "nbconvert_exporter": "python",
   "pygments_lexer": "ipython3",
   "version": "3.8.3"
  },
  "latex_envs": {
   "LaTeX_envs_menu_present": true,
   "autoclose": false,
   "autocomplete": true,
   "bibliofile": "biblio.bib",
   "cite_by": "apalike",
   "current_citInitial": 1,
   "eqLabelWithNumbers": true,
   "eqNumInitial": 1,
   "hotkeys": {
    "equation": "Ctrl-E",
    "itemize": "Ctrl-I"
   },
   "labels_anchors": false,
   "latex_user_defs": false,
   "report_style_numbering": false,
   "user_envs_cfg": false
  },
  "toc": {
   "base_numbering": 1,
   "nav_menu": {},
   "number_sections": true,
   "sideBar": true,
   "skip_h1_title": false,
   "title_cell": "Table of Contents",
   "title_sidebar": "Contents",
   "toc_cell": false,
   "toc_position": {},
   "toc_section_display": true,
   "toc_window_display": false
  },
  "varInspector": {
   "cols": {
    "lenName": 16,
    "lenType": 16,
    "lenVar": 40
   },
   "kernels_config": {
    "python": {
     "delete_cmd_postfix": "",
     "delete_cmd_prefix": "del ",
     "library": "var_list.py",
     "varRefreshCmd": "print(var_dic_list())"
    },
    "r": {
     "delete_cmd_postfix": ") ",
     "delete_cmd_prefix": "rm(",
     "library": "var_list.r",
     "varRefreshCmd": "cat(var_dic_list()) "
    }
   },
   "types_to_exclude": [
    "module",
    "function",
    "builtin_function_or_method",
    "instance",
    "_Feature"
   ],
   "window_display": false
  }
 },
 "nbformat": 4,
 "nbformat_minor": 4
}
