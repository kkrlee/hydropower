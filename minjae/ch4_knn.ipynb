{
 "cells": [
  {
   "cell_type": "code",
   "execution_count": 1,
   "metadata": {},
   "outputs": [],
   "source": [
    "%matplotlib inline\n",
    "import pandas as pd\n",
    "import numpy as np\n",
    "import matplotlib.pyplot as plt\n",
    "import seaborn as sns"
   ]
  },
  {
   "cell_type": "code",
   "execution_count": 2,
   "metadata": {},
   "outputs": [],
   "source": [
    "df = pd.read_csv('../elena/data/training_final_latcorr.csv')"
   ]
  },
  {
   "cell_type": "code",
   "execution_count": 3,
   "metadata": {},
   "outputs": [],
   "source": [
    "df['kWh'] = df['Area_km2'] / df['Area / Electricity']\n",
    "df = df.drop(['Longitude', 'Latitude','CO2 (g/kWh)', 'CH4 (g/kWh)', 'Area / Electricity', 'Name', 'field_1',\n",
    "              'temp_spring_avg', 'temp_summer_avg', 'temp_fall_avg', 'temp_winter_avg', \n",
    "              'NDVI_spring_avg', 'NDVI_summer_avg', 'NDVI_fall_avg', 'NDVI_winter_avg', \n",
    "              'npp_spring_avg' , 'npp_summer_avg' , 'npp_fall_avg' , 'npp_winter_avg'], axis=1)"
   ]
  },
  {
   "cell_type": "code",
   "execution_count": 4,
   "metadata": {},
   "outputs": [
    {
     "data": {
      "text/plain": [
       "Index(['CO2 (mg C m¯² d¯¹)', 'CH4 (mg C m-2 d-1)', 'Area_km2', 'Age',\n",
       "       'Volume_km3', 'Areakm2_div_Volkm3', 'org_c', 'temp_annual_avg',\n",
       "       'temp_spring_avg_lc', 'temp_summer_avg_lc', 'temp_fall_avg_lc',\n",
       "       'temp_winter_avg_lc', 'NDVI_annual_avg', 'NDVI_spring_avg_lc',\n",
       "       'NDVI_summer_avg_lc', 'NDVI_fall_avg_lc', 'NDVI_winter_avg_lc',\n",
       "       'npp_annual_avg', 'npp_spring_avg_lc', 'npp_summer_avg_lc',\n",
       "       'npp_fall_avg_lc', 'npp_winter_avg_lc', 'erosion', 'kWh'],\n",
       "      dtype='object')"
      ]
     },
     "execution_count": 4,
     "metadata": {},
     "output_type": "execute_result"
    }
   ],
   "source": [
    "df.columns"
   ]
  },
  {
   "cell_type": "code",
   "execution_count": 5,
   "metadata": {},
   "outputs": [
    {
     "data": {
      "text/plain": [
       "(154, 24)"
      ]
     },
     "execution_count": 5,
     "metadata": {},
     "output_type": "execute_result"
    }
   ],
   "source": [
    "df.shape"
   ]
  },
  {
   "cell_type": "code",
   "execution_count": 6,
   "metadata": {},
   "outputs": [],
   "source": [
    "ch4 = df.drop(['CO2 (mg C m¯² d¯¹)'], axis=1)\n",
    "ch4 = ch4[ch4['CH4 (mg C m-2 d-1)'].notna()]"
   ]
  },
  {
   "cell_type": "code",
   "execution_count": 7,
   "metadata": {},
   "outputs": [
    {
     "data": {
      "text/plain": [
       "Index(['CH4 (mg C m-2 d-1)', 'Area_km2', 'Age', 'Volume_km3',\n",
       "       'Areakm2_div_Volkm3', 'org_c', 'temp_annual_avg', 'temp_spring_avg_lc',\n",
       "       'temp_summer_avg_lc', 'temp_fall_avg_lc', 'temp_winter_avg_lc',\n",
       "       'NDVI_annual_avg', 'NDVI_spring_avg_lc', 'NDVI_summer_avg_lc',\n",
       "       'NDVI_fall_avg_lc', 'NDVI_winter_avg_lc', 'npp_annual_avg',\n",
       "       'npp_spring_avg_lc', 'npp_summer_avg_lc', 'npp_fall_avg_lc',\n",
       "       'npp_winter_avg_lc', 'erosion', 'kWh'],\n",
       "      dtype='object')"
      ]
     },
     "execution_count": 7,
     "metadata": {},
     "output_type": "execute_result"
    }
   ],
   "source": [
    "ch4.columns"
   ]
  },
  {
   "cell_type": "code",
   "execution_count": 8,
   "metadata": {},
   "outputs": [],
   "source": [
    "from sklearn.impute import KNNImputer\n",
    "model_impute = KNNImputer(n_neighbors=int(np.sqrt(ch4.shape[0])))\n",
    "ch4_imputed = model_impute.fit_transform(ch4)"
   ]
  },
  {
   "cell_type": "code",
   "execution_count": 9,
   "metadata": {},
   "outputs": [],
   "source": [
    "ch4_imputed = pd.DataFrame(columns=ch4.columns, data=ch4_imputed)"
   ]
  },
  {
   "cell_type": "code",
   "execution_count": 10,
   "metadata": {},
   "outputs": [
    {
     "name": "stdout",
     "output_type": "stream",
     "text": [
      "CH4 (mg C m-2 d-1) : 0\n",
      "Area_km2 : 0\n",
      "Age : 0\n",
      "Volume_km3 : 0\n",
      "Areakm2_div_Volkm3 : 0\n",
      "org_c : 0\n",
      "temp_annual_avg : 0\n",
      "temp_spring_avg_lc : 0\n",
      "temp_summer_avg_lc : 0\n",
      "temp_fall_avg_lc : 0\n",
      "temp_winter_avg_lc : 0\n",
      "NDVI_annual_avg : 0\n",
      "NDVI_spring_avg_lc : 0\n",
      "NDVI_summer_avg_lc : 0\n",
      "NDVI_fall_avg_lc : 0\n",
      "NDVI_winter_avg_lc : 0\n",
      "npp_annual_avg : 0\n",
      "npp_spring_avg_lc : 0\n",
      "npp_summer_avg_lc : 0\n",
      "npp_fall_avg_lc : 0\n",
      "npp_winter_avg_lc : 0\n",
      "erosion : 0\n",
      "kWh : 0\n"
     ]
    }
   ],
   "source": [
    "for column in ch4_imputed:\n",
    "    print(column, ':',  ch4_imputed[column].isna().sum())"
   ]
  },
  {
   "cell_type": "code",
   "execution_count": 11,
   "metadata": {},
   "outputs": [],
   "source": [
    "from sklearn.preprocessing import StandardScaler\n",
    "data = ch4_imputed.drop(['CH4 (mg C m-2 d-1)'], axis=1).copy()\n",
    "scaler = StandardScaler()\n",
    "ch4_scaled = pd.DataFrame(scaler.fit_transform(data),columns=ch4.columns[1:])"
   ]
  },
  {
   "cell_type": "markdown",
   "metadata": {},
   "source": [
    "# SVM"
   ]
  }
 ],
 "metadata": {
  "kernelspec": {
   "display_name": "Python 3",
   "language": "python",
   "name": "python3"
  },
  "language_info": {
   "codemirror_mode": {
    "name": "ipython",
    "version": 3
   },
   "file_extension": ".py",
   "mimetype": "text/x-python",
   "name": "python",
   "nbconvert_exporter": "python",
   "pygments_lexer": "ipython3",
   "version": "3.7.6"
  },
  "latex_envs": {
   "LaTeX_envs_menu_present": true,
   "autoclose": false,
   "autocomplete": true,
   "bibliofile": "biblio.bib",
   "cite_by": "apalike",
   "current_citInitial": 1,
   "eqLabelWithNumbers": true,
   "eqNumInitial": 1,
   "hotkeys": {
    "equation": "Ctrl-E",
    "itemize": "Ctrl-I"
   },
   "labels_anchors": false,
   "latex_user_defs": false,
   "report_style_numbering": false,
   "user_envs_cfg": false
  },
  "toc": {
   "base_numbering": 1,
   "nav_menu": {},
   "number_sections": true,
   "sideBar": true,
   "skip_h1_title": false,
   "title_cell": "Table of Contents",
   "title_sidebar": "Contents",
   "toc_cell": false,
   "toc_position": {},
   "toc_section_display": true,
   "toc_window_display": false
  },
  "varInspector": {
   "cols": {
    "lenName": 16,
    "lenType": 16,
    "lenVar": 40
   },
   "kernels_config": {
    "python": {
     "delete_cmd_postfix": "",
     "delete_cmd_prefix": "del ",
     "library": "var_list.py",
     "varRefreshCmd": "print(var_dic_list())"
    },
    "r": {
     "delete_cmd_postfix": ") ",
     "delete_cmd_prefix": "rm(",
     "library": "var_list.r",
     "varRefreshCmd": "cat(var_dic_list()) "
    }
   },
   "types_to_exclude": [
    "module",
    "function",
    "builtin_function_or_method",
    "instance",
    "_Feature"
   ],
   "window_display": false
  }
 },
 "nbformat": 4,
 "nbformat_minor": 4
}
