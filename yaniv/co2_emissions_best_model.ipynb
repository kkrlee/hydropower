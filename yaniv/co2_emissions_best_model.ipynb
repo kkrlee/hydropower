{
 "cells": [
  {
   "cell_type": "code",
   "execution_count": 1,
   "metadata": {},
   "outputs": [],
   "source": [
    "%matplotlib inline\n",
    "import matplotlib.pyplot as plt\n",
    "import numpy as np\n",
    "import pandas as pd"
   ]
  },
  {
   "cell_type": "code",
   "execution_count": 119,
   "metadata": {},
   "outputs": [],
   "source": [
    "#df = pd.read_csv('../elena/barros_2011_training.csv')\n",
    "df = pd.read_csv('../data/training_final_latcorr.csv')"
   ]
  },
  {
   "cell_type": "markdown",
   "metadata": {},
   "source": [
    "## Clean / Reverse Engineer Features\n",
    "- Electricity generated (kWh)\n",
    "- Drop redundant columns\n",
    "- Drop non-lc columns"
   ]
  },
  {
   "cell_type": "code",
   "execution_count": 120,
   "metadata": {},
   "outputs": [],
   "source": [
    "df['kWh'] = df['Area_km2'] / df['Area / Electricity']\n",
    "df = df.drop(['Longitude', 'Latitude','CO2 (g/kWh)', 'CH4 (g/kWh)', 'Area / Electricity', 'Name', 'field_1',\n",
    "              'temp_spring_avg', 'temp_summer_avg', 'temp_fall_avg', 'temp_winter_avg', 'temp_diff_summer_winter_lc',\n",
    "              'NDVI_spring_avg', 'NDVI_summer_avg', 'NDVI_fall_avg', 'NDVI_winter_avg', \n",
    "              'npp_spring_avg' , 'npp_summer_avg' , 'npp_fall_avg' , 'npp_winter_avg'], axis=1)"
   ]
  },
  {
   "cell_type": "code",
   "execution_count": 121,
   "metadata": {},
   "outputs": [
    {
     "data": {
      "text/plain": [
       "Index(['CO2 (mg C m¯² d¯¹)', 'CH4 (mg C m-2 d-1)', 'Area_km2', 'Age',\n",
       "       'Volume_km3', 'Areakm2_div_Volkm3', 'org_c', 'temp_annual_avg',\n",
       "       'temp_spring_avg_lc', 'temp_summer_avg_lc', 'temp_fall_avg_lc',\n",
       "       'temp_winter_avg_lc', 'NDVI_annual_avg', 'NDVI_spring_avg_lc',\n",
       "       'NDVI_summer_avg_lc', 'NDVI_fall_avg_lc', 'NDVI_winter_avg_lc',\n",
       "       'npp_annual_avg', 'npp_spring_avg_lc', 'npp_summer_avg_lc',\n",
       "       'npp_fall_avg_lc', 'npp_winter_avg_lc', 'erosion', 'precip', 'kWh'],\n",
       "      dtype='object')"
      ]
     },
     "execution_count": 121,
     "metadata": {},
     "output_type": "execute_result"
    }
   ],
   "source": [
    "df.columns"
   ]
  },
  {
   "cell_type": "code",
   "execution_count": 122,
   "metadata": {},
   "outputs": [],
   "source": [
    "co2 = df.drop(['CH4 (mg C m-2 d-1)'], axis=1)\n",
    "co2 = co2[co2['CO2 (mg C m¯² d¯¹)'].notna()]"
   ]
  },
  {
   "cell_type": "markdown",
   "metadata": {},
   "source": [
    "## XGBoost"
   ]
  },
  {
   "cell_type": "code",
   "execution_count": 7,
   "metadata": {},
   "outputs": [],
   "source": [
    "import xgboost"
   ]
  },
  {
   "cell_type": "code",
   "execution_count": 123,
   "metadata": {},
   "outputs": [],
   "source": [
    "from sklearn.preprocessing import StandardScaler\n",
    "\n",
    "data = co2.copy()\n",
    "scaler = StandardScaler()\n",
    "co2_scaled = pd.DataFrame(scaler.fit_transform(data),columns=co2.columns)"
   ]
  },
  {
   "cell_type": "code",
   "execution_count": 124,
   "metadata": {},
   "outputs": [],
   "source": [
    "X = co2_scaled.drop('CO2 (mg C m¯² d¯¹)', axis=1)\n",
    "Y = co2['CO2 (mg C m¯² d¯¹)']"
   ]
  },
  {
   "cell_type": "code",
   "execution_count": 125,
   "metadata": {},
   "outputs": [],
   "source": [
    "from sklearn.model_selection import train_test_split\n",
    "\n",
    "x_train, x_test, y_train, y_test = train_test_split(X, Y, test_size=0.33, random_state=42)\n",
    "\n",
    "x_train, x_val, y_train, y_val = train_test_split(x_train, y_train, test_size=0.5, random_state=42)"
   ]
  },
  {
   "cell_type": "code",
   "execution_count": 126,
   "metadata": {},
   "outputs": [],
   "source": [
    "from sklearn.impute import KNNImputer\n",
    "model_impute = KNNImputer(n_neighbors=int(np.sqrt(x_train.shape[0])))\n",
    "x_train_imputed = model_impute.fit_transform(x_train)\n",
    "\n",
    "x_train_imputed = pd.DataFrame(columns=x_train.columns, data=x_train_imputed)"
   ]
  },
  {
   "cell_type": "code",
   "execution_count": 127,
   "metadata": {},
   "outputs": [],
   "source": [
    "y_train_sq = y_train**2\n",
    "y_val_sq = y_val**2\n",
    "y_test_sq = y_test**2"
   ]
  },
  {
   "cell_type": "code",
   "execution_count": 128,
   "metadata": {
    "scrolled": true
   },
   "outputs": [
    {
     "name": "stdout",
     "output_type": "stream",
     "text": [
      "[0]\tvalidation_0-rmse:1806555.75000\n",
      "Will train until validation_0-rmse hasn't improved in 10 rounds.\n",
      "[1]\tvalidation_0-rmse:1863436.75000\n",
      "[2]\tvalidation_0-rmse:1906339.12500\n",
      "[3]\tvalidation_0-rmse:1947690.75000\n",
      "[4]\tvalidation_0-rmse:1977339.12500\n",
      "[5]\tvalidation_0-rmse:1997145.50000\n",
      "[6]\tvalidation_0-rmse:2009658.12500\n",
      "[7]\tvalidation_0-rmse:2017364.37500\n",
      "[8]\tvalidation_0-rmse:2022083.12500\n",
      "[9]\tvalidation_0-rmse:2024933.37500\n",
      "[10]\tvalidation_0-rmse:2026656.62500\n",
      "Stopping. Best iteration:\n",
      "[0]\tvalidation_0-rmse:1806555.75000\n",
      "\n",
      "train r2: 0.6498107078214889\n",
      "test  r2: 0.47176425504814906\n"
     ]
    }
   ],
   "source": [
    "xgb_reg_sq = xgboost.XGBRegressor(learning_rate=.8, n_estimators=100, max_depth=10)\n",
    "\n",
    "xgb_reg_sq.fit(x_train_imputed, y_train_sq, \n",
    "             eval_set=[(x_val, y_val_sq)], \n",
    "             early_stopping_rounds=10)\n",
    "\n",
    "print('train r2:', xgb_reg_sq.score(x_train_imputed, y_train_sq))\n",
    "print('test  r2:', xgb_reg_sq.score(x_test, y_test_sq))"
   ]
  },
  {
   "cell_type": "code",
   "execution_count": 129,
   "metadata": {},
   "outputs": [
    {
     "data": {
      "text/plain": [
       "<matplotlib.axes._subplots.AxesSubplot at 0x7ff9848c0d90>"
      ]
     },
     "execution_count": 129,
     "metadata": {},
     "output_type": "execute_result"
    },
    {
     "data": {
      "image/png": "[encoded data removed]",
      "text/plain": [
       "<Figure size 432x288 with 1 Axes>"
      ]
     },
     "metadata": {
      "needs_background": "light"
     },
     "output_type": "display_data"
    }
   ],
   "source": [
    "pd.DataFrame(index=x_train.columns, data=xgb_reg_sq.feature_importances_*100, columns=['Importance']).sort_values(by='Importance', ascending=False).head(10).plot(kind='barh')\n"
   ]
  },
  {
   "cell_type": "code",
   "execution_count": null,
   "metadata": {},
   "outputs": [],
   "source": []
  }
 ],
 "metadata": {
  "kernelspec": {
   "display_name": "Python 3",
   "language": "python",
   "name": "python3"
  },
  "language_info": {
   "codemirror_mode": {
    "name": "ipython",
    "version": 3
   },
   "file_extension": ".py",
   "mimetype": "text/x-python",
   "name": "python",
   "nbconvert_exporter": "python",
   "pygments_lexer": "ipython3",
   "version": "3.7.6"
  }
 },
 "nbformat": 4,
 "nbformat_minor": 4
}
