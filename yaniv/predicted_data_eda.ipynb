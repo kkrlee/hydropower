{
 "cells": [
  {
   "cell_type": "code",
   "execution_count": 1,
   "metadata": {},
   "outputs": [],
   "source": [
    "%matplotlib inline\n",
    "import matplotlib.pyplot as plt\n",
    "import numpy as np\n",
    "import pandas as pd"
   ]
  },
  {
   "cell_type": "code",
   "execution_count": 84,
   "metadata": {},
   "outputs": [],
   "source": [
    "present_ch4 = pd.read_csv('../data_predict/merged_PRESENT_ch4predicted.csv')\n",
    "best_case_ch4 = pd.read_csv('../data_predict/merged_2100ssp126_ch4predicted.csv')\n",
    "worst_case_ch4 = pd.read_csv('../data_predict/merged_2100ssp585_ch4predicted.csv')"
   ]
  },
  {
   "cell_type": "code",
   "execution_count": 85,
   "metadata": {},
   "outputs": [],
   "source": [
    "present_co2 = pd.read_csv('../data_predict/merged_PRESENT_co2predicted.csv')\n",
    "best_case_co2 = pd.read_csv('../data_predict/merged_2100ssp126_co2predicted.csv')\n",
    "worst_case_co2 = pd.read_csv('../data_predict/merged_2100ssp585_co2predicted.csv')"
   ]
  },
  {
   "cell_type": "code",
   "execution_count": 86,
   "metadata": {},
   "outputs": [],
   "source": [
    "present = present_co2.merge(present_ch4)\n",
    "best_case = best_case_co2.merge(best_case_ch4)\n",
    "worst_case = worst_case_co2.merge(worst_case_ch4)"
   ]
  },
  {
   "cell_type": "code",
   "execution_count": 103,
   "metadata": {},
   "outputs": [],
   "source": [
    "inspect = [\n",
    "'GRAND_ID',\n",
    "'RIVER',\n",
    "'YEAR',\n",
    "'QUALITY',\n",
    "'State',\n",
    "'Pt_Own',\n",
    "'OwType',\n",
    "'Dam_Own',\n",
    "'Type',\n",
    "'CH_MWh',\n",
    "'ch4_emissions',\n",
    "'co2_emissions'\n",
    "]\n",
    "present_reduced = present[inspect]\n",
    "best_case_reduced = best_case[inspect]\n",
    "worst_case_reduced = worst_case[inspect]"
   ]
  },
  {
   "cell_type": "code",
   "execution_count": 104,
   "metadata": {
    "collapsed": true
   },
   "outputs": [
    {
     "name": "stderr",
     "output_type": "stream",
     "text": [
      "/opt/anaconda3/lib/python3.7/site-packages/ipykernel_launcher.py:1: SettingWithCopyWarning: \n",
      "A value is trying to be set on a copy of a slice from a DataFrame.\n",
      "Try using .loc[row_indexer,col_indexer] = value instead\n",
      "\n",
      "See the caveats in the documentation: https://pandas.pydata.org/pandas-docs/stable/user_guide/indexing.html#returning-a-view-versus-a-copy\n",
      "  \"\"\"Entry point for launching an IPython kernel.\n",
      "/opt/anaconda3/lib/python3.7/site-packages/ipykernel_launcher.py:2: SettingWithCopyWarning: \n",
      "A value is trying to be set on a copy of a slice from a DataFrame.\n",
      "Try using .loc[row_indexer,col_indexer] = value instead\n",
      "\n",
      "See the caveats in the documentation: https://pandas.pydata.org/pandas-docs/stable/user_guide/indexing.html#returning-a-view-versus-a-copy\n",
      "  \n",
      "/opt/anaconda3/lib/python3.7/site-packages/ipykernel_launcher.py:3: SettingWithCopyWarning: \n",
      "A value is trying to be set on a copy of a slice from a DataFrame.\n",
      "Try using .loc[row_indexer,col_indexer] = value instead\n",
      "\n",
      "See the caveats in the documentation: https://pandas.pydata.org/pandas-docs/stable/user_guide/indexing.html#returning-a-view-versus-a-copy\n",
      "  This is separate from the ipykernel package so we can avoid doing imports until\n"
     ]
    }
   ],
   "source": [
    "present_reduced['QUALITY'] = [int(i[0]) for i in present['QUALITY']]\n",
    "best_case_reduced['QUALITY'] = [int(i[0]) for i in best_case['QUALITY']]\n",
    "worst_case_reduced['QUALITY'] = [int(i[0]) for i in worst_case['QUALITY']]"
   ]
  },
  {
   "cell_type": "code",
   "execution_count": 105,
   "metadata": {
    "scrolled": false
   },
   "outputs": [
    {
     "data": {
      "text/plain": [
       "2: Good          417\n",
       "3: Fair           80\n",
       "4: Poor           10\n",
       "5: Unreliable      3\n",
       "Name: QUALITY, dtype: int64"
      ]
     },
     "execution_count": 105,
     "metadata": {},
     "output_type": "execute_result"
    }
   ],
   "source": [
    "present['QUALITY'].value_counts()"
   ]
  },
  {
   "cell_type": "code",
   "execution_count": 109,
   "metadata": {},
   "outputs": [
    {
     "data": {
      "text/html": [
       "<div>\n",
       "<style scoped>\n",
       "    .dataframe tbody tr th:only-of-type {\n",
       "        vertical-align: middle;\n",
       "    }\n",
       "\n",
       "    .dataframe tbody tr th {\n",
       "        vertical-align: top;\n",
       "    }\n",
       "\n",
       "    .dataframe thead th {\n",
       "        text-align: right;\n",
       "    }\n",
       "</style>\n",
       "<table border=\"1\" class=\"dataframe\">\n",
       "  <thead>\n",
       "    <tr style=\"text-align: right;\">\n",
       "      <th></th>\n",
       "      <th>GRAND_ID</th>\n",
       "      <th>ch4_emissions</th>\n",
       "      <th>co2_emissions</th>\n",
       "      <th>CH_MWh</th>\n",
       "      <th>QUALITY</th>\n",
       "    </tr>\n",
       "    <tr>\n",
       "      <th>RIVER</th>\n",
       "      <th></th>\n",
       "      <th></th>\n",
       "      <th></th>\n",
       "      <th></th>\n",
       "      <th></th>\n",
       "    </tr>\n",
       "  </thead>\n",
       "  <tbody>\n",
       "    <tr>\n",
       "      <th>Colorado River</th>\n",
       "      <td>11</td>\n",
       "      <td>18.838647</td>\n",
       "      <td>83.943018</td>\n",
       "      <td>6.913585e+05</td>\n",
       "      <td>2.181818</td>\n",
       "    </tr>\n",
       "    <tr>\n",
       "      <th>Tennessee River</th>\n",
       "      <td>8</td>\n",
       "      <td>14.894847</td>\n",
       "      <td>221.176544</td>\n",
       "      <td>1.089148e+06</td>\n",
       "      <td>2.125000</td>\n",
       "    </tr>\n",
       "    <tr>\n",
       "      <th>Coosa</th>\n",
       "      <td>7</td>\n",
       "      <td>19.885232</td>\n",
       "      <td>327.380569</td>\n",
       "      <td>3.659213e+05</td>\n",
       "      <td>2.142857</td>\n",
       "    </tr>\n",
       "    <tr>\n",
       "      <th>Catawba</th>\n",
       "      <td>7</td>\n",
       "      <td>9.006565</td>\n",
       "      <td>152.377295</td>\n",
       "      <td>1.119966e+05</td>\n",
       "      <td>2.000000</td>\n",
       "    </tr>\n",
       "    <tr>\n",
       "      <th>Snake River</th>\n",
       "      <td>7</td>\n",
       "      <td>16.709434</td>\n",
       "      <td>79.667313</td>\n",
       "      <td>6.809141e+05</td>\n",
       "      <td>2.000000</td>\n",
       "    </tr>\n",
       "    <tr>\n",
       "      <th>North Platte River</th>\n",
       "      <td>6</td>\n",
       "      <td>13.076522</td>\n",
       "      <td>33.848924</td>\n",
       "      <td>9.394864e+04</td>\n",
       "      <td>2.333333</td>\n",
       "    </tr>\n",
       "    <tr>\n",
       "      <th>Wisconsin</th>\n",
       "      <td>6</td>\n",
       "      <td>6.400172</td>\n",
       "      <td>111.183653</td>\n",
       "      <td>4.801425e+04</td>\n",
       "      <td>2.000000</td>\n",
       "    </tr>\n",
       "    <tr>\n",
       "      <th>Missouri</th>\n",
       "      <td>6</td>\n",
       "      <td>7.839304</td>\n",
       "      <td>179.518776</td>\n",
       "      <td>9.927352e+05</td>\n",
       "      <td>2.166667</td>\n",
       "    </tr>\n",
       "    <tr>\n",
       "      <th>Connecticut River</th>\n",
       "      <td>5</td>\n",
       "      <td>1.869401</td>\n",
       "      <td>316.214975</td>\n",
       "      <td>2.068483e+05</td>\n",
       "      <td>2.400000</td>\n",
       "    </tr>\n",
       "    <tr>\n",
       "      <th>Au Sable</th>\n",
       "      <td>5</td>\n",
       "      <td>2.877083</td>\n",
       "      <td>230.627531</td>\n",
       "      <td>2.286485e+04</td>\n",
       "      <td>2.000000</td>\n",
       "    </tr>\n",
       "  </tbody>\n",
       "</table>\n",
       "</div>"
      ],
      "text/plain": [
       "                    GRAND_ID  ch4_emissions  co2_emissions        CH_MWh  \\\n",
       "RIVER                                                                      \n",
       "Colorado River            11      18.838647      83.943018  6.913585e+05   \n",
       "Tennessee River            8      14.894847     221.176544  1.089148e+06   \n",
       "Coosa                      7      19.885232     327.380569  3.659213e+05   \n",
       "Catawba                    7       9.006565     152.377295  1.119966e+05   \n",
       "Snake River                7      16.709434      79.667313  6.809141e+05   \n",
       "North Platte River         6      13.076522      33.848924  9.394864e+04   \n",
       "Wisconsin                  6       6.400172     111.183653  4.801425e+04   \n",
       "Missouri                   6       7.839304     179.518776  9.927352e+05   \n",
       "Connecticut River          5       1.869401     316.214975  2.068483e+05   \n",
       "Au Sable                   5       2.877083     230.627531  2.286485e+04   \n",
       "\n",
       "                     QUALITY  \n",
       "RIVER                         \n",
       "Colorado River      2.181818  \n",
       "Tennessee River     2.125000  \n",
       "Coosa               2.142857  \n",
       "Catawba             2.000000  \n",
       "Snake River         2.000000  \n",
       "North Platte River  2.333333  \n",
       "Wisconsin           2.000000  \n",
       "Missouri            2.166667  \n",
       "Connecticut River   2.400000  \n",
       "Au Sable            2.000000  "
      ]
     },
     "execution_count": 109,
     "metadata": {},
     "output_type": "execute_result"
    }
   ],
   "source": [
    "present_reduced.groupby('RIVER').agg({'GRAND_ID' : 'count',\n",
    "                                      'ch4_emissions': 'mean',\n",
    "                                      'co2_emissions': 'mean',\n",
    "                                      'CH_MWh' : 'mean',\n",
    "                                      'QUALITY' : 'mean'}).sort_values(by='GRAND_ID', ascending=False).head(10)"
   ]
  },
  {
   "cell_type": "code",
   "execution_count": 116,
   "metadata": {
    "collapsed": true
   },
   "outputs": [
    {
     "data": {
      "text/html": [
       "<div>\n",
       "<style scoped>\n",
       "    .dataframe tbody tr th:only-of-type {\n",
       "        vertical-align: middle;\n",
       "    }\n",
       "\n",
       "    .dataframe tbody tr th {\n",
       "        vertical-align: top;\n",
       "    }\n",
       "\n",
       "    .dataframe thead th {\n",
       "        text-align: right;\n",
       "    }\n",
       "</style>\n",
       "<table border=\"1\" class=\"dataframe\">\n",
       "  <thead>\n",
       "    <tr style=\"text-align: right;\">\n",
       "      <th></th>\n",
       "      <th>ch4_emissions</th>\n",
       "      <th>co2_emissions</th>\n",
       "      <th>CH_MWh</th>\n",
       "      <th>QUALITY</th>\n",
       "    </tr>\n",
       "    <tr>\n",
       "      <th>RIVER</th>\n",
       "      <th></th>\n",
       "      <th></th>\n",
       "      <th></th>\n",
       "      <th></th>\n",
       "    </tr>\n",
       "  </thead>\n",
       "  <tbody>\n",
       "    <tr>\n",
       "      <th>Colorado River</th>\n",
       "      <td>20.318566</td>\n",
       "      <td>90.684271</td>\n",
       "      <td>11</td>\n",
       "      <td>2.181818</td>\n",
       "    </tr>\n",
       "    <tr>\n",
       "      <th>Tennessee River</th>\n",
       "      <td>15.159047</td>\n",
       "      <td>236.773847</td>\n",
       "      <td>8</td>\n",
       "      <td>2.125000</td>\n",
       "    </tr>\n",
       "    <tr>\n",
       "      <th>Catawba</th>\n",
       "      <td>10.248423</td>\n",
       "      <td>164.980350</td>\n",
       "      <td>7</td>\n",
       "      <td>2.000000</td>\n",
       "    </tr>\n",
       "    <tr>\n",
       "      <th>Coosa</th>\n",
       "      <td>22.117638</td>\n",
       "      <td>387.062904</td>\n",
       "      <td>7</td>\n",
       "      <td>2.142857</td>\n",
       "    </tr>\n",
       "    <tr>\n",
       "      <th>Snake River</th>\n",
       "      <td>17.357077</td>\n",
       "      <td>83.694049</td>\n",
       "      <td>7</td>\n",
       "      <td>2.000000</td>\n",
       "    </tr>\n",
       "    <tr>\n",
       "      <th>...</th>\n",
       "      <td>...</td>\n",
       "      <td>...</td>\n",
       "      <td>...</td>\n",
       "      <td>...</td>\n",
       "    </tr>\n",
       "    <tr>\n",
       "      <th>Mono Creek</th>\n",
       "      <td>23.792293</td>\n",
       "      <td>52.968721</td>\n",
       "      <td>0</td>\n",
       "      <td>2.000000</td>\n",
       "    </tr>\n",
       "    <tr>\n",
       "      <th>Elk</th>\n",
       "      <td>1.400102</td>\n",
       "      <td>249.115994</td>\n",
       "      <td>0</td>\n",
       "      <td>5.000000</td>\n",
       "    </tr>\n",
       "    <tr>\n",
       "      <th>Trib. Arroyo Simi</th>\n",
       "      <td>29.256678</td>\n",
       "      <td>397.943445</td>\n",
       "      <td>0</td>\n",
       "      <td>2.000000</td>\n",
       "    </tr>\n",
       "    <tr>\n",
       "      <th>Owasco Outlet</th>\n",
       "      <td>19.498675</td>\n",
       "      <td>220.188669</td>\n",
       "      <td>0</td>\n",
       "      <td>3.000000</td>\n",
       "    </tr>\n",
       "    <tr>\n",
       "      <th>Florida River</th>\n",
       "      <td>12.941678</td>\n",
       "      <td>56.919862</td>\n",
       "      <td>0</td>\n",
       "      <td>2.000000</td>\n",
       "    </tr>\n",
       "  </tbody>\n",
       "</table>\n",
       "<p>348 rows × 4 columns</p>\n",
       "</div>"
      ],
      "text/plain": [
       "                   ch4_emissions  co2_emissions  CH_MWh   QUALITY\n",
       "RIVER                                                            \n",
       "Colorado River         20.318566      90.684271      11  2.181818\n",
       "Tennessee River        15.159047     236.773847       8  2.125000\n",
       "Catawba                10.248423     164.980350       7  2.000000\n",
       "Coosa                  22.117638     387.062904       7  2.142857\n",
       "Snake River            17.357077      83.694049       7  2.000000\n",
       "...                          ...            ...     ...       ...\n",
       "Mono Creek             23.792293      52.968721       0  2.000000\n",
       "Elk                     1.400102     249.115994       0  5.000000\n",
       "Trib. Arroyo Simi      29.256678     397.943445       0  2.000000\n",
       "Owasco Outlet          19.498675     220.188669       0  3.000000\n",
       "Florida River          12.941678      56.919862       0  2.000000\n",
       "\n",
       "[348 rows x 4 columns]"
      ]
     },
     "execution_count": 116,
     "metadata": {},
     "output_type": "execute_result"
    }
   ],
   "source": [
    "best_case_reduced.groupby('RIVER').agg({'ch4_emissions': 'mean',\n",
    "                                      'co2_emissions': 'mean',\n",
    "                                      'CH_MWh': 'count',\n",
    "                                      'QUALITY' : 'mean'}).sort_values(by='CH_MWh', ascending=False)"
   ]
  },
  {
   "cell_type": "code",
   "execution_count": 110,
   "metadata": {
    "collapsed": true
   },
   "outputs": [
    {
     "name": "stderr",
     "output_type": "stream",
     "text": [
      "/opt/anaconda3/lib/python3.7/site-packages/ipykernel_launcher.py:1: SettingWithCopyWarning: \n",
      "A value is trying to be set on a copy of a slice from a DataFrame.\n",
      "Try using .loc[row_indexer,col_indexer] = value instead\n",
      "\n",
      "See the caveats in the documentation: https://pandas.pydata.org/pandas-docs/stable/user_guide/indexing.html#returning-a-view-versus-a-copy\n",
      "  \"\"\"Entry point for launching an IPython kernel.\n"
     ]
    }
   ],
   "source": [
    "present_reduced['MWh/co2'] = present_reduced['CH_MWh']/present_reduced['co2_emissions']"
   ]
  },
  {
   "cell_type": "code",
   "execution_count": 117,
   "metadata": {},
   "outputs": [],
   "source": [
    "g = present_reduced.groupby('RIVER').agg({'GRAND_ID' : 'count',\n",
    "                                      'MWh/co2' : 'sum',\n",
    "                                      'QUALITY' : 'mean'}).sort_values(by='GRAND_ID', ascending=False)"
   ]
  },
  {
   "cell_type": "code",
   "execution_count": 129,
   "metadata": {},
   "outputs": [
    {
     "data": {
      "text/plain": [
       "[(-500, 5000)]"
      ]
     },
     "execution_count": 129,
     "metadata": {},
     "output_type": "execute_result"
    },
    {
     "data": {
      "image/png": "[encoded data removed]",
      "text/plain": [
       "<Figure size 576x360 with 1 Axes>"
      ]
     },
     "metadata": {
      "needs_background": "light"
     },
     "output_type": "display_data"
    }
   ],
   "source": [
    "import seaborn as sns\n",
    "\n",
    "plt.figure(figsize=(8,5))\n",
    "sns.boxplot(x='QUALITY', y='MWh/co2', data=present_reduced).set(ylim=(-500,5000))"
   ]
  },
  {
   "cell_type": "code",
   "execution_count": null,
   "metadata": {},
   "outputs": [],
   "source": []
  }
 ],
 "metadata": {
  "kernelspec": {
   "display_name": "Python 3",
   "language": "python",
   "name": "python3"
  },
  "language_info": {
   "codemirror_mode": {
    "name": "ipython",
    "version": 3
   },
   "file_extension": ".py",
   "mimetype": "text/x-python",
   "name": "python",
   "nbconvert_exporter": "python",
   "pygments_lexer": "ipython3",
   "version": "3.7.6"
  }
 },
 "nbformat": 4,
 "nbformat_minor": 4
}
