{
 "cells": [
  {
   "cell_type": "code",
   "execution_count": 1,
   "metadata": {},
   "outputs": [],
   "source": [
    "%matplotlib inline\n",
    "import matplotlib.pyplot as plt\n",
    "import numpy as np\n",
    "import pandas as pd"
   ]
  },
  {
   "cell_type": "code",
   "execution_count": 2,
   "metadata": {},
   "outputs": [],
   "source": [
    "#df = pd.read_csv('../elena/barros_2011_training.csv')\n",
    "df = pd.read_csv('../elena/data/training_final_latcorr.csv')"
   ]
  },
  {
   "cell_type": "markdown",
   "metadata": {},
   "source": [
    "## Clean / Reverse Engineer Features\n",
    "- Electricity generated (kWh)\n",
    "- Drop redundant columns\n",
    "- Drop non-lc columns"
   ]
  },
  {
   "cell_type": "code",
   "execution_count": 3,
   "metadata": {},
   "outputs": [],
   "source": [
    "df['kWh'] = df['Area_km2'] / df['Area / Electricity']\n",
    "df = df.drop(['Longitude', 'Latitude','CO2 (g/kWh)', 'CH4 (g/kWh)', 'Area / Electricity', 'Name', 'field_1',\n",
    "              'temp_spring_avg', 'temp_summer_avg', 'temp_fall_avg', 'temp_winter_avg', \n",
    "              'NDVI_spring_avg', 'NDVI_summer_avg', 'NDVI_fall_avg', 'NDVI_winter_avg', \n",
    "              'npp_spring_avg' , 'npp_summer_avg' , 'npp_fall_avg' , 'npp_winter_avg'], axis=1)"
   ]
  },
  {
   "cell_type": "code",
   "execution_count": 4,
   "metadata": {},
   "outputs": [
    {
     "data": {
      "text/plain": [
       "Index(['CO2 (mg C m¯² d¯¹)', 'CH4 (mg C m-2 d-1)', 'Area_km2', 'Age',\n",
       "       'Volume_km3', 'Areakm2_div_Volkm3', 'org_c', 'temp_annual_avg',\n",
       "       'temp_spring_avg_lc', 'temp_summer_avg_lc', 'temp_fall_avg_lc',\n",
       "       'temp_winter_avg_lc', 'NDVI_annual_avg', 'NDVI_spring_avg_lc',\n",
       "       'NDVI_summer_avg_lc', 'NDVI_fall_avg_lc', 'NDVI_winter_avg_lc',\n",
       "       'npp_annual_avg', 'npp_spring_avg_lc', 'npp_summer_avg_lc',\n",
       "       'npp_fall_avg_lc', 'npp_winter_avg_lc', 'erosion', 'kWh'],\n",
       "      dtype='object')"
      ]
     },
     "execution_count": 4,
     "metadata": {},
     "output_type": "execute_result"
    }
   ],
   "source": [
    "df.columns"
   ]
  },
  {
   "cell_type": "code",
   "execution_count": 5,
   "metadata": {},
   "outputs": [
    {
     "data": {
      "text/plain": [
       "(154, 24)"
      ]
     },
     "execution_count": 5,
     "metadata": {},
     "output_type": "execute_result"
    }
   ],
   "source": [
    "df.shape"
   ]
  },
  {
   "cell_type": "code",
   "execution_count": null,
   "metadata": {},
   "outputs": [],
   "source": [
    "#create co2 df"
   ]
  },
  {
   "cell_type": "code",
   "execution_count": 6,
   "metadata": {},
   "outputs": [],
   "source": [
    "co2 = df.drop(['CH4 (mg C m-2 d-1)'], axis=1)\n",
    "co2 = co2[co2['CO2 (mg C m¯² d¯¹)'].notna()]"
   ]
  },
  {
   "cell_type": "markdown",
   "metadata": {},
   "source": [
    "### Pre-processing"
   ]
  },
  {
   "cell_type": "markdown",
   "metadata": {},
   "source": [
    "#### knn impute missing values"
   ]
  },
  {
   "cell_type": "code",
   "execution_count": 7,
   "metadata": {},
   "outputs": [],
   "source": [
    "from sklearn.impute import KNNImputer\n",
    "model_impute = KNNImputer(n_neighbors=int(np.sqrt(co2.shape[0])))\n",
    "co2_imputed = model_impute.fit_transform(co2)"
   ]
  },
  {
   "cell_type": "code",
   "execution_count": 8,
   "metadata": {},
   "outputs": [],
   "source": [
    "co2_imputed = pd.DataFrame(columns=co2.columns, data=co2_imputed)"
   ]
  },
  {
   "cell_type": "code",
   "execution_count": 9,
   "metadata": {
    "collapsed": true
   },
   "outputs": [
    {
     "name": "stdout",
     "output_type": "stream",
     "text": [
      "CO2 (mg C m¯² d¯¹) : 0\n",
      "Area_km2 : 0\n",
      "Age : 0\n",
      "Volume_km3 : 0\n",
      "Areakm2_div_Volkm3 : 0\n",
      "org_c : 0\n",
      "temp_annual_avg : 0\n",
      "temp_spring_avg_lc : 0\n",
      "temp_summer_avg_lc : 0\n",
      "temp_fall_avg_lc : 0\n",
      "temp_winter_avg_lc : 0\n",
      "NDVI_annual_avg : 0\n",
      "NDVI_spring_avg_lc : 0\n",
      "NDVI_summer_avg_lc : 0\n",
      "NDVI_fall_avg_lc : 0\n",
      "NDVI_winter_avg_lc : 0\n",
      "npp_annual_avg : 0\n",
      "npp_spring_avg_lc : 0\n",
      "npp_summer_avg_lc : 0\n",
      "npp_fall_avg_lc : 0\n",
      "npp_winter_avg_lc : 0\n",
      "erosion : 0\n",
      "kWh : 0\n"
     ]
    }
   ],
   "source": [
    "#check\n",
    "for column in co2_imputed:\n",
    "    print(column, ':',  co2_imputed[column].isna().sum())"
   ]
  },
  {
   "cell_type": "markdown",
   "metadata": {},
   "source": [
    "#### scaling features"
   ]
  },
  {
   "cell_type": "code",
   "execution_count": 10,
   "metadata": {},
   "outputs": [],
   "source": [
    "from sklearn.preprocessing import StandardScaler\n",
    "data = co2_imputed.drop(['CO2 (mg C m¯² d¯¹)'], axis=1).copy()\n",
    "scaler = StandardScaler()\n",
    "co2_scaled = pd.DataFrame(scaler.fit_transform(data),columns=co2.columns[1:])"
   ]
  },
  {
   "cell_type": "code",
   "execution_count": 11,
   "metadata": {},
   "outputs": [
    {
     "data": {
      "text/html": [
       "<div>\n",
       "<style scoped>\n",
       "    .dataframe tbody tr th:only-of-type {\n",
       "        vertical-align: middle;\n",
       "    }\n",
       "\n",
       "    .dataframe tbody tr th {\n",
       "        vertical-align: top;\n",
       "    }\n",
       "\n",
       "    .dataframe thead th {\n",
       "        text-align: right;\n",
       "    }\n",
       "</style>\n",
       "<table border=\"1\" class=\"dataframe\">\n",
       "  <thead>\n",
       "    <tr style=\"text-align: right;\">\n",
       "      <th></th>\n",
       "      <th>Area_km2</th>\n",
       "      <th>Age</th>\n",
       "      <th>Volume_km3</th>\n",
       "      <th>Areakm2_div_Volkm3</th>\n",
       "      <th>org_c</th>\n",
       "      <th>temp_annual_avg</th>\n",
       "      <th>temp_spring_avg_lc</th>\n",
       "      <th>temp_summer_avg_lc</th>\n",
       "      <th>temp_fall_avg_lc</th>\n",
       "      <th>temp_winter_avg_lc</th>\n",
       "      <th>...</th>\n",
       "      <th>NDVI_summer_avg_lc</th>\n",
       "      <th>NDVI_fall_avg_lc</th>\n",
       "      <th>NDVI_winter_avg_lc</th>\n",
       "      <th>npp_annual_avg</th>\n",
       "      <th>npp_spring_avg_lc</th>\n",
       "      <th>npp_summer_avg_lc</th>\n",
       "      <th>npp_fall_avg_lc</th>\n",
       "      <th>npp_winter_avg_lc</th>\n",
       "      <th>erosion</th>\n",
       "      <th>kWh</th>\n",
       "    </tr>\n",
       "  </thead>\n",
       "  <tbody>\n",
       "    <tr>\n",
       "      <th>0</th>\n",
       "      <td>-0.637106</td>\n",
       "      <td>-0.913790</td>\n",
       "      <td>-0.488456</td>\n",
       "      <td>-0.363661</td>\n",
       "      <td>-0.555711</td>\n",
       "      <td>0.684757</td>\n",
       "      <td>0.777851</td>\n",
       "      <td>0.513276</td>\n",
       "      <td>0.615875</td>\n",
       "      <td>0.749077</td>\n",
       "      <td>...</td>\n",
       "      <td>0.739486</td>\n",
       "      <td>0.548385</td>\n",
       "      <td>0.941081</td>\n",
       "      <td>3.695553</td>\n",
       "      <td>3.309828</td>\n",
       "      <td>1.087479</td>\n",
       "      <td>3.217878</td>\n",
       "      <td>2.141876</td>\n",
       "      <td>1.884674</td>\n",
       "      <td>-0.022636</td>\n",
       "    </tr>\n",
       "    <tr>\n",
       "      <th>1</th>\n",
       "      <td>-0.637106</td>\n",
       "      <td>-0.913790</td>\n",
       "      <td>-0.488456</td>\n",
       "      <td>-0.363661</td>\n",
       "      <td>-0.555711</td>\n",
       "      <td>0.684757</td>\n",
       "      <td>0.777851</td>\n",
       "      <td>0.513276</td>\n",
       "      <td>0.615875</td>\n",
       "      <td>0.749077</td>\n",
       "      <td>...</td>\n",
       "      <td>0.739486</td>\n",
       "      <td>0.548385</td>\n",
       "      <td>0.941081</td>\n",
       "      <td>3.695553</td>\n",
       "      <td>3.309828</td>\n",
       "      <td>1.087479</td>\n",
       "      <td>3.217878</td>\n",
       "      <td>2.141876</td>\n",
       "      <td>1.884674</td>\n",
       "      <td>-0.022636</td>\n",
       "    </tr>\n",
       "    <tr>\n",
       "      <th>2</th>\n",
       "      <td>1.101332</td>\n",
       "      <td>-0.871820</td>\n",
       "      <td>4.377290</td>\n",
       "      <td>-0.426030</td>\n",
       "      <td>-0.657505</td>\n",
       "      <td>1.069519</td>\n",
       "      <td>1.054485</td>\n",
       "      <td>1.342929</td>\n",
       "      <td>1.045985</td>\n",
       "      <td>0.972523</td>\n",
       "      <td>...</td>\n",
       "      <td>1.251663</td>\n",
       "      <td>1.331399</td>\n",
       "      <td>1.399686</td>\n",
       "      <td>-0.347270</td>\n",
       "      <td>-0.013138</td>\n",
       "      <td>-1.220722</td>\n",
       "      <td>-0.072482</td>\n",
       "      <td>0.495821</td>\n",
       "      <td>3.018306</td>\n",
       "      <td>9.010330</td>\n",
       "    </tr>\n",
       "    <tr>\n",
       "      <th>3</th>\n",
       "      <td>-0.708398</td>\n",
       "      <td>2.527707</td>\n",
       "      <td>-0.584999</td>\n",
       "      <td>-0.242877</td>\n",
       "      <td>-0.274721</td>\n",
       "      <td>0.998409</td>\n",
       "      <td>0.964513</td>\n",
       "      <td>0.939314</td>\n",
       "      <td>1.014878</td>\n",
       "      <td>1.020211</td>\n",
       "      <td>...</td>\n",
       "      <td>0.708128</td>\n",
       "      <td>1.036800</td>\n",
       "      <td>0.992513</td>\n",
       "      <td>1.947225</td>\n",
       "      <td>1.844059</td>\n",
       "      <td>0.177579</td>\n",
       "      <td>2.455805</td>\n",
       "      <td>1.951695</td>\n",
       "      <td>-0.348399</td>\n",
       "      <td>-0.409070</td>\n",
       "    </tr>\n",
       "    <tr>\n",
       "      <th>4</th>\n",
       "      <td>-0.305322</td>\n",
       "      <td>0.303325</td>\n",
       "      <td>-0.449839</td>\n",
       "      <td>-0.165231</td>\n",
       "      <td>-0.830814</td>\n",
       "      <td>1.043744</td>\n",
       "      <td>1.069770</td>\n",
       "      <td>1.029762</td>\n",
       "      <td>1.007827</td>\n",
       "      <td>1.030781</td>\n",
       "      <td>...</td>\n",
       "      <td>-0.870217</td>\n",
       "      <td>-0.451701</td>\n",
       "      <td>0.071016</td>\n",
       "      <td>1.282326</td>\n",
       "      <td>0.361633</td>\n",
       "      <td>-0.357656</td>\n",
       "      <td>2.097183</td>\n",
       "      <td>1.368034</td>\n",
       "      <td>0.443458</td>\n",
       "      <td>-0.466019</td>\n",
       "    </tr>\n",
       "  </tbody>\n",
       "</table>\n",
       "<p>5 rows × 22 columns</p>\n",
       "</div>"
      ],
      "text/plain": [
       "   Area_km2       Age  Volume_km3  Areakm2_div_Volkm3     org_c  \\\n",
       "0 -0.637106 -0.913790   -0.488456           -0.363661 -0.555711   \n",
       "1 -0.637106 -0.913790   -0.488456           -0.363661 -0.555711   \n",
       "2  1.101332 -0.871820    4.377290           -0.426030 -0.657505   \n",
       "3 -0.708398  2.527707   -0.584999           -0.242877 -0.274721   \n",
       "4 -0.305322  0.303325   -0.449839           -0.165231 -0.830814   \n",
       "\n",
       "   temp_annual_avg  temp_spring_avg_lc  temp_summer_avg_lc  temp_fall_avg_lc  \\\n",
       "0         0.684757            0.777851            0.513276          0.615875   \n",
       "1         0.684757            0.777851            0.513276          0.615875   \n",
       "2         1.069519            1.054485            1.342929          1.045985   \n",
       "3         0.998409            0.964513            0.939314          1.014878   \n",
       "4         1.043744            1.069770            1.029762          1.007827   \n",
       "\n",
       "   temp_winter_avg_lc  ...  NDVI_summer_avg_lc  NDVI_fall_avg_lc  \\\n",
       "0            0.749077  ...            0.739486          0.548385   \n",
       "1            0.749077  ...            0.739486          0.548385   \n",
       "2            0.972523  ...            1.251663          1.331399   \n",
       "3            1.020211  ...            0.708128          1.036800   \n",
       "4            1.030781  ...           -0.870217         -0.451701   \n",
       "\n",
       "   NDVI_winter_avg_lc  npp_annual_avg  npp_spring_avg_lc  npp_summer_avg_lc  \\\n",
       "0            0.941081        3.695553           3.309828           1.087479   \n",
       "1            0.941081        3.695553           3.309828           1.087479   \n",
       "2            1.399686       -0.347270          -0.013138          -1.220722   \n",
       "3            0.992513        1.947225           1.844059           0.177579   \n",
       "4            0.071016        1.282326           0.361633          -0.357656   \n",
       "\n",
       "   npp_fall_avg_lc  npp_winter_avg_lc   erosion       kWh  \n",
       "0         3.217878           2.141876  1.884674 -0.022636  \n",
       "1         3.217878           2.141876  1.884674 -0.022636  \n",
       "2        -0.072482           0.495821  3.018306  9.010330  \n",
       "3         2.455805           1.951695 -0.348399 -0.409070  \n",
       "4         2.097183           1.368034  0.443458 -0.466019  \n",
       "\n",
       "[5 rows x 22 columns]"
      ]
     },
     "execution_count": 11,
     "metadata": {},
     "output_type": "execute_result"
    }
   ],
   "source": [
    "co2_scaled.head()"
   ]
  },
  {
   "cell_type": "markdown",
   "metadata": {},
   "source": [
    "## Support Vector Machine"
   ]
  },
  {
   "cell_type": "code",
   "execution_count": 59,
   "metadata": {},
   "outputs": [],
   "source": [
    "X = co2_scaled\n",
    "y = co2['CO2 (mg C m¯² d¯¹)']"
   ]
  },
  {
   "cell_type": "code",
   "execution_count": 60,
   "metadata": {},
   "outputs": [],
   "source": [
    "from sklearn.model_selection import train_test_split\n",
    "\n",
    "x_train, x_test, y_train, y_test = train_test_split(X, y, test_size=0.2, random_state=42)"
   ]
  },
  {
   "cell_type": "code",
   "execution_count": 64,
   "metadata": {},
   "outputs": [
    {
     "data": {
      "text/plain": [
       "SVR(C=1.0, cache_size=200, coef0=0.0, degree=3, epsilon=0.1, gamma='scale',\n",
       "    kernel='rbf', max_iter=-1, shrinking=True, tol=0.001, verbose=False)"
      ]
     },
     "execution_count": 64,
     "metadata": {},
     "output_type": "execute_result"
    }
   ],
   "source": [
    "from sklearn import svm\n",
    "\n",
    "regr = svm.SVR()\n",
    "regr.fit(x_train, y_train)"
   ]
  },
  {
   "cell_type": "code",
   "execution_count": 65,
   "metadata": {},
   "outputs": [
    {
     "name": "stdout",
     "output_type": "stream",
     "text": [
      "train score: -0.069229035617141\n",
      "test  score: 0.006544677233467189\n"
     ]
    }
   ],
   "source": [
    "print('train score:', regr.score(x_train, y_train))\n",
    "print('test  score:', regr.score(x_test, y_test))"
   ]
  },
  {
   "cell_type": "markdown",
   "metadata": {},
   "source": [
    "### linear kernel"
   ]
  },
  {
   "cell_type": "code",
   "execution_count": 67,
   "metadata": {},
   "outputs": [
    {
     "data": {
      "text/plain": [
       "SVR(C=1.0, cache_size=200, coef0=0.0, degree=3, epsilon=0.1, gamma='scale',\n",
       "    kernel='linear', max_iter=-1, shrinking=True, tol=0.001, verbose=False)"
      ]
     },
     "execution_count": 67,
     "metadata": {},
     "output_type": "execute_result"
    }
   ],
   "source": [
    "regr2 = svm.SVR(kernel='linear')\n",
    "regr2.fit(x_train, y_train)"
   ]
  },
  {
   "cell_type": "code",
   "execution_count": 68,
   "metadata": {},
   "outputs": [
    {
     "name": "stdout",
     "output_type": "stream",
     "text": [
      "train score: 0.12034293778309113\n",
      "test  score: -0.04167438641993537\n"
     ]
    }
   ],
   "source": [
    "print('train score:', regr2.score(x_train, y_train))\n",
    "print('test  score:', regr2.score(x_test, y_test))"
   ]
  },
  {
   "cell_type": "code",
   "execution_count": 69,
   "metadata": {
    "collapsed": true
   },
   "outputs": [
    {
     "data": {
      "text/html": [
       "<div>\n",
       "<style scoped>\n",
       "    .dataframe tbody tr th:only-of-type {\n",
       "        vertical-align: middle;\n",
       "    }\n",
       "\n",
       "    .dataframe tbody tr th {\n",
       "        vertical-align: top;\n",
       "    }\n",
       "\n",
       "    .dataframe thead th {\n",
       "        text-align: right;\n",
       "    }\n",
       "</style>\n",
       "<table border=\"1\" class=\"dataframe\">\n",
       "  <thead>\n",
       "    <tr style=\"text-align: right;\">\n",
       "      <th></th>\n",
       "      <th>0</th>\n",
       "    </tr>\n",
       "  </thead>\n",
       "  <tbody>\n",
       "    <tr>\n",
       "      <th>Age</th>\n",
       "      <td>-33.784747</td>\n",
       "    </tr>\n",
       "    <tr>\n",
       "      <th>npp_spring_avg_lc</th>\n",
       "      <td>-18.056804</td>\n",
       "    </tr>\n",
       "    <tr>\n",
       "      <th>Volume_km3</th>\n",
       "      <td>-15.942009</td>\n",
       "    </tr>\n",
       "    <tr>\n",
       "      <th>npp_summer_avg_lc</th>\n",
       "      <td>-15.745941</td>\n",
       "    </tr>\n",
       "    <tr>\n",
       "      <th>Areakm2_div_Volkm3</th>\n",
       "      <td>-12.205813</td>\n",
       "    </tr>\n",
       "    <tr>\n",
       "      <th>NDVI_spring_avg_lc</th>\n",
       "      <td>-3.844591</td>\n",
       "    </tr>\n",
       "    <tr>\n",
       "      <th>erosion</th>\n",
       "      <td>-1.091901</td>\n",
       "    </tr>\n",
       "    <tr>\n",
       "      <th>kWh</th>\n",
       "      <td>1.045439</td>\n",
       "    </tr>\n",
       "    <tr>\n",
       "      <th>NDVI_summer_avg_lc</th>\n",
       "      <td>1.152633</td>\n",
       "    </tr>\n",
       "    <tr>\n",
       "      <th>npp_annual_avg</th>\n",
       "      <td>1.522614</td>\n",
       "    </tr>\n",
       "    <tr>\n",
       "      <th>org_c</th>\n",
       "      <td>2.305325</td>\n",
       "    </tr>\n",
       "    <tr>\n",
       "      <th>NDVI_fall_avg_lc</th>\n",
       "      <td>3.285161</td>\n",
       "    </tr>\n",
       "    <tr>\n",
       "      <th>Area_km2</th>\n",
       "      <td>3.650980</td>\n",
       "    </tr>\n",
       "    <tr>\n",
       "      <th>NDVI_annual_avg</th>\n",
       "      <td>5.689320</td>\n",
       "    </tr>\n",
       "    <tr>\n",
       "      <th>NDVI_winter_avg_lc</th>\n",
       "      <td>6.207695</td>\n",
       "    </tr>\n",
       "    <tr>\n",
       "      <th>temp_winter_avg_lc</th>\n",
       "      <td>13.843695</td>\n",
       "    </tr>\n",
       "    <tr>\n",
       "      <th>temp_spring_avg_lc</th>\n",
       "      <td>15.654219</td>\n",
       "    </tr>\n",
       "    <tr>\n",
       "      <th>npp_fall_avg_lc</th>\n",
       "      <td>16.412796</td>\n",
       "    </tr>\n",
       "    <tr>\n",
       "      <th>temp_annual_avg</th>\n",
       "      <td>16.652872</td>\n",
       "    </tr>\n",
       "    <tr>\n",
       "      <th>temp_summer_avg_lc</th>\n",
       "      <td>18.385088</td>\n",
       "    </tr>\n",
       "    <tr>\n",
       "      <th>npp_winter_avg_lc</th>\n",
       "      <td>18.926033</td>\n",
       "    </tr>\n",
       "    <tr>\n",
       "      <th>temp_fall_avg_lc</th>\n",
       "      <td>19.624810</td>\n",
       "    </tr>\n",
       "  </tbody>\n",
       "</table>\n",
       "</div>"
      ],
      "text/plain": [
       "                            0\n",
       "Age                -33.784747\n",
       "npp_spring_avg_lc  -18.056804\n",
       "Volume_km3         -15.942009\n",
       "npp_summer_avg_lc  -15.745941\n",
       "Areakm2_div_Volkm3 -12.205813\n",
       "NDVI_spring_avg_lc  -3.844591\n",
       "erosion             -1.091901\n",
       "kWh                  1.045439\n",
       "NDVI_summer_avg_lc   1.152633\n",
       "npp_annual_avg       1.522614\n",
       "org_c                2.305325\n",
       "NDVI_fall_avg_lc     3.285161\n",
       "Area_km2             3.650980\n",
       "NDVI_annual_avg      5.689320\n",
       "NDVI_winter_avg_lc   6.207695\n",
       "temp_winter_avg_lc  13.843695\n",
       "temp_spring_avg_lc  15.654219\n",
       "npp_fall_avg_lc     16.412796\n",
       "temp_annual_avg     16.652872\n",
       "temp_summer_avg_lc  18.385088\n",
       "npp_winter_avg_lc   18.926033\n",
       "temp_fall_avg_lc    19.624810"
      ]
     },
     "execution_count": 69,
     "metadata": {},
     "output_type": "execute_result"
    }
   ],
   "source": [
    "pd.DataFrame(columns=x_train.columns, data=regr2.coef_).T.sort_values(by=0)"
   ]
  },
  {
   "cell_type": "markdown",
   "metadata": {},
   "source": [
    "### scaling target variable:"
   ]
  },
  {
   "cell_type": "code",
   "execution_count": 75,
   "metadata": {},
   "outputs": [],
   "source": [
    "y_train_scaled = scaler.fit_transform(np.array(y_train).reshape(-1,1))\n",
    "y_test_scaled = scaler.fit_transform(np.array(y_test).reshape(-1,1))"
   ]
  },
  {
   "cell_type": "code",
   "execution_count": 133,
   "metadata": {},
   "outputs": [
    {
     "name": "stderr",
     "output_type": "stream",
     "text": [
      "/opt/anaconda3/lib/python3.7/site-packages/sklearn/utils/validation.py:760: DataConversionWarning: A column-vector y was passed when a 1d array was expected. Please change the shape of y to (n_samples, ), for example using ravel().\n",
      "  y = column_or_1d(y, warn=True)\n"
     ]
    },
    {
     "data": {
      "text/plain": [
       "SVR(C=20, cache_size=200, coef0=0.0, degree=3, epsilon=0.1, gamma='scale',\n",
       "    kernel='rbf', max_iter=-1, shrinking=True, tol=0.001, verbose=False)"
      ]
     },
     "execution_count": 133,
     "metadata": {},
     "output_type": "execute_result"
    }
   ],
   "source": [
    "regr_rbf_scaled = svm.SVR(kernel='rbf', C=20)\n",
    "regr_rbf_scaled.fit(x_train, y_train_scaled)"
   ]
  },
  {
   "cell_type": "code",
   "execution_count": 134,
   "metadata": {},
   "outputs": [
    {
     "name": "stdout",
     "output_type": "stream",
     "text": [
      "train score: 0.9035324038615531\n",
      "test  score: 0.31581936686938217\n"
     ]
    }
   ],
   "source": [
    "print('train score:', regr_rbf_scaled.score(x_train, y_train_scaled))\n",
    "print('test  score:', regr_rbf_scaled.score(x_test, y_test_scaled))"
   ]
  },
  {
   "cell_type": "markdown",
   "metadata": {},
   "source": [
    "### linear SVM & scaled target variable"
   ]
  },
  {
   "cell_type": "code",
   "execution_count": 121,
   "metadata": {},
   "outputs": [
    {
     "name": "stderr",
     "output_type": "stream",
     "text": [
      "/opt/anaconda3/lib/python3.7/site-packages/sklearn/utils/validation.py:760: DataConversionWarning: A column-vector y was passed when a 1d array was expected. Please change the shape of y to (n_samples, ), for example using ravel().\n",
      "  y = column_or_1d(y, warn=True)\n"
     ]
    },
    {
     "data": {
      "text/plain": [
       "SVR(C=1.0, cache_size=200, coef0=0.0, degree=3, epsilon=0.1, gamma='scale',\n",
       "    kernel='linear', max_iter=-1, shrinking=True, tol=0.001, verbose=False)"
      ]
     },
     "execution_count": 121,
     "metadata": {},
     "output_type": "execute_result"
    }
   ],
   "source": [
    "regr4 = svm.SVR(kernel='linear')\n",
    "regr4.fit(x_train, y_train_scaled)"
   ]
  },
  {
   "cell_type": "code",
   "execution_count": 122,
   "metadata": {},
   "outputs": [
    {
     "name": "stdout",
     "output_type": "stream",
     "text": [
      "train score: 0.36195698718903047\n",
      "test  score: 0.15078547562485756\n"
     ]
    }
   ],
   "source": [
    "print('train score:', regr4.score(x_train, y_train_scaled))\n",
    "print('test  score:', regr4.score(x_test, y_test_scaled))"
   ]
  },
  {
   "cell_type": "code",
   "execution_count": null,
   "metadata": {},
   "outputs": [],
   "source": [
    "#linear kernel reduces accuracy, as expected\n",
    "#scaling target variable improved r2...lets now test out different kernels and params"
   ]
  },
  {
   "cell_type": "markdown",
   "metadata": {},
   "source": [
    "### ploynomial kernel"
   ]
  },
  {
   "cell_type": "code",
   "execution_count": 143,
   "metadata": {},
   "outputs": [
    {
     "name": "stderr",
     "output_type": "stream",
     "text": [
      "/opt/anaconda3/lib/python3.7/site-packages/sklearn/utils/validation.py:760: DataConversionWarning: A column-vector y was passed when a 1d array was expected. Please change the shape of y to (n_samples, ), for example using ravel().\n",
      "  y = column_or_1d(y, warn=True)\n"
     ]
    },
    {
     "data": {
      "text/plain": [
       "SVR(C=12, cache_size=200, coef0=0.0, degree=3, epsilon=0.1, gamma='scale',\n",
       "    kernel='poly', max_iter=-1, shrinking=True, tol=0.001, verbose=False)"
      ]
     },
     "execution_count": 143,
     "metadata": {},
     "output_type": "execute_result"
    }
   ],
   "source": [
    "regr_poly = svm.SVR(kernel='poly', C=12, degree=3)\n",
    "regr_poly.fit(x_train, y_train_scaled)"
   ]
  },
  {
   "cell_type": "code",
   "execution_count": 144,
   "metadata": {},
   "outputs": [
    {
     "name": "stdout",
     "output_type": "stream",
     "text": [
      "train score: 0.8640441171460039\n",
      "test  score: 0.305617410571498\n"
     ]
    }
   ],
   "source": [
    "print('train score:', regr_poly.score(x_train, y_train_scaled))\n",
    "print('test  score:', regr_poly.score(x_test, y_test_scaled))"
   ]
  },
  {
   "cell_type": "code",
   "execution_count": null,
   "metadata": {},
   "outputs": [],
   "source": [
    "# tuning C increases the accuracy, likely because of significant overlap.\n",
    "# C in the range of 10-20 seems to be most accurate without overfitting"
   ]
  },
  {
   "cell_type": "markdown",
   "metadata": {},
   "source": [
    "### sigmoid kernel"
   ]
  },
  {
   "cell_type": "code",
   "execution_count": 146,
   "metadata": {},
   "outputs": [
    {
     "name": "stderr",
     "output_type": "stream",
     "text": [
      "/opt/anaconda3/lib/python3.7/site-packages/sklearn/utils/validation.py:760: DataConversionWarning: A column-vector y was passed when a 1d array was expected. Please change the shape of y to (n_samples, ), for example using ravel().\n",
      "  y = column_or_1d(y, warn=True)\n"
     ]
    },
    {
     "data": {
      "text/plain": [
       "SVR(C=1.0, cache_size=200, coef0=0.0, degree=3, epsilon=0.1, gamma='scale',\n",
       "    kernel='sigmoid', max_iter=-1, shrinking=True, tol=0.001, verbose=False)"
      ]
     },
     "execution_count": 146,
     "metadata": {},
     "output_type": "execute_result"
    }
   ],
   "source": [
    "regr_sigmoid = svm.SVR(kernel='sigmoid')\n",
    "regr_sigmoid.fit(x_train, y_train_scaled)"
   ]
  },
  {
   "cell_type": "code",
   "execution_count": 147,
   "metadata": {},
   "outputs": [
    {
     "name": "stdout",
     "output_type": "stream",
     "text": [
      "train score: -1.143397687281352\n",
      "test  score: -2.086415757309359\n"
     ]
    }
   ],
   "source": [
    "print('train score:', regr_sigmoid.score(x_train, y_train_scaled))\n",
    "print('test  score:', regr_sigmoid.score(x_test, y_test_scaled))"
   ]
  },
  {
   "cell_type": "code",
   "execution_count": null,
   "metadata": {},
   "outputs": [],
   "source": [
    "#uhh wut"
   ]
  }
 ],
 "metadata": {
  "kernelspec": {
   "display_name": "Python 3",
   "language": "python",
   "name": "python3"
  },
  "language_info": {
   "codemirror_mode": {
    "name": "ipython",
    "version": 3
   },
   "file_extension": ".py",
   "mimetype": "text/x-python",
   "name": "python",
   "nbconvert_exporter": "python",
   "pygments_lexer": "ipython3",
   "version": "3.7.6"
  }
 },
 "nbformat": 4,
 "nbformat_minor": 4
}
