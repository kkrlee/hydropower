{
 "cells": [
  {
   "cell_type": "code",
   "execution_count": 1,
   "metadata": {},
   "outputs": [],
   "source": [
    "%matplotlib inline\n",
    "import matplotlib.pyplot as plt\n",
    "import numpy as np\n",
    "import pandas as pd"
   ]
  },
  {
   "cell_type": "code",
   "execution_count": 2,
   "metadata": {},
   "outputs": [],
   "source": [
    "#df = pd.read_csv('../elena/barros_2011_training.csv')\n",
    "df = pd.read_csv('../data/training_final_latcorr.csv')"
   ]
  },
  {
   "cell_type": "markdown",
   "metadata": {},
   "source": [
    "## Clean / Reverse Engineer Features\n",
    "- Electricity generated (kWh)\n",
    "- Drop redundant columns\n",
    "- Drop non-lc columns"
   ]
  },
  {
   "cell_type": "code",
   "execution_count": 3,
   "metadata": {},
   "outputs": [],
   "source": [
    "df['kWh'] = df['Area_km2'] / df['Area / Electricity']\n",
    "df = df.drop(['Longitude', 'Latitude','CO2 (g/kWh)', 'CH4 (g/kWh)', 'Area / Electricity', 'Name', 'field_1',\n",
    "              'temp_spring_avg', 'temp_summer_avg', 'temp_fall_avg', 'temp_winter_avg', \n",
    "              'NDVI_spring_avg', 'NDVI_summer_avg', 'NDVI_fall_avg', 'NDVI_winter_avg', \n",
    "              'npp_spring_avg' , 'npp_summer_avg' , 'npp_fall_avg' , 'npp_winter_avg'], axis=1)"
   ]
  },
  {
   "cell_type": "code",
   "execution_count": 4,
   "metadata": {},
   "outputs": [
    {
     "data": {
      "text/plain": [
       "Index(['CO2 (mg C m¯² d¯¹)', 'CH4 (mg C m-2 d-1)', 'Area_km2', 'Age',\n",
       "       'Volume_km3', 'Areakm2_div_Volkm3', 'org_c', 'temp_annual_avg',\n",
       "       'temp_spring_avg_lc', 'temp_summer_avg_lc', 'temp_fall_avg_lc',\n",
       "       'temp_winter_avg_lc', 'NDVI_annual_avg', 'NDVI_spring_avg_lc',\n",
       "       'NDVI_summer_avg_lc', 'NDVI_fall_avg_lc', 'NDVI_winter_avg_lc',\n",
       "       'npp_annual_avg', 'npp_spring_avg_lc', 'npp_summer_avg_lc',\n",
       "       'npp_fall_avg_lc', 'npp_winter_avg_lc', 'erosion', 'precip', 'kWh'],\n",
       "      dtype='object')"
      ]
     },
     "execution_count": 4,
     "metadata": {},
     "output_type": "execute_result"
    }
   ],
   "source": [
    "df.columns"
   ]
  },
  {
   "cell_type": "code",
   "execution_count": 5,
   "metadata": {},
   "outputs": [
    {
     "data": {
      "text/plain": [
       "(154, 25)"
      ]
     },
     "execution_count": 5,
     "metadata": {},
     "output_type": "execute_result"
    }
   ],
   "source": [
    "df.shape"
   ]
  },
  {
   "cell_type": "code",
   "execution_count": null,
   "metadata": {},
   "outputs": [],
   "source": [
    "#create co2 df"
   ]
  },
  {
   "cell_type": "code",
   "execution_count": 7,
   "metadata": {},
   "outputs": [],
   "source": [
    "ch4 = df.drop(['CO2 (mg C m¯² d¯¹)'], axis=1)\n",
    "ch4 = ch4[ch4['CH4 (mg C m-2 d-1)'].notna()]"
   ]
  },
  {
   "cell_type": "markdown",
   "metadata": {},
   "source": [
    "## XGBoost"
   ]
  },
  {
   "cell_type": "code",
   "execution_count": 8,
   "metadata": {},
   "outputs": [],
   "source": [
    "X = ch4.drop('CH4 (mg C m-2 d-1)', axis=1)\n",
    "Y = ch4['CH4 (mg C m-2 d-1)']\n",
    "\n",
    "from sklearn.model_selection import train_test_split\n",
    "\n",
    "x_train, x_test, y_train, y_test = train_test_split(X, Y, test_size=0.2, random_state=42)\n",
    "\n",
    "x_train, x_val, y_train, y_val = train_test_split(x_train, y_train, test_size=0.25, random_state=42)"
   ]
  },
  {
   "cell_type": "code",
   "execution_count": 9,
   "metadata": {},
   "outputs": [],
   "source": [
    "import xgboost"
   ]
  },
  {
   "cell_type": "code",
   "execution_count": 12,
   "metadata": {},
   "outputs": [
    {
     "data": {
      "text/plain": [
       "XGBRegressor(base_score=0.5, booster='gbtree', colsample_bylevel=1,\n",
       "             colsample_bynode=1, colsample_bytree=1, gamma=0, gpu_id=-1,\n",
       "             importance_type='gain', interaction_constraints='',\n",
       "             learning_rate=0.300000012, max_delta_step=0, max_depth=6,\n",
       "             min_child_weight=1, missing=nan, monotone_constraints='()',\n",
       "             n_estimators=100, n_jobs=0, num_parallel_tree=1,\n",
       "             objective='reg:squarederror', random_state=0, reg_alpha=0,\n",
       "             reg_lambda=1, scale_pos_weight=1, subsample=1, tree_method='exact',\n",
       "             validate_parameters=1, verbosity=None)"
      ]
     },
     "execution_count": 12,
     "metadata": {},
     "output_type": "execute_result"
    }
   ],
   "source": [
    "xgb_reg = xgboost.XGBRegressor()\n",
    "xgb_reg.fit(x_train, y_train)\n"
   ]
  },
  {
   "cell_type": "code",
   "execution_count": 13,
   "metadata": {},
   "outputs": [
    {
     "name": "stdout",
     "output_type": "stream",
     "text": [
      "train r2: 0.9989797154779955\n",
      "test r2 : 0.06527082545632534\n"
     ]
    }
   ],
   "source": [
    "print('train r2:', xgb_reg.score(x_train, y_train))\n",
    "print('test r2 :', xgb_reg.score(x_test, y_test))"
   ]
  },
  {
   "cell_type": "code",
   "execution_count": 16,
   "metadata": {},
   "outputs": [
    {
     "name": "stdout",
     "output_type": "stream",
     "text": [
      "[0]\tvalidation_0-rmse:51.42019\n",
      "Will train until validation_0-rmse hasn't improved in 5 rounds.\n",
      "[1]\tvalidation_0-rmse:48.23997\n",
      "[2]\tvalidation_0-rmse:46.81720\n",
      "[3]\tvalidation_0-rmse:46.19386\n",
      "[4]\tvalidation_0-rmse:46.45286\n",
      "[5]\tvalidation_0-rmse:46.39922\n",
      "[6]\tvalidation_0-rmse:46.08897\n",
      "[7]\tvalidation_0-rmse:46.01775\n",
      "[8]\tvalidation_0-rmse:46.19954\n",
      "[9]\tvalidation_0-rmse:46.40628\n",
      "[10]\tvalidation_0-rmse:46.29667\n",
      "[11]\tvalidation_0-rmse:46.43022\n",
      "[12]\tvalidation_0-rmse:46.49732\n",
      "Stopping. Best iteration:\n",
      "[7]\tvalidation_0-rmse:46.01775\n",
      "\n"
     ]
    },
    {
     "data": {
      "text/plain": [
       "XGBRegressor(base_score=0.5, booster='gbtree', colsample_bylevel=1,\n",
       "             colsample_bynode=1, colsample_bytree=1, gamma=0, gpu_id=-1,\n",
       "             importance_type='gain', interaction_constraints='',\n",
       "             learning_rate=0.300000012, max_delta_step=0, max_depth=6,\n",
       "             min_child_weight=1, missing=nan, monotone_constraints='()',\n",
       "             n_estimators=100, n_jobs=0, num_parallel_tree=1,\n",
       "             objective='reg:squarederror', random_state=0, reg_alpha=0,\n",
       "             reg_lambda=1, scale_pos_weight=1, subsample=1, tree_method='exact',\n",
       "             validate_parameters=1, verbosity=None)"
      ]
     },
     "execution_count": 16,
     "metadata": {},
     "output_type": "execute_result"
    }
   ],
   "source": [
    "xgb_reg.fit(x_train, y_train,\n",
    "           eval_set=[(x_val, y_val)], early_stopping_rounds=5)"
   ]
  },
  {
   "cell_type": "code",
   "execution_count": 17,
   "metadata": {},
   "outputs": [
    {
     "name": "stdout",
     "output_type": "stream",
     "text": [
      "train r2: 0.9402094771933329\n",
      "test r2 : 0.05543273664780901\n"
     ]
    }
   ],
   "source": [
    "print('train r2:', xgb_reg.score(x_train, y_train))\n",
    "print('test r2 :', xgb_reg.score(x_test, y_test))"
   ]
  },
  {
   "cell_type": "code",
   "execution_count": 18,
   "metadata": {
    "scrolled": true
   },
   "outputs": [
    {
     "data": {
      "text/plain": [
       "<matplotlib.axes._subplots.AxesSubplot at 0x7fb1dbc3f950>"
      ]
     },
     "execution_count": 18,
     "metadata": {},
     "output_type": "execute_result"
    },
    {
     "data": {
      "image/png": "[encoded data removed]",
      "text/plain": [
       "<Figure size 432x288 with 1 Axes>"
      ]
     },
     "metadata": {
      "needs_background": "light"
     },
     "output_type": "display_data"
    }
   ],
   "source": [
    "# list(zip(x_train.columns, xgb_reg.feature_importances_))\n",
    "pd.DataFrame(index=x_train.columns, data=xgb_reg.feature_importances_*100, columns=['Importance']).sort_values(by='Importance', ascending=False).head(10).plot(kind='barh')\n",
    "\n"
   ]
  },
  {
   "cell_type": "markdown",
   "metadata": {},
   "source": [
    "#### comparing predictions to actual values\n",
    "- are there patterns we can see where residuals are low or high?"
   ]
  },
  {
   "cell_type": "code",
   "execution_count": 19,
   "metadata": {},
   "outputs": [],
   "source": [
    "predictions = pd.DataFrame(columns=['actual','predicted'], data=list(zip(y_test, xgb_reg.predict(x_test))))"
   ]
  },
  {
   "cell_type": "code",
   "execution_count": 20,
   "metadata": {},
   "outputs": [],
   "source": [
    "comparing = x_test.copy().reset_index().drop(['index'], axis=1)\n",
    "comparing['actual'] = predictions['actual']\n",
    "comparing['predicted'] = predictions['predicted']"
   ]
  },
  {
   "cell_type": "markdown",
   "metadata": {},
   "source": [
    "### scaling values"
   ]
  },
  {
   "cell_type": "code",
   "execution_count": 22,
   "metadata": {},
   "outputs": [],
   "source": [
    "from sklearn.preprocessing import StandardScaler\n",
    "\n",
    "data = ch4.copy()\n",
    "scaler = StandardScaler()\n",
    "ch4_scaled = pd.DataFrame(scaler.fit_transform(data),columns=ch4.columns)"
   ]
  },
  {
   "cell_type": "code",
   "execution_count": 35,
   "metadata": {},
   "outputs": [],
   "source": [
    "X = ch4_scaled.drop('CH4 (mg C m-2 d-1)', axis=1)\n",
    "Y = ch4_scaled['CH4 (mg C m-2 d-1)']\n",
    "\n",
    "from sklearn.model_selection import train_test_split\n",
    "\n",
    "x_train, x_test, y_train, y_test = train_test_split(X, Y, test_size=0.2, random_state=42)\n",
    "\n",
    "x_train, x_val, y_train, y_val = train_test_split(x_train, y_train, test_size=0.2, random_state=42)"
   ]
  },
  {
   "cell_type": "code",
   "execution_count": 36,
   "metadata": {},
   "outputs": [
    {
     "name": "stdout",
     "output_type": "stream",
     "text": [
      "[0]\tvalidation_0-rmse:0.55739\n",
      "Will train until validation_0-rmse hasn't improved in 5 rounds.\n",
      "[1]\tvalidation_0-rmse:0.44379\n",
      "[2]\tvalidation_0-rmse:0.39594\n",
      "[3]\tvalidation_0-rmse:0.36356\n",
      "[4]\tvalidation_0-rmse:0.34726\n",
      "[5]\tvalidation_0-rmse:0.34261\n",
      "[6]\tvalidation_0-rmse:0.34042\n",
      "[7]\tvalidation_0-rmse:0.33807\n",
      "[8]\tvalidation_0-rmse:0.33642\n",
      "[9]\tvalidation_0-rmse:0.33650\n",
      "[10]\tvalidation_0-rmse:0.33579\n",
      "[11]\tvalidation_0-rmse:0.33575\n",
      "[12]\tvalidation_0-rmse:0.33527\n",
      "[13]\tvalidation_0-rmse:0.33627\n",
      "[14]\tvalidation_0-rmse:0.33723\n",
      "[15]\tvalidation_0-rmse:0.33664\n",
      "[16]\tvalidation_0-rmse:0.33631\n",
      "[17]\tvalidation_0-rmse:0.33582\n",
      "Stopping. Best iteration:\n",
      "[12]\tvalidation_0-rmse:0.33527\n",
      "\n"
     ]
    },
    {
     "data": {
      "text/plain": [
       "XGBRegressor(base_score=0.5, booster='gbtree', colsample_bylevel=1,\n",
       "             colsample_bynode=1, colsample_bytree=1, gamma=0, gpu_id=-1,\n",
       "             importance_type='gain', interaction_constraints='',\n",
       "             learning_rate=0.300000012, max_delta_step=0, max_depth=6,\n",
       "             min_child_weight=1, missing=nan, monotone_constraints='()',\n",
       "             n_estimators=100, n_jobs=0, num_parallel_tree=1,\n",
       "             objective='reg:squarederror', random_state=0, reg_alpha=0,\n",
       "             reg_lambda=1, scale_pos_weight=1, subsample=1, tree_method='exact',\n",
       "             validate_parameters=1, verbosity=None)"
      ]
     },
     "execution_count": 36,
     "metadata": {},
     "output_type": "execute_result"
    }
   ],
   "source": [
    "xgb_reg2 = xgboost.XGBRegressor()\n",
    "xgb_reg2.fit(x_train, y_train, \n",
    "             eval_set=[(x_val, y_val)], \n",
    "             early_stopping_rounds=5)"
   ]
  },
  {
   "cell_type": "code",
   "execution_count": 37,
   "metadata": {},
   "outputs": [
    {
     "name": "stdout",
     "output_type": "stream",
     "text": [
      "train r2: 0.9915714687744884\n",
      "test  r2: 0.07318319281858199\n"
     ]
    }
   ],
   "source": [
    "print('train r2:', xgb_reg2.score(x_train, y_train))\n",
    "print('test  r2:', xgb_reg2.score(x_test, y_test))"
   ]
  },
  {
   "cell_type": "code",
   "execution_count": 38,
   "metadata": {},
   "outputs": [
    {
     "data": {
      "text/plain": [
       "<matplotlib.axes._subplots.AxesSubplot at 0x7fb1de8aea90>"
      ]
     },
     "execution_count": 38,
     "metadata": {},
     "output_type": "execute_result"
    },
    {
     "data": {
      "image/png": "[encoded data removed]",
      "text/plain": [
       "<Figure size 432x288 with 1 Axes>"
      ]
     },
     "metadata": {
      "needs_background": "light"
     },
     "output_type": "display_data"
    }
   ],
   "source": [
    "pd.DataFrame(index=x_train.columns, data=xgb_reg2.feature_importances_*100, columns=['Importance']).sort_values(by='Importance', ascending=False).head(10).plot(kind='barh')"
   ]
  },
  {
   "cell_type": "markdown",
   "metadata": {},
   "source": [
    "## grid search"
   ]
  },
  {
   "cell_type": "code",
   "execution_count": 39,
   "metadata": {},
   "outputs": [
    {
     "name": "stdout",
     "output_type": "stream",
     "text": [
      "CPU times: user 6.2 s, sys: 156 ms, total: 6.36 s\n",
      "Wall time: 23.4 s\n"
     ]
    },
    {
     "data": {
      "text/plain": [
       "GridSearchCV(cv=2, error_score=nan,\n",
       "             estimator=XGBRegressor(base_score=0.5, booster='gbtree',\n",
       "                                    colsample_bylevel=1, colsample_bynode=1,\n",
       "                                    colsample_bytree=1, gamma=0, gpu_id=-1,\n",
       "                                    importance_type='gain',\n",
       "                                    interaction_constraints='',\n",
       "                                    learning_rate=0.300000012, max_delta_step=0,\n",
       "                                    max_depth=6, min_child_weight=1,\n",
       "                                    missing=nan, monotone_constraints='()',\n",
       "                                    n_estimators=100, n_jobs...\n",
       "                                    scale_pos_weight=1, subsample=1,\n",
       "                                    tree_method='exact', validate_parameters=1,\n",
       "                                    verbosity=None),\n",
       "             iid='deprecated', n_jobs=-1,\n",
       "             param_grid={'learning_rate': array([0.001, 0.012, 0.023, 0.034, 0.045, 0.056, 0.067, 0.078, 0.089,\n",
       "       0.1  ]),\n",
       "                         'max_depth': range(1, 11),\n",
       "                         'n_estimators': range(0, 100, 10)},\n",
       "             pre_dispatch='2*n_jobs', refit=True, return_train_score=False,\n",
       "             scoring='r2', verbose=0)"
      ]
     },
     "execution_count": 39,
     "metadata": {},
     "output_type": "execute_result"
    }
   ],
   "source": [
    "from sklearn.model_selection import GridSearchCV\n",
    "\n",
    "grid_values = {\n",
    "    \"n_estimators\": range(0,100,10),\n",
    "    \"learning_rate\" : np.linspace(.001,.1,10),\n",
    "    \"max_depth\" : range(1,11)\n",
    "}\n",
    "\n",
    "grid_search_xgb = GridSearchCV(xgb_reg2, grid_values, scoring='r2', cv=2, n_jobs=-1)\n",
    "%time grid_search_xgb.fit(x_train, y_train)"
   ]
  },
  {
   "cell_type": "code",
   "execution_count": 40,
   "metadata": {},
   "outputs": [
    {
     "data": {
      "text/plain": [
       "{'learning_rate': 0.1, 'max_depth': 1, 'n_estimators': 20}"
      ]
     },
     "execution_count": 40,
     "metadata": {},
     "output_type": "execute_result"
    }
   ],
   "source": [
    "grid_search_xgb.best_params_"
   ]
  },
  {
   "cell_type": "code",
   "execution_count": 41,
   "metadata": {},
   "outputs": [
    {
     "data": {
      "text/plain": [
       "-0.06920052569953239"
      ]
     },
     "execution_count": 41,
     "metadata": {},
     "output_type": "execute_result"
    }
   ],
   "source": [
    "grid_search_xgb.best_score_"
   ]
  },
  {
   "cell_type": "code",
   "execution_count": 43,
   "metadata": {},
   "outputs": [
    {
     "name": "stdout",
     "output_type": "stream",
     "text": [
      "[0]\tvalidation_0-rmse:0.68037\n",
      "Will train until validation_0-rmse hasn't improved in 10 rounds.\n",
      "[1]\tvalidation_0-rmse:0.63146\n",
      "[2]\tvalidation_0-rmse:0.58861\n",
      "[3]\tvalidation_0-rmse:0.55122\n",
      "[4]\tvalidation_0-rmse:0.51875\n",
      "[5]\tvalidation_0-rmse:0.48919\n",
      "[6]\tvalidation_0-rmse:0.46259\n",
      "[7]\tvalidation_0-rmse:0.44163\n",
      "[8]\tvalidation_0-rmse:0.42428\n",
      "[9]\tvalidation_0-rmse:0.40738\n",
      "[10]\tvalidation_0-rmse:0.39290\n",
      "[11]\tvalidation_0-rmse:0.38193\n",
      "[12]\tvalidation_0-rmse:0.37088\n",
      "[13]\tvalidation_0-rmse:0.36374\n",
      "[14]\tvalidation_0-rmse:0.35642\n",
      "[15]\tvalidation_0-rmse:0.35105\n",
      "[16]\tvalidation_0-rmse:0.34546\n",
      "[17]\tvalidation_0-rmse:0.34114\n",
      "[18]\tvalidation_0-rmse:0.33825\n",
      "[19]\tvalidation_0-rmse:0.33531\n",
      "\n",
      "train r2: 0.4796927924946782\n",
      "test  r2: 0.04121759115426349\n"
     ]
    }
   ],
   "source": [
    "xgb_best = xgboost.XGBRegressor(learning_rate=.1, n_estimators=20, max_depth=1)\n",
    "xgb_best.fit(x_train, y_train, \n",
    "             eval_set=[(x_val, y_val)], \n",
    "             early_stopping_rounds=10)\n",
    "\n",
    "print('')\n",
    "print('train r2:', xgb_best.score(x_train, y_train))\n",
    "print('test  r2:', xgb_best.score(x_test, y_test))"
   ]
  },
  {
   "cell_type": "code",
   "execution_count": 44,
   "metadata": {},
   "outputs": [
    {
     "data": {
      "text/plain": [
       "<matplotlib.axes._subplots.AxesSubplot at 0x7fb1deb29e90>"
      ]
     },
     "execution_count": 44,
     "metadata": {},
     "output_type": "execute_result"
    },
    {
     "data": {
      "image/png": "[encoded data removed]",
      "text/plain": [
       "<Figure size 432x288 with 1 Axes>"
      ]
     },
     "metadata": {
      "needs_background": "light"
     },
     "output_type": "display_data"
    }
   ],
   "source": [
    "pd.DataFrame(index=x_train.columns, data=xgb_best.feature_importances_*100, columns=['Importance']).sort_values(by='Importance', ascending=False).head(10).plot(kind='barh')\n"
   ]
  },
  {
   "cell_type": "code",
   "execution_count": 45,
   "metadata": {},
   "outputs": [],
   "source": [
    "predictions = pd.DataFrame(columns=['actual','predicted'], data=list(zip(y_test, xgb_reg.predict(x_test))))\n",
    "\n",
    "comparing = x_test.copy().reset_index().drop(['index'], axis=1)\n",
    "comparing['actual'] = predictions['actual']\n",
    "comparing['predicted'] = predictions['predicted']\n",
    "comparing['error'] = abs(comparing['actual'] - comparing['predicted'])/comparing['actual']"
   ]
  },
  {
   "cell_type": "code",
   "execution_count": 46,
   "metadata": {},
   "outputs": [
    {
     "data": {
      "text/plain": [
       "<matplotlib.axes._subplots.AxesSubplot at 0x7fb1deb30590>"
      ]
     },
     "execution_count": 46,
     "metadata": {},
     "output_type": "execute_result"
    },
    {
     "data": {
      "image/png": "[encoded data removed]",
      "text/plain": [
       "<Figure size 432x288 with 2 Axes>"
      ]
     },
     "metadata": {
      "needs_background": "light"
     },
     "output_type": "display_data"
    }
   ],
   "source": [
    "import seaborn as sns\n",
    "\n",
    "pd.options.display.max_rows = None\n",
    "pd.options.display.max_columns = None\n",
    "\n",
    "sns.heatmap(comparing.sort_values(by='error', ascending=False).drop(['actual','predicted'],axis=1))"
   ]
  },
  {
   "cell_type": "code",
   "execution_count": null,
   "metadata": {},
   "outputs": [],
   "source": [
    "##try with imputing NaNs in the train set:"
   ]
  },
  {
   "cell_type": "code",
   "execution_count": 47,
   "metadata": {
    "collapsed": true
   },
   "outputs": [
    {
     "name": "stdout",
     "output_type": "stream",
     "text": [
      "Area_km2 : 0\n",
      "Age : 0\n",
      "Volume_km3 : 0\n",
      "Areakm2_div_Volkm3 : 0\n",
      "org_c : 0\n",
      "temp_annual_avg : 0\n",
      "temp_spring_avg_lc : 0\n",
      "temp_summer_avg_lc : 0\n",
      "temp_fall_avg_lc : 0\n",
      "temp_winter_avg_lc : 0\n",
      "NDVI_annual_avg : 0\n",
      "NDVI_spring_avg_lc : 0\n",
      "NDVI_summer_avg_lc : 0\n",
      "NDVI_fall_avg_lc : 0\n",
      "NDVI_winter_avg_lc : 0\n",
      "npp_annual_avg : 0\n",
      "npp_spring_avg_lc : 0\n",
      "npp_summer_avg_lc : 0\n",
      "npp_fall_avg_lc : 0\n",
      "npp_winter_avg_lc : 0\n",
      "erosion : 0\n",
      "precip : 0\n",
      "kWh : 0\n"
     ]
    }
   ],
   "source": [
    "from sklearn.impute import KNNImputer\n",
    "model_impute = KNNImputer(n_neighbors=int(np.sqrt(x_train.shape[0])))\n",
    "x_train_imputed = model_impute.fit_transform(x_train)\n",
    "\n",
    "x_train_imputed = pd.DataFrame(columns=x_train.columns, data=x_train_imputed)\n",
    "\n",
    "#check\n",
    "for column in x_train:\n",
    "    print(column, ':',  x_train_imputed[column].isna().sum())"
   ]
  },
  {
   "cell_type": "code",
   "execution_count": 48,
   "metadata": {},
   "outputs": [
    {
     "name": "stdout",
     "output_type": "stream",
     "text": [
      "[0]\tvalidation_0-rmse:0.55739\n",
      "Will train until validation_0-rmse hasn't improved in 5 rounds.\n",
      "[1]\tvalidation_0-rmse:0.44379\n",
      "[2]\tvalidation_0-rmse:0.39594\n",
      "[3]\tvalidation_0-rmse:0.36356\n",
      "[4]\tvalidation_0-rmse:0.35774\n",
      "[5]\tvalidation_0-rmse:0.36234\n",
      "[6]\tvalidation_0-rmse:0.36784\n",
      "[7]\tvalidation_0-rmse:0.37191\n",
      "[8]\tvalidation_0-rmse:0.38006\n",
      "[9]\tvalidation_0-rmse:0.38715\n",
      "Stopping. Best iteration:\n",
      "[4]\tvalidation_0-rmse:0.35774\n",
      "\n"
     ]
    },
    {
     "data": {
      "text/plain": [
       "XGBRegressor(base_score=0.5, booster='gbtree', colsample_bylevel=1,\n",
       "             colsample_bynode=1, colsample_bytree=1, gamma=0, gpu_id=-1,\n",
       "             importance_type='gain', interaction_constraints='',\n",
       "             learning_rate=0.300000012, max_delta_step=0, max_depth=6,\n",
       "             min_child_weight=1, missing=nan, monotone_constraints='()',\n",
       "             n_estimators=100, n_jobs=0, num_parallel_tree=1,\n",
       "             objective='reg:squarederror', random_state=0, reg_alpha=0,\n",
       "             reg_lambda=1, scale_pos_weight=1, subsample=1, tree_method='exact',\n",
       "             validate_parameters=1, verbosity=None)"
      ]
     },
     "execution_count": 48,
     "metadata": {},
     "output_type": "execute_result"
    }
   ],
   "source": [
    "xgb_reg_imputed = xgboost.XGBRegressor()\n",
    "xgb_reg_imputed.fit(x_train_imputed, y_train, \n",
    "             eval_set=[(x_val, y_val)], \n",
    "             early_stopping_rounds=5)"
   ]
  },
  {
   "cell_type": "code",
   "execution_count": 49,
   "metadata": {},
   "outputs": [
    {
     "name": "stdout",
     "output_type": "stream",
     "text": [
      "train r2: 0.8187928522068569\n",
      "test  r2: 0.08334489426814307\n"
     ]
    }
   ],
   "source": [
    "print('train r2:', xgb_reg_imputed.score(x_train_imputed, y_train))\n",
    "print('test  r2:', xgb_reg_imputed.score(x_test, y_test))"
   ]
  },
  {
   "cell_type": "code",
   "execution_count": 50,
   "metadata": {},
   "outputs": [
    {
     "data": {
      "text/plain": [
       "<matplotlib.axes._subplots.AxesSubplot at 0x7fb1debf3c10>"
      ]
     },
     "execution_count": 50,
     "metadata": {},
     "output_type": "execute_result"
    },
    {
     "data": {
      "image/png": "[encoded data removed]",
      "text/plain": [
       "<Figure size 432x288 with 1 Axes>"
      ]
     },
     "metadata": {
      "needs_background": "light"
     },
     "output_type": "display_data"
    }
   ],
   "source": [
    "pd.DataFrame(index=x_train.columns, data=xgb_reg_imputed.feature_importances_*100, columns=['Importance']).sort_values(by='Importance', ascending=False).head(10).plot(kind='barh')\n"
   ]
  },
  {
   "cell_type": "code",
   "execution_count": 51,
   "metadata": {},
   "outputs": [
    {
     "name": "stdout",
     "output_type": "stream",
     "text": [
      "CPU times: user 4.4 s, sys: 196 ms, total: 4.6 s\n",
      "Wall time: 22.5 s\n"
     ]
    },
    {
     "data": {
      "text/plain": [
       "GridSearchCV(cv=2, error_score=nan,\n",
       "             estimator=XGBRegressor(base_score=0.5, booster='gbtree',\n",
       "                                    colsample_bylevel=1, colsample_bynode=1,\n",
       "                                    colsample_bytree=1, gamma=0, gpu_id=-1,\n",
       "                                    importance_type='gain',\n",
       "                                    interaction_constraints='',\n",
       "                                    learning_rate=0.300000012, max_delta_step=0,\n",
       "                                    max_depth=6, min_child_weight=1,\n",
       "                                    missing=nan, monotone_constraints='()',\n",
       "                                    n_estimators=100, n_jobs...\n",
       "                                    tree_method='exact', validate_parameters=1,\n",
       "                                    verbosity=None),\n",
       "             iid='deprecated', n_jobs=-1,\n",
       "             param_grid={'learning_rate': array([0.001     , 0.05644444, 0.11188889, 0.16733333, 0.22277778,\n",
       "       0.27822222, 0.33366667, 0.38911111, 0.44455556, 0.5       ]),\n",
       "                         'max_depth': range(1, 11),\n",
       "                         'n_estimators': range(0, 100, 10)},\n",
       "             pre_dispatch='2*n_jobs', refit=True, return_train_score=False,\n",
       "             scoring='r2', verbose=0)"
      ]
     },
     "execution_count": 51,
     "metadata": {},
     "output_type": "execute_result"
    }
   ],
   "source": [
    "from sklearn.model_selection import GridSearchCV\n",
    "\n",
    "grid_values = {\n",
    "    \"n_estimators\": range(0,100,10),\n",
    "    \"learning_rate\" : np.linspace(.001,.5,10),\n",
    "    \"max_depth\" : range(1,11)\n",
    "}\n",
    "\n",
    "grid_search_xgb_imputed = GridSearchCV(xgb_reg_imputed, grid_values, scoring='r2', cv=2, n_jobs=-1)\n",
    "%time grid_search_xgb_imputed.fit(x_train_imputed, y_train)"
   ]
  },
  {
   "cell_type": "code",
   "execution_count": 52,
   "metadata": {},
   "outputs": [
    {
     "data": {
      "text/plain": [
       "{'learning_rate': 0.22277777777777777, 'max_depth': 1, 'n_estimators': 10}"
      ]
     },
     "execution_count": 52,
     "metadata": {},
     "output_type": "execute_result"
    }
   ],
   "source": [
    "grid_search_xgb_imputed.best_params_"
   ]
  },
  {
   "cell_type": "code",
   "execution_count": 53,
   "metadata": {},
   "outputs": [
    {
     "data": {
      "text/plain": [
       "-0.05538615819691989"
      ]
     },
     "execution_count": 53,
     "metadata": {},
     "output_type": "execute_result"
    }
   ],
   "source": [
    "grid_search_xgb_imputed.best_score_"
   ]
  },
  {
   "cell_type": "code",
   "execution_count": 54,
   "metadata": {},
   "outputs": [
    {
     "name": "stdout",
     "output_type": "stream",
     "text": [
      "[0]\tvalidation_0-rmse:0.61416\n",
      "Will train until validation_0-rmse hasn't improved in 10 rounds.\n",
      "[1]\tvalidation_0-rmse:0.52564\n",
      "[2]\tvalidation_0-rmse:0.45988\n",
      "[3]\tvalidation_0-rmse:0.44353\n",
      "[4]\tvalidation_0-rmse:0.41103\n",
      "[5]\tvalidation_0-rmse:0.41143\n",
      "[6]\tvalidation_0-rmse:0.39544\n",
      "[7]\tvalidation_0-rmse:0.38166\n",
      "[8]\tvalidation_0-rmse:0.39177\n",
      "[9]\tvalidation_0-rmse:0.38526\n",
      "\n",
      "train r2: 0.4641552990192635\n",
      "test  r2: 0.034367446685165226\n"
     ]
    }
   ],
   "source": [
    "xgb_best2 = xgboost.XGBRegressor(learning_rate=.22277, n_estimators=10, max_depth=1)\n",
    "xgb_best2.fit(x_train_imputed, y_train, \n",
    "             eval_set=[(x_val, y_val)], \n",
    "             early_stopping_rounds=10)\n",
    "\n",
    "print('')\n",
    "print('train r2:', xgb_best2.score(x_train_imputed, y_train))\n",
    "print('test  r2:', xgb_best2.score(x_test, y_test))"
   ]
  },
  {
   "cell_type": "code",
   "execution_count": 55,
   "metadata": {},
   "outputs": [
    {
     "data": {
      "text/plain": [
       "<matplotlib.axes._subplots.AxesSubplot at 0x7fb1df0a1590>"
      ]
     },
     "execution_count": 55,
     "metadata": {},
     "output_type": "execute_result"
    },
    {
     "data": {
      "image/png": "[encoded data removed]",
      "text/plain": [
       "<Figure size 432x288 with 1 Axes>"
      ]
     },
     "metadata": {
      "needs_background": "light"
     },
     "output_type": "display_data"
    }
   ],
   "source": [
    "pd.DataFrame(index=x_train.columns, data=xgb_best2.feature_importances_*100, columns=['Importance']).sort_values(by='Importance', ascending=False).head(10).plot(kind='barh')"
   ]
  },
  {
   "cell_type": "code",
   "execution_count": null,
   "metadata": {},
   "outputs": [],
   "source": [
    "## try cutting down the number of features - maybe theres too much noise:"
   ]
  },
  {
   "cell_type": "code",
   "execution_count": 56,
   "metadata": {
    "scrolled": true
   },
   "outputs": [
    {
     "data": {
      "text/plain": [
       "Index(['Area_km2', 'Age', 'Volume_km3', 'Areakm2_div_Volkm3', 'org_c',\n",
       "       'temp_annual_avg', 'temp_spring_avg_lc', 'temp_summer_avg_lc',\n",
       "       'temp_fall_avg_lc', 'temp_winter_avg_lc', 'NDVI_annual_avg',\n",
       "       'NDVI_spring_avg_lc', 'NDVI_summer_avg_lc', 'NDVI_fall_avg_lc',\n",
       "       'NDVI_winter_avg_lc', 'npp_annual_avg', 'npp_spring_avg_lc',\n",
       "       'npp_summer_avg_lc', 'npp_fall_avg_lc', 'npp_winter_avg_lc', 'erosion',\n",
       "       'precip', 'kWh'],\n",
       "      dtype='object')"
      ]
     },
     "execution_count": 56,
     "metadata": {},
     "output_type": "execute_result"
    }
   ],
   "source": [
    "X.columns"
   ]
  },
  {
   "cell_type": "code",
   "execution_count": 57,
   "metadata": {},
   "outputs": [],
   "source": [
    "X_reduced = X[['Area_km2', 'Age', 'Volume_km3', 'Areakm2_div_Volkm3', 'org_c',\n",
    "       'temp_summer_avg_lc', 'temp_winter_avg_lc', 'NDVI_annual_avg', 'npp_annual_avg',\n",
    "       'erosion', 'precip', 'kWh']]"
   ]
  },
  {
   "cell_type": "code",
   "execution_count": 58,
   "metadata": {},
   "outputs": [],
   "source": [
    "x_train, x_test, y_train, y_test = train_test_split(X_reduced, Y, test_size=0.2, random_state=42)\n",
    "\n",
    "x_train, x_val, y_train, y_val = train_test_split(x_train, y_train, test_size=0.2, random_state=42)"
   ]
  },
  {
   "cell_type": "code",
   "execution_count": 59,
   "metadata": {},
   "outputs": [
    {
     "name": "stdout",
     "output_type": "stream",
     "text": [
      "[0]\tvalidation_0-rmse:0.57512\n",
      "Will train until validation_0-rmse hasn't improved in 5 rounds.\n",
      "[1]\tvalidation_0-rmse:0.47790\n",
      "[2]\tvalidation_0-rmse:0.41955\n",
      "[3]\tvalidation_0-rmse:0.39035\n",
      "[4]\tvalidation_0-rmse:0.38549\n",
      "[5]\tvalidation_0-rmse:0.38515\n",
      "[6]\tvalidation_0-rmse:0.39172\n",
      "[7]\tvalidation_0-rmse:0.39754\n",
      "[8]\tvalidation_0-rmse:0.40862\n",
      "[9]\tvalidation_0-rmse:0.41266\n",
      "[10]\tvalidation_0-rmse:0.41763\n",
      "Stopping. Best iteration:\n",
      "[5]\tvalidation_0-rmse:0.38515\n",
      "\n",
      "\n",
      "train r2: 0.8840661261420903\n",
      "test  r2: 0.0830955643807828\n"
     ]
    }
   ],
   "source": [
    "model_impute = KNNImputer(n_neighbors=int(np.sqrt(x_train.shape[0])))\n",
    "x_train_imputed = model_impute.fit_transform(x_train)\n",
    "x_train_imputed = pd.DataFrame(columns=x_train.columns, data=x_train_imputed)\n",
    "\n",
    "\n",
    "xgb_reg_imputed2 = xgboost.XGBRegressor()\n",
    "xgb_reg_imputed2.fit(x_train_imputed, y_train, \n",
    "             eval_set=[(x_val, y_val)], \n",
    "             early_stopping_rounds=5)\n",
    "\n",
    "print('')\n",
    "print('train r2:', xgb_reg_imputed2.score(x_train, y_train))\n",
    "print('test  r2:', xgb_reg_imputed2.score(x_test, y_test))"
   ]
  },
  {
   "cell_type": "code",
   "execution_count": null,
   "metadata": {},
   "outputs": [],
   "source": [
    "### try again with train-test-split into thirds"
   ]
  },
  {
   "cell_type": "code",
   "execution_count": 60,
   "metadata": {},
   "outputs": [],
   "source": [
    "from sklearn.preprocessing import StandardScaler\n",
    "\n",
    "data = ch4.copy()\n",
    "scaler = StandardScaler()\n",
    "ch4_scaled = pd.DataFrame(scaler.fit_transform(data),columns=ch4.columns)"
   ]
  },
  {
   "cell_type": "code",
   "execution_count": 61,
   "metadata": {},
   "outputs": [],
   "source": [
    "X = ch4_scaled.drop('CH4 (mg C m-2 d-1)', axis=1)\n",
    "Y = ch4_scaled['CH4 (mg C m-2 d-1)']\n",
    "\n",
    "from sklearn.model_selection import train_test_split\n",
    "\n",
    "x_train, x_test, y_train, y_test = train_test_split(X, Y, test_size=0.33, random_state=42)\n",
    "\n",
    "x_train, x_val, y_train, y_val = train_test_split(x_train, y_train, test_size=0.5, random_state=42)"
   ]
  },
  {
   "cell_type": "code",
   "execution_count": 62,
   "metadata": {},
   "outputs": [],
   "source": [
    "from sklearn.impute import KNNImputer\n",
    "model_impute = KNNImputer(n_neighbors=int(np.sqrt(x_train.shape[0])))\n",
    "x_train_imputed = model_impute.fit_transform(x_train)\n",
    "\n",
    "x_train_imputed = pd.DataFrame(columns=x_train.columns, data=x_train_imputed)"
   ]
  },
  {
   "cell_type": "code",
   "execution_count": 63,
   "metadata": {},
   "outputs": [
    {
     "name": "stdout",
     "output_type": "stream",
     "text": [
      "[0]\tvalidation_0-rmse:0.59107\n",
      "Will train until validation_0-rmse hasn't improved in 5 rounds.\n",
      "[1]\tvalidation_0-rmse:0.46204\n",
      "[2]\tvalidation_0-rmse:0.38802\n",
      "[3]\tvalidation_0-rmse:0.33642\n",
      "[4]\tvalidation_0-rmse:0.30723\n",
      "[5]\tvalidation_0-rmse:0.28823\n",
      "[6]\tvalidation_0-rmse:0.27623\n",
      "[7]\tvalidation_0-rmse:0.26886\n",
      "[8]\tvalidation_0-rmse:0.26634\n",
      "[9]\tvalidation_0-rmse:0.26530\n",
      "[10]\tvalidation_0-rmse:0.26411\n",
      "[11]\tvalidation_0-rmse:0.26333\n",
      "[12]\tvalidation_0-rmse:0.26278\n",
      "[13]\tvalidation_0-rmse:0.26277\n",
      "[14]\tvalidation_0-rmse:0.26325\n",
      "[15]\tvalidation_0-rmse:0.26355\n",
      "[16]\tvalidation_0-rmse:0.26403\n",
      "[17]\tvalidation_0-rmse:0.26463\n",
      "[18]\tvalidation_0-rmse:0.26509\n",
      "Stopping. Best iteration:\n",
      "[13]\tvalidation_0-rmse:0.26277\n",
      "\n",
      "train r2: 0.9902990021503498\n",
      "test  r2: 0.08415824328191035\n"
     ]
    },
    {
     "data": {
      "text/plain": [
       "<matplotlib.axes._subplots.AxesSubplot at 0x7fb1def70750>"
      ]
     },
     "execution_count": 63,
     "metadata": {},
     "output_type": "execute_result"
    },
    {
     "data": {
      "image/png": "[encoded data removed]",
      "text/plain": [
       "<Figure size 432x288 with 1 Axes>"
      ]
     },
     "metadata": {
      "needs_background": "light"
     },
     "output_type": "display_data"
    }
   ],
   "source": [
    "xgb_reg_thirds = xgboost.XGBRegressor()\n",
    "xgb_reg_thirds.fit(x_train_imputed, y_train, \n",
    "             eval_set=[(x_val, y_val)], \n",
    "             early_stopping_rounds=5)\n",
    "\n",
    "print('train r2:', xgb_reg_thirds.score(x_train_imputed, y_train))\n",
    "print('test  r2:', xgb_reg_thirds.score(x_test, y_test))\n",
    "\n",
    "pd.DataFrame(index=x_train.columns, data=xgb_reg_thirds.feature_importances_*100, columns=['Importance']).sort_values(by='Importance', ascending=False).head(10).plot(kind='barh')\n"
   ]
  },
  {
   "cell_type": "code",
   "execution_count": 65,
   "metadata": {},
   "outputs": [
    {
     "name": "stdout",
     "output_type": "stream",
     "text": [
      "[0]\tvalidation_0-rmse:0.64815\n",
      "Will train until validation_0-rmse hasn't improved in 5 rounds.\n",
      "[1]\tvalidation_0-rmse:0.53034\n",
      "[2]\tvalidation_0-rmse:0.44712\n",
      "[3]\tvalidation_0-rmse:0.38810\n",
      "[4]\tvalidation_0-rmse:0.33299\n",
      "[5]\tvalidation_0-rmse:0.30242\n",
      "[6]\tvalidation_0-rmse:0.27065\n",
      "[7]\tvalidation_0-rmse:0.24165\n",
      "[8]\tvalidation_0-rmse:0.23307\n",
      "[9]\tvalidation_0-rmse:0.22616\n",
      "train r2: 0.6031870231171468\n",
      "test  r2: 0.02337468453789282\n"
     ]
    }
   ],
   "source": [
    "xgb_reg_thirds.set_params(learning_rate=.22277, n_estimators=10, max_depth=1)\n",
    "\n",
    "xgb_reg_thirds.fit(x_train_imputed, y_train, \n",
    "             eval_set=[(x_val, y_val)], \n",
    "             early_stopping_rounds=5)\n",
    "\n",
    "print('train r2:', xgb_reg_thirds.score(x_train_imputed, y_train))\n",
    "print('test  r2:', xgb_reg_thirds.score(x_test, y_test))"
   ]
  },
  {
   "cell_type": "code",
   "execution_count": 66,
   "metadata": {},
   "outputs": [
    {
     "data": {
      "text/plain": [
       "<matplotlib.axes._subplots.AxesSubplot at 0x7fb1df03e410>"
      ]
     },
     "execution_count": 66,
     "metadata": {},
     "output_type": "execute_result"
    },
    {
     "data": {
      "image/png": "[encoded data removed]",
      "text/plain": [
       "<Figure size 432x288 with 1 Axes>"
      ]
     },
     "metadata": {
      "needs_background": "light"
     },
     "output_type": "display_data"
    }
   ],
   "source": [
    "pd.DataFrame(index=x_train.columns, data=xgb_reg_thirds.feature_importances_*100, columns=['Importance']).sort_values(by='Importance', ascending=False).head(10).plot(kind='barh')\n"
   ]
  },
  {
   "cell_type": "code",
   "execution_count": null,
   "metadata": {},
   "outputs": [],
   "source": [
    "## squared, unscaled target\n",
    "## imputed, scaled features"
   ]
  },
  {
   "cell_type": "code",
   "execution_count": 67,
   "metadata": {},
   "outputs": [],
   "source": [
    "X = ch4_scaled.drop('CH4 (mg C m-2 d-1)', axis=1)\n",
    "Y = ch4['CH4 (mg C m-2 d-1)']"
   ]
  },
  {
   "cell_type": "code",
   "execution_count": 68,
   "metadata": {},
   "outputs": [],
   "source": [
    "from sklearn.model_selection import train_test_split\n",
    "\n",
    "x_train, x_test, y_train, y_test = train_test_split(X, Y, test_size=0.33, random_state=42)\n",
    "\n",
    "x_train, x_val, y_train, y_val = train_test_split(x_train, y_train, test_size=0.5, random_state=42)"
   ]
  },
  {
   "cell_type": "code",
   "execution_count": 69,
   "metadata": {},
   "outputs": [],
   "source": [
    "from sklearn.impute import KNNImputer\n",
    "model_impute = KNNImputer(n_neighbors=int(np.sqrt(x_train.shape[0])))\n",
    "x_train_imputed = model_impute.fit_transform(x_train)\n",
    "\n",
    "x_train_imputed = pd.DataFrame(columns=x_train.columns, data=x_train_imputed)"
   ]
  },
  {
   "cell_type": "code",
   "execution_count": 70,
   "metadata": {},
   "outputs": [],
   "source": [
    "y_train_sq = y_train**2\n",
    "y_val_sq = y_val**2\n",
    "y_test_sq = y_test**2"
   ]
  },
  {
   "cell_type": "code",
   "execution_count": 71,
   "metadata": {},
   "outputs": [
    {
     "name": "stdout",
     "output_type": "stream",
     "text": [
      "[0]\tvalidation_0-rmse:3743.61450\n",
      "Will train until validation_0-rmse hasn't improved in 10 rounds.\n",
      "[1]\tvalidation_0-rmse:4002.13989\n",
      "[2]\tvalidation_0-rmse:4468.88330\n",
      "[3]\tvalidation_0-rmse:4765.54248\n",
      "[4]\tvalidation_0-rmse:4951.22998\n",
      "[5]\tvalidation_0-rmse:5062.75879\n",
      "[6]\tvalidation_0-rmse:5128.33838\n",
      "[7]\tvalidation_0-rmse:5168.43750\n",
      "[8]\tvalidation_0-rmse:5191.43066\n",
      "[9]\tvalidation_0-rmse:5205.28564\n",
      "[10]\tvalidation_0-rmse:5214.14648\n",
      "Stopping. Best iteration:\n",
      "[0]\tvalidation_0-rmse:3743.61450\n",
      "\n",
      "train r2: 0.5856259264057337\n",
      "test  r2: -0.052567466515917705\n"
     ]
    }
   ],
   "source": [
    "xgb_reg_sq = xgboost.XGBRegressor(learning_rate=.8, n_estimators=100, max_depth=10)\n",
    "# xgb_reg_sq.set_params(learning_rate=.33367, n_estimators=100, max_depth=2)\n",
    "\n",
    "xgb_reg_sq.fit(x_train_imputed, y_train_sq, \n",
    "             eval_set=[(x_val, y_val_sq)], \n",
    "             early_stopping_rounds=10)\n",
    "\n",
    "print('train r2:', xgb_reg_sq.score(x_train_imputed, y_train_sq))\n",
    "print('test  r2:', xgb_reg_sq.score(x_test, y_test_sq))"
   ]
  },
  {
   "cell_type": "code",
   "execution_count": 72,
   "metadata": {},
   "outputs": [
    {
     "data": {
      "text/plain": [
       "<matplotlib.axes._subplots.AxesSubplot at 0x7fb1df40dc90>"
      ]
     },
     "execution_count": 72,
     "metadata": {},
     "output_type": "execute_result"
    },
    {
     "data": {
      "image/png": "[encoded data removed]",
      "text/plain": [
       "<Figure size 432x288 with 1 Axes>"
      ]
     },
     "metadata": {
      "needs_background": "light"
     },
     "output_type": "display_data"
    }
   ],
   "source": [
    "pd.DataFrame(index=x_train.columns, data=xgb_reg_sq.feature_importances_*100, columns=['Importance']).sort_values(by='Importance', ascending=False).head(10).plot(kind='barh')\n"
   ]
  },
  {
   "cell_type": "code",
   "execution_count": null,
   "metadata": {},
   "outputs": [],
   "source": []
  }
 ],
 "metadata": {
  "kernelspec": {
   "display_name": "Python 3",
   "language": "python",
   "name": "python3"
  },
  "language_info": {
   "codemirror_mode": {
    "name": "ipython",
    "version": 3
   },
   "file_extension": ".py",
   "mimetype": "text/x-python",
   "name": "python",
   "nbconvert_exporter": "python",
   "pygments_lexer": "ipython3",
   "version": "3.7.6"
  }
 },
 "nbformat": 4,
 "nbformat_minor": 4
}
