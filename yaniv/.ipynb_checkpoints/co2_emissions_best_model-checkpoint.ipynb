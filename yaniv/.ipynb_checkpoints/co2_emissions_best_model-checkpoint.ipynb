{
 "cells": [
  {
   "cell_type": "code",
   "execution_count": 1,
   "metadata": {},
   "outputs": [],
   "source": [
    "%matplotlib inline\n",
    "import matplotlib.pyplot as plt\n",
    "import numpy as np\n",
    "import pandas as pd\n",
    "\n",
    "from sklearn.ensemble import GradientBoostingRegressor, RandomForestRegressor\n",
    "from sklearn.model_selection import GridSearchCV, LeaveOneOut, LeavePOut, RepeatedKFold, train_test_split\n",
    "from sklearn.neighbors import KNeighborsRegressor\n",
    "from sklearn.pipeline import Pipeline\n",
    "from sklearn.preprocessing import RobustScaler, StandardScaler # robust_scale\n",
    "from sklearn.svm import SVR"
   ]
  },
  {
   "cell_type": "code",
   "execution_count": 2,
   "metadata": {},
   "outputs": [],
   "source": [
    "raw = pd.read_csv('../data/training_final_latcorr.csv')"
   ]
  },
  {
   "cell_type": "code",
   "execution_count": 3,
   "metadata": {},
   "outputs": [
    {
     "name": "stdout",
     "output_type": "stream",
     "text": [
      "raw.shape   = (154, 44)\n",
      "clean.shape = (154, 9)\n"
     ]
    }
   ],
   "source": [
    "co2_raw_cols = [\n",
    "    'CO2 (mg C m¯² d¯¹)',\n",
    "    'Age', \n",
    "    'org_c', \n",
    "    'temp_annual_avg',\n",
    "    'temp_diff_summer_winter_lc', \n",
    "    'NDVI_annual_avg', \n",
    "    'npp_annual_avg', \n",
    "    'erosion',\n",
    "    'precip'\n",
    "]\n",
    "\n",
    "clean = raw[co2_raw_cols].copy()\n",
    "\n",
    "print(\"raw.shape   =\", raw.shape)\n",
    "print(\"clean.shape =\", clean.shape)"
   ]
  },
  {
   "cell_type": "code",
   "execution_count": 4,
   "metadata": {},
   "outputs": [
    {
     "name": "stderr",
     "output_type": "stream",
     "text": [
      "/opt/anaconda3/lib/python3.7/site-packages/pandas/core/series.py:679: RuntimeWarning: invalid value encountered in log\n",
      "  result = getattr(ufunc, method)(*inputs, **kwargs)\n"
     ]
    }
   ],
   "source": [
    "clean['log_co2_emissions'] = np.log(clean['CO2 (mg C m¯² d¯¹)'])\n"
   ]
  },
  {
   "cell_type": "code",
   "execution_count": 5,
   "metadata": {},
   "outputs": [
    {
     "data": {
      "text/plain": [
       "(120, 10)"
      ]
     },
     "execution_count": 5,
     "metadata": {},
     "output_type": "execute_result"
    }
   ],
   "source": [
    "reduced = clean.dropna()\n",
    "reduced.shape"
   ]
  },
  {
   "cell_type": "code",
   "execution_count": 6,
   "metadata": {},
   "outputs": [],
   "source": [
    "#target = 'CO2 (mg C m¯² d¯¹)'\n",
    "target = 'log_co2_emissions'\n",
    "\n",
    "features = ['Age', 'org_c', 'temp_annual_avg', 'temp_diff_summer_winter_lc', \n",
    "            'NDVI_annual_avg', 'npp_annual_avg', 'erosion', 'precip']\n",
    "\n",
    "X = reduced[features]\n",
    "y = reduced[target]"
   ]
  },
  {
   "cell_type": "code",
   "execution_count": 7,
   "metadata": {},
   "outputs": [],
   "source": [
    "X_train, X_test, y_train, y_test = train_test_split(X, y, test_size=0.25, random_state=0)"
   ]
  },
  {
   "cell_type": "code",
   "execution_count": 8,
   "metadata": {},
   "outputs": [
    {
     "name": "stdout",
     "output_type": "stream",
     "text": [
      "X_train.shape = (90, 8)\n",
      "X_test.shape  = (30, 8)\n",
      "y_train.shape = (90,)\n",
      "y_test.shape  = (30,)\n"
     ]
    }
   ],
   "source": [
    "print(\"X_train.shape =\", X_train.shape)\n",
    "print(\"X_test.shape  =\", X_test.shape)\n",
    "print(\"y_train.shape =\", y_train.shape)\n",
    "print(\"y_test.shape  =\", y_test.shape)"
   ]
  },
  {
   "cell_type": "code",
   "execution_count": 9,
   "metadata": {},
   "outputs": [
    {
     "name": "stdout",
     "output_type": "stream",
     "text": [
      "Train score = 0.6089452371310761\n",
      "Test score  = 0.49710373213557973\n"
     ]
    }
   ],
   "source": [
    "pipeline = Pipeline([\n",
    "    ('scaler', StandardScaler()),\n",
    "    ('knr', KNeighborsRegressor())\n",
    "])\n",
    "\n",
    "pipeline.fit(X_train, y_train)\n",
    "\n",
    "print(\"Train score =\", pipeline.score(X_train, y_train))\n",
    "print(\"Test score  =\", pipeline.score(X_test, y_test))"
   ]
  },
  {
   "cell_type": "code",
   "execution_count": 10,
   "metadata": {},
   "outputs": [
    {
     "name": "stdout",
     "output_type": "stream",
     "text": [
      "Best score: 0.245\n",
      "\tknr__n_neighbors: 5\n",
      "\tknr__weights: 'distance'\n"
     ]
    },
    {
     "data": {
      "text/plain": [
       "0.6083936912199917"
      ]
     },
     "execution_count": 10,
     "metadata": {},
     "output_type": "execute_result"
    }
   ],
   "source": [
    "parameters = {\n",
    "    'knr__n_neighbors': range(1, round(len(y_train) / 2)),\n",
    "    'knr__weights': ['uniform', 'distance']\n",
    "}\n",
    "\n",
    "my_cv = RepeatedKFold(n_splits=2, n_repeats=10, random_state=0)\n",
    "\n",
    "grid_search = GridSearchCV(pipeline, parameters, cv=my_cv, n_jobs=-1, scoring='r2') \n",
    "\n",
    "grid_search.fit(X_train, y_train)\n",
    "\n",
    "print(\"Best score: %0.3f\" % grid_search.best_score_)\n",
    "best_parameters = grid_search.best_estimator_.get_params()\n",
    "for param_name in sorted(parameters.keys()):\n",
    "    print(\"\\t%s: %r\" % (param_name, best_parameters[param_name]))\n",
    "\n",
    "grid_search.best_estimator_.score(X_test, y_test)"
   ]
  }
 ],
 "metadata": {
  "kernelspec": {
   "display_name": "Python 3",
   "language": "python",
   "name": "python3"
  },
  "language_info": {
   "codemirror_mode": {
    "name": "ipython",
    "version": 3
   },
   "file_extension": ".py",
   "mimetype": "text/x-python",
   "name": "python",
   "nbconvert_exporter": "python",
   "pygments_lexer": "ipython3",
   "version": "3.7.6"
  }
 },
 "nbformat": 4,
 "nbformat_minor": 4
}
