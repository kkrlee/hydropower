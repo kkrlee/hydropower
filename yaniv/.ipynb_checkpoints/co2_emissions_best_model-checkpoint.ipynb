{
 "cells": [
  {
   "cell_type": "code",
   "execution_count": 146,
   "metadata": {},
   "outputs": [],
   "source": [
    "%matplotlib inline\n",
    "import matplotlib.pyplot as plt\n",
    "import numpy as np\n",
    "import pandas as pd\n",
    "\n",
    "from sklearn.ensemble import GradientBoostingRegressor, RandomForestRegressor\n",
    "from sklearn.model_selection import GridSearchCV, LeaveOneOut, LeavePOut, RepeatedKFold, train_test_split\n",
    "from sklearn.neighbors import KNeighborsRegressor\n",
    "from sklearn.pipeline import Pipeline\n",
    "from sklearn.preprocessing import RobustScaler, StandardScaler # robust_scale\n",
    "from sklearn.svm import SVR"
   ]
  },
  {
   "cell_type": "code",
   "execution_count": 147,
   "metadata": {},
   "outputs": [],
   "source": [
    "raw = pd.read_csv('../data/training_final_latcorr.csv')"
   ]
  },
  {
   "cell_type": "code",
   "execution_count": 148,
   "metadata": {},
   "outputs": [
    {
     "name": "stdout",
     "output_type": "stream",
     "text": [
      "raw.shape   = (154, 44)\n",
      "clean.shape = (154, 9)\n"
     ]
    }
   ],
   "source": [
    "co2_raw_cols = [\n",
    "    'CO2 (mg C m¯² d¯¹)',\n",
    "    'Age', \n",
    "    'org_c', \n",
    "    'temp_annual_avg',\n",
    "    'temp_diff_summer_winter_lc', \n",
    "    'NDVI_annual_avg', \n",
    "    'npp_annual_avg', \n",
    "    'erosion',\n",
    "    'precip'\n",
    "]\n",
    "\n",
    "clean = raw[co2_raw_cols].copy()\n",
    "\n",
    "print(\"raw.shape   =\", raw.shape)\n",
    "print(\"clean.shape =\", clean.shape)"
   ]
  },
  {
   "cell_type": "code",
   "execution_count": 149,
   "metadata": {
    "scrolled": true
   },
   "outputs": [
    {
     "name": "stderr",
     "output_type": "stream",
     "text": [
      "/opt/anaconda3/lib/python3.7/site-packages/pandas/core/series.py:679: RuntimeWarning: invalid value encountered in log\n",
      "  result = getattr(ufunc, method)(*inputs, **kwargs)\n"
     ]
    }
   ],
   "source": [
    "clean['log_co2_emissions'] = np.log(clean['CO2 (mg C m¯² d¯¹)'])\n"
   ]
  },
  {
   "cell_type": "code",
   "execution_count": 150,
   "metadata": {},
   "outputs": [
    {
     "data": {
      "text/plain": [
       "(120, 10)"
      ]
     },
     "execution_count": 150,
     "metadata": {},
     "output_type": "execute_result"
    }
   ],
   "source": [
    "reduced = clean.dropna()\n",
    "reduced.shape"
   ]
  },
  {
   "cell_type": "code",
   "execution_count": 182,
   "metadata": {},
   "outputs": [],
   "source": [
    "#target = 'CO2 (mg C m¯² d¯¹)'\n",
    "target = 'log_co2_emissions'\n",
    "\n",
    "features = ['Age', 'org_c', 'temp_annual_avg', 'temp_diff_summer_winter_lc', \n",
    "            'NDVI_annual_avg', 'npp_annual_avg', 'erosion', 'precip']\n",
    "\n",
    "X = reduced[features]\n",
    "y = reduced[target]"
   ]
  },
  {
   "cell_type": "code",
   "execution_count": 183,
   "metadata": {},
   "outputs": [],
   "source": [
    "X_train, X_test, y_train, y_test = train_test_split(X, y, test_size=0.25, random_state=0)"
   ]
  },
  {
   "cell_type": "code",
   "execution_count": 184,
   "metadata": {},
   "outputs": [
    {
     "name": "stdout",
     "output_type": "stream",
     "text": [
      "X_train.shape = (90, 8)\n",
      "X_test.shape  = (30, 8)\n",
      "y_train.shape = (90,)\n",
      "y_test.shape  = (30,)\n"
     ]
    }
   ],
   "source": [
    "print(\"X_train.shape =\", X_train.shape)\n",
    "print(\"X_test.shape  =\", X_test.shape)\n",
    "print(\"y_train.shape =\", y_train.shape)\n",
    "print(\"y_test.shape  =\", y_test.shape)"
   ]
  },
  {
   "cell_type": "code",
   "execution_count": 185,
   "metadata": {},
   "outputs": [
    {
     "name": "stdout",
     "output_type": "stream",
     "text": [
      "Train score = 0.6089452371310761\n",
      "Test score  = 0.49710373213557973\n"
     ]
    }
   ],
   "source": [
    "pipeline = Pipeline([\n",
    "    ('scaler', StandardScaler()),\n",
    "    ('knr', KNeighborsRegressor())\n",
    "])\n",
    "\n",
    "pipeline.fit(X_train, y_train)\n",
    "\n",
    "print(\"Train score =\", pipeline.score(X_train, y_train))\n",
    "print(\"Test score  =\", pipeline.score(X_test, y_test))"
   ]
  },
  {
   "cell_type": "code",
   "execution_count": 186,
   "metadata": {
    "scrolled": true
   },
   "outputs": [
    {
     "name": "stdout",
     "output_type": "stream",
     "text": [
      "Best score: 0.245\n",
      "\tknr__n_neighbors: 5\n",
      "\tknr__weights: 'distance'\n"
     ]
    },
    {
     "data": {
      "text/plain": [
       "0.6083936912199917"
      ]
     },
     "execution_count": 186,
     "metadata": {},
     "output_type": "execute_result"
    }
   ],
   "source": [
    "parameters = {\n",
    "    'knr__n_neighbors': range(1, round(len(y_train) / 2)),\n",
    "    'knr__weights': ['uniform', 'distance']\n",
    "}\n",
    "\n",
    "my_cv = RepeatedKFold(n_splits=2, n_repeats=10, random_state=0)\n",
    "\n",
    "best_co2_model = GridSearchCV(pipeline, parameters, cv=my_cv, n_jobs=-1, scoring='r2') \n",
    "\n",
    "best_co2_model.fit(X_train, y_train)\n",
    "\n",
    "print(\"Best score: %0.3f\" % best_co2_model.best_score_)\n",
    "best_parameters = best_co2_model.best_estimator_.get_params()\n",
    "for param_name in sorted(parameters.keys()):\n",
    "    print(\"\\t%s: %r\" % (param_name, best_parameters[param_name]))\n",
    "\n",
    "best_co2_model.best_estimator_.score(X_test, y_test)"
   ]
  },
  {
   "cell_type": "markdown",
   "metadata": {},
   "source": [
    "## Use this model to predict CO2 emissions in USA dataset"
   ]
  },
  {
   "cell_type": "code",
   "execution_count": 156,
   "metadata": {},
   "outputs": [],
   "source": [
    "present = pd.read_csv('../data_predict/merged_PRESENT.csv')\n",
    "best_case = pd.read_csv('../data_predict/merged_2100ssp126.csv')\n",
    "worst_case = pd.read_csv('../data_predict/merged_2100ssp585.csv')"
   ]
  },
  {
   "cell_type": "code",
   "execution_count": 157,
   "metadata": {
    "scrolled": true
   },
   "outputs": [
    {
     "name": "stdout",
     "output_type": "stream",
     "text": [
      "Age : 0\n",
      "org_c : 0\n",
      "temp_annual_avg : 0\n",
      "temp_diff_summer_winter_lc : 0\n",
      "NDVI_annual_avg : 0\n",
      "npp_annual_avg : 33\n",
      "erosion : 0\n",
      "precip : 0\n"
     ]
    }
   ],
   "source": [
    "for column in present[features]:\n",
    "    print(column, ':',  present[features][column].isna().sum())"
   ]
  },
  {
   "cell_type": "code",
   "execution_count": 161,
   "metadata": {},
   "outputs": [],
   "source": [
    "present['npp_annual_avg'] = present['npp_annual_avg'].fillna(present['npp_annual_avg'].mean())\n",
    "best_case['npp_annual_avg'] = best_case['npp_annual_avg'].fillna(best_case['npp_annual_avg'].mean())\n",
    "worst_case['npp_annual_avg'] = worst_case['npp_annual_avg'].fillna(worst_case['npp_annual_avg'].mean())"
   ]
  },
  {
   "cell_type": "code",
   "execution_count": 162,
   "metadata": {},
   "outputs": [],
   "source": [
    "present['co2_emissions_logscale'] = best_co2_model.predict(present[features])\n",
    "best_case['co2_emissions_logscale'] = best_co2_model.predict(best_case[features])\n",
    "worst_case['co2_emissions_logscale'] = best_co2_model.predict(worst_case[features])"
   ]
  },
  {
   "cell_type": "code",
   "execution_count": 163,
   "metadata": {},
   "outputs": [],
   "source": [
    "present['co2_emissions'] = 10**present['co2_emissions_logscale']\n",
    "best_case['co2_emissions'] = 10**best_case['co2_emissions_logscale']\n",
    "worst_case['co2_emissions'] = 10**worst_case['co2_emissions_logscale']"
   ]
  },
  {
   "cell_type": "code",
   "execution_count": 164,
   "metadata": {},
   "outputs": [],
   "source": [
    "present.to_csv('../data_predict/merged_PRESENT_co2predicted.csv')\n",
    "best_case.to_csv('../data_predict/merged_2100ssp126_co2predicted.csv')\n",
    "worst_case.to_csv('../data_predict/merged_2100ssp585_co2predicted.csv')"
   ]
  },
  {
   "cell_type": "code",
   "execution_count": 165,
   "metadata": {},
   "outputs": [
    {
     "data": {
      "text/plain": [
       "148721.69675618425"
      ]
     },
     "execution_count": 165,
     "metadata": {},
     "output_type": "execute_result"
    }
   ],
   "source": [
    "present['co2_emissions'].median()"
   ]
  },
  {
   "cell_type": "code",
   "execution_count": 166,
   "metadata": {},
   "outputs": [
    {
     "data": {
      "text/plain": [
       "168073.49382113252"
      ]
     },
     "execution_count": 166,
     "metadata": {},
     "output_type": "execute_result"
    }
   ],
   "source": [
    "best_case['co2_emissions'].median()"
   ]
  },
  {
   "cell_type": "code",
   "execution_count": 167,
   "metadata": {},
   "outputs": [
    {
     "data": {
      "text/plain": [
       "201921.0311567986"
      ]
     },
     "execution_count": 167,
     "metadata": {},
     "output_type": "execute_result"
    }
   ],
   "source": [
    "worst_case['co2_emissions'].median()"
   ]
  },
  {
   "cell_type": "code",
   "execution_count": 168,
   "metadata": {},
   "outputs": [
    {
     "data": {
      "text/plain": [
       "863597.3653325887"
      ]
     },
     "execution_count": 168,
     "metadata": {},
     "output_type": "execute_result"
    }
   ],
   "source": [
    "10**y_test.median()"
   ]
  },
  {
   "cell_type": "code",
   "execution_count": 169,
   "metadata": {},
   "outputs": [
    {
     "data": {
      "text/plain": [
       "894711.7393707011"
      ]
     },
     "execution_count": 169,
     "metadata": {},
     "output_type": "execute_result"
    }
   ],
   "source": [
    "10**y_train.median()"
   ]
  },
  {
   "cell_type": "code",
   "execution_count": 170,
   "metadata": {},
   "outputs": [
    {
     "data": {
      "text/plain": [
       "891767.7756722422"
      ]
     },
     "execution_count": 170,
     "metadata": {},
     "output_type": "execute_result"
    }
   ],
   "source": [
    "10**y.median()"
   ]
  },
  {
   "cell_type": "code",
   "execution_count": null,
   "metadata": {},
   "outputs": [],
   "source": [
    "#plotting results"
   ]
  },
  {
   "cell_type": "code",
   "execution_count": 139,
   "metadata": {},
   "outputs": [
    {
     "data": {
      "image/png": "[encoded data removed]",
      "text/plain": [
       "<Figure size 432x288 with 1 Axes>"
      ]
     },
     "metadata": {
      "needs_background": "light"
     },
     "output_type": "display_data"
    }
   ],
   "source": [
    "y_pred = best_co2_model.predict(X_test)\n",
    "y_true = y_test\n",
    "\n",
    "fig = plt.figure()\n",
    "ax = fig.add_subplot(111)\n",
    "ax.scatter(x=y_pred, y=y_true, alpha=.75)\n",
    "ax.set_title('KNN - Target Variable: log(CO2)' , fontsize=14)\n",
    "ax.set_xlabel('Predicted', fontsize=12)\n",
    "ax.set_ylabel('Measured', fontsize=12)\n",
    "ax.set_xlim([4, 8])\n",
    "ax.set_ylim([4, 8])\n",
    "ax.plot([0,8], [0, 8], color='red', linestyle='--', linewidth=2)\n",
    "plt.savefig('knn_pred_vs_mes.png')"
   ]
  },
  {
   "cell_type": "code",
   "execution_count": 187,
   "metadata": {
    "scrolled": true
   },
   "outputs": [
    {
     "data": {
      "text/html": [
       "<div>\n",
       "<style scoped>\n",
       "    .dataframe tbody tr th:only-of-type {\n",
       "        vertical-align: middle;\n",
       "    }\n",
       "\n",
       "    .dataframe tbody tr th {\n",
       "        vertical-align: top;\n",
       "    }\n",
       "\n",
       "    .dataframe thead th {\n",
       "        text-align: right;\n",
       "    }\n",
       "</style>\n",
       "<table border=\"1\" class=\"dataframe\">\n",
       "  <thead>\n",
       "    <tr style=\"text-align: right;\">\n",
       "      <th></th>\n",
       "      <th>Age</th>\n",
       "      <th>org_c</th>\n",
       "      <th>temp_annual_avg</th>\n",
       "      <th>temp_diff_summer_winter_lc</th>\n",
       "      <th>NDVI_annual_avg</th>\n",
       "      <th>npp_annual_avg</th>\n",
       "      <th>erosion</th>\n",
       "      <th>precip</th>\n",
       "    </tr>\n",
       "  </thead>\n",
       "  <tbody>\n",
       "    <tr>\n",
       "      <th>count</th>\n",
       "      <td>-390.000000</td>\n",
       "      <td>-390.000000</td>\n",
       "      <td>-390.000000</td>\n",
       "      <td>-390.000000</td>\n",
       "      <td>-390.000000</td>\n",
       "      <td>-390.000000</td>\n",
       "      <td>-390.000000</td>\n",
       "      <td>-390.000000</td>\n",
       "    </tr>\n",
       "    <tr>\n",
       "      <th>mean</th>\n",
       "      <td>-39.039706</td>\n",
       "      <td>22.495782</td>\n",
       "      <td>-0.737727</td>\n",
       "      <td>-3.490620</td>\n",
       "      <td>11.403309</td>\n",
       "      <td>-4.631652</td>\n",
       "      <td>1.666287</td>\n",
       "      <td>160.791667</td>\n",
       "    </tr>\n",
       "    <tr>\n",
       "      <th>std</th>\n",
       "      <td>0.992507</td>\n",
       "      <td>-13.231013</td>\n",
       "      <td>6.257394</td>\n",
       "      <td>7.756561</td>\n",
       "      <td>9.379276</td>\n",
       "      <td>5.123202</td>\n",
       "      <td>0.932265</td>\n",
       "      <td>69.872036</td>\n",
       "    </tr>\n",
       "    <tr>\n",
       "      <th>min</th>\n",
       "      <td>-22.000000</td>\n",
       "      <td>5.547675</td>\n",
       "      <td>-3.655000</td>\n",
       "      <td>-8.226666</td>\n",
       "      <td>48.499996</td>\n",
       "      <td>15.000000</td>\n",
       "      <td>-0.002967</td>\n",
       "      <td>205.000000</td>\n",
       "    </tr>\n",
       "    <tr>\n",
       "      <th>25%</th>\n",
       "      <td>-38.250000</td>\n",
       "      <td>22.695223</td>\n",
       "      <td>-5.741417</td>\n",
       "      <td>-13.644334</td>\n",
       "      <td>-3.458336</td>\n",
       "      <td>-11.604170</td>\n",
       "      <td>-0.067599</td>\n",
       "      <td>83.500000</td>\n",
       "    </tr>\n",
       "    <tr>\n",
       "      <th>50%</th>\n",
       "      <td>-44.500000</td>\n",
       "      <td>26.661419</td>\n",
       "      <td>-5.520166</td>\n",
       "      <td>0.238667</td>\n",
       "      <td>-5.375000</td>\n",
       "      <td>-9.833328</td>\n",
       "      <td>-0.267902</td>\n",
       "      <td>95.000000</td>\n",
       "    </tr>\n",
       "    <tr>\n",
       "      <th>75%</th>\n",
       "      <td>-45.750000</td>\n",
       "      <td>28.360537</td>\n",
       "      <td>7.267668</td>\n",
       "      <td>5.193667</td>\n",
       "      <td>32.562500</td>\n",
       "      <td>-4.479168</td>\n",
       "      <td>-0.459402</td>\n",
       "      <td>176.000000</td>\n",
       "    </tr>\n",
       "    <tr>\n",
       "      <th>max</th>\n",
       "      <td>-75.000000</td>\n",
       "      <td>-432.466659</td>\n",
       "      <td>3.048000</td>\n",
       "      <td>2.828000</td>\n",
       "      <td>0.000000</td>\n",
       "      <td>-54.500000</td>\n",
       "      <td>-44.840134</td>\n",
       "      <td>157.000000</td>\n",
       "    </tr>\n",
       "  </tbody>\n",
       "</table>\n",
       "</div>"
      ],
      "text/plain": [
       "              Age       org_c  temp_annual_avg  temp_diff_summer_winter_lc  \\\n",
       "count -390.000000 -390.000000      -390.000000                 -390.000000   \n",
       "mean   -39.039706   22.495782        -0.737727                   -3.490620   \n",
       "std      0.992507  -13.231013         6.257394                    7.756561   \n",
       "min    -22.000000    5.547675        -3.655000                   -8.226666   \n",
       "25%    -38.250000   22.695223        -5.741417                  -13.644334   \n",
       "50%    -44.500000   26.661419        -5.520166                    0.238667   \n",
       "75%    -45.750000   28.360537         7.267668                    5.193667   \n",
       "max    -75.000000 -432.466659         3.048000                    2.828000   \n",
       "\n",
       "       NDVI_annual_avg  npp_annual_avg     erosion      precip  \n",
       "count      -390.000000     -390.000000 -390.000000 -390.000000  \n",
       "mean         11.403309       -4.631652    1.666287  160.791667  \n",
       "std           9.379276        5.123202    0.932265   69.872036  \n",
       "min          48.499996       15.000000   -0.002967  205.000000  \n",
       "25%          -3.458336      -11.604170   -0.067599   83.500000  \n",
       "50%          -5.375000       -9.833328   -0.267902   95.000000  \n",
       "75%          32.562500       -4.479168   -0.459402  176.000000  \n",
       "max           0.000000      -54.500000  -44.840134  157.000000  "
      ]
     },
     "execution_count": 187,
     "metadata": {},
     "output_type": "execute_result"
    }
   ],
   "source": [
    "X.describe() - present[features].describe()"
   ]
  },
  {
   "cell_type": "code",
   "execution_count": null,
   "metadata": {},
   "outputs": [],
   "source": []
  }
 ],
 "metadata": {
  "kernelspec": {
   "display_name": "Python 3",
   "language": "python",
   "name": "python3"
  },
  "language_info": {
   "codemirror_mode": {
    "name": "ipython",
    "version": 3
   },
   "file_extension": ".py",
   "mimetype": "text/x-python",
   "name": "python",
   "nbconvert_exporter": "python",
   "pygments_lexer": "ipython3",
   "version": "3.7.6"
  }
 },
 "nbformat": 4,
 "nbformat_minor": 4
}
