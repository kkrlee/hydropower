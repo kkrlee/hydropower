{
 "cells": [
  {
   "cell_type": "markdown",
   "metadata": {},
   "source": [
    "### Extracting data on hypdropower dams and resevoirs in the USA"
   ]
  },
  {
   "cell_type": "markdown",
   "metadata": {},
   "source": [
    "1. Import table from https://hydrosource.ornl.gov/market-info-and-data/existing-hydropower-assets"
   ]
  },
  {
   "cell_type": "code",
   "execution_count": 63,
   "metadata": {},
   "outputs": [],
   "source": [
    "%matplotlib inline\n",
    "import matplotlib\n",
    "import matplotlib.pyplot as plt\n",
    "import numpy as np\n",
    "import pandas as pd"
   ]
  },
  {
   "cell_type": "code",
   "execution_count": 64,
   "metadata": {},
   "outputs": [],
   "source": [
    "df = pd.read_excel (r'ORNL_EHAHydroPlant_FY2020_revised/ORNL_EHAHydroPlant_FY2020revised.xlsx', sheet_name='Operational')"
   ]
  },
  {
   "cell_type": "code",
   "execution_count": 65,
   "metadata": {},
   "outputs": [],
   "source": [
    "df.columns = df.loc[0]\n",
    "df = df.drop([0], axis=0)"
   ]
  },
  {
   "cell_type": "markdown",
   "metadata": {},
   "source": [
    "Data we have so far:\n",
    "- location (lat, long, state, river)\n",
    "- ownership info\n",
    "- \"type\" & \"mode\" of dam\n",
    "- different versions of energy generation capacity\n",
    "- year dam was first opperational\n",
    "- some ID info about the dam, including agency oversight"
   ]
  },
  {
   "cell_type": "code",
   "execution_count": 66,
   "metadata": {},
   "outputs": [],
   "source": [
    "#the excel file includes a sheet to de-code the columns in df:\n",
    "\n",
    "data_description = pd.read_excel (r'ORNL_EHAHydroPlant_FY2020_revised/ORNL_EHAHydroPlant_FY2020revised.xlsx', sheet_name='Field Descriptions')"
   ]
  },
  {
   "cell_type": "code",
   "execution_count": 67,
   "metadata": {},
   "outputs": [],
   "source": [
    "#cleaning the description sheet\n",
    "\n",
    "data_description['Short Name'] = list(map(lambda x: x.strip(), list(data_description['Short Name'])))\n",
    "data_description = data_description.set_index('Short Name')"
   ]
  },
  {
   "cell_type": "code",
   "execution_count": 145,
   "metadata": {},
   "outputs": [
    {
     "data": {
      "text/plain": [
       "'Identification code of each hydropower plant feature. Provides functional linkage to other datasets within EHA.'"
      ]
     },
     "execution_count": 145,
     "metadata": {},
     "output_type": "execute_result"
    }
   ],
   "source": [
    "#to search for a description of a column in df, define col_name as the column in question:\n",
    "col_name = 'EHA_PtID'\n",
    "\n",
    "data_description.loc[col_name,'Description']"
   ]
  },
  {
   "cell_type": "code",
   "execution_count": 69,
   "metadata": {},
   "outputs": [],
   "source": [
    "#to look at all descriptions:\n",
    "\n",
    "all_desc = data_description['Description']\n",
    "#all_desc"
   ]
  },
  {
   "cell_type": "markdown",
   "metadata": {},
   "source": [
    "### Explore data in this df:"
   ]
  },
  {
   "cell_type": "code",
   "execution_count": 70,
   "metadata": {},
   "outputs": [
    {
     "data": {
      "text/plain": [
       "0\n",
       "PS_OpYear          2257\n",
       "PS_Pf              2257\n",
       "PS_MWh             2257\n",
       "PS_MW              2255\n",
       "FcExpire           1045\n",
       "BACode              833\n",
       "Mode                794\n",
       "Trans               789\n",
       "Sector              780\n",
       "NID_ID              682\n",
       "EIA_PtID            621\n",
       "FcIssue             377\n",
       "FC_Dock             370\n",
       "CH_Pf               329\n",
       "CH_MWh              327\n",
       "CH_OpYear           167\n",
       "Dam_Own             139\n",
       "NERC                 77\n",
       "HUC                  54\n",
       "ReEDSPCA             29\n",
       "CH_MW                28\n",
       "Water                27\n",
       "County               15\n",
       "OwType                7\n",
       "Pt_Own                7\n",
       "Number_of_Units       1\n",
       "Type                  0\n",
       "Lon                   0\n",
       "Lat                   0\n",
       "State                 0\n",
       "Pm_Type               0\n",
       "PtName                0\n",
       "EHA_PtID              0\n",
       "dtype: int64"
      ]
     },
     "execution_count": 70,
     "metadata": {},
     "output_type": "execute_result"
    }
   ],
   "source": [
    "df.isnull().sum(axis=0).sort_values(ascending=False)\n",
    "\n",
    "# missing_vals = df.columns[df.isnull().any()]\n",
    "# for column in df:\n",
    "#     print(column)\n",
    "#     print(type(column))\n",
    "#     print(df[column].value_counts())\n",
    "#     print(\"missing values: \", df[column].isna().sum())\n",
    "#     print()"
   ]
  },
  {
   "cell_type": "markdown",
   "metadata": {},
   "source": [
    "Notes on above:\n",
    "- some dams have the same 'name' but multiple IDs\n",
    "- lets look into the distribution of counties, states in the USA a number of dams!\n",
    "- are there relationships between ownership and type/mode of the dam?\n",
    "- how many are privately owned or publicly owned? industrial vs. commercial vs. utility\n",
    "- FcIssue, FcExpire are dates stored as strings (mm/dd/yyyy)'\n",
    "- everything is strings! - energy/capacity metrics must be converted to floats\n",
    "- PS_OpYear -> date stored as string (yyyy)\n",
    "- lots of missing values...\n",
    "    - \"PS_\" capacity has much more missingness than CH....whats the difference?"
   ]
  },
  {
   "cell_type": "code",
   "execution_count": 71,
   "metadata": {},
   "outputs": [
    {
     "data": {
      "text/plain": [
       "Index(['EHA_PtID', 'PtName', 'County', 'State', 'Lat', 'Lon', 'Pt_Own',\n",
       "       'OwType', 'Dam_Own', 'Type', 'EIA_PtID', 'FC_Dock', 'FcIssue',\n",
       "       'FcExpire', 'Mode', 'Pm_Type', 'Number_of_Units', 'CH_MW', 'CH_MWh',\n",
       "       'CH_Pf', 'CH_OpYear', 'PS_MW', 'PS_MWh', 'PS_Pf', 'PS_OpYear', 'Water',\n",
       "       'HUC', 'NID_ID', 'ReEDSPCA', 'NERC', 'BACode', 'Sector', 'Trans'],\n",
       "      dtype='object', name=0)"
      ]
     },
     "execution_count": 71,
     "metadata": {},
     "output_type": "execute_result"
    }
   ],
   "source": [
    "df.columns"
   ]
  },
  {
   "cell_type": "code",
   "execution_count": 72,
   "metadata": {},
   "outputs": [],
   "source": [
    "#numeric columns:\n",
    "numerics = ['Lat','Lon','Number_of_Units', 'CH_MW', 'CH_MWh','CH_Pf','PS_MW', 'PS_MWh', 'PS_Pf']\n",
    "\n",
    "for col in df:\n",
    "    if col in numerics:\n",
    "        df[col] = df[col].astype(float)"
   ]
  },
  {
   "cell_type": "code",
   "execution_count": 87,
   "metadata": {},
   "outputs": [
    {
     "data": {
      "text/plain": [
       "<matplotlib.axes._subplots.AxesSubplot at 0x7f95cfdc0c90>"
      ]
     },
     "execution_count": 87,
     "metadata": {},
     "output_type": "execute_result"
    },
    {
     "data": {
      "image/png": "[encoded data removed]",
      "text/plain": [
       "<Figure size 1440x432 with 1 Axes>"
      ]
     },
     "metadata": {
      "needs_background": "light"
     },
     "output_type": "display_data"
    }
   ],
   "source": [
    "plt.figure(figsize=(20,6))\n",
    "df.groupby('State')['EHA_PtID'].count().sort_values(ascending=False).plot(kind='bar')"
   ]
  },
  {
   "cell_type": "markdown",
   "metadata": {},
   "source": [
    "#### Aside: creating df with state land and water area for EDA"
   ]
  },
  {
   "cell_type": "markdown",
   "metadata": {},
   "source": [
    "data from https://simple.wikipedia.org/wiki/List_of_U.S._states_and_territories_by_area"
   ]
  },
  {
   "cell_type": "code",
   "execution_count": 99,
   "metadata": {},
   "outputs": [],
   "source": [
    "state_data = pd.read_csv('state_geom.csv')"
   ]
  },
  {
   "cell_type": "code",
   "execution_count": 102,
   "metadata": {},
   "outputs": [],
   "source": [
    "state = state_data.copy()"
   ]
  },
  {
   "cell_type": "code",
   "execution_count": 123,
   "metadata": {},
   "outputs": [
    {
     "data": {
      "text/plain": [
       "(49,)"
      ]
     },
     "execution_count": 123,
     "metadata": {},
     "output_type": "execute_result"
    }
   ],
   "source": [
    "df2 = df.groupby('State')['EHA_PtID'].count()\n",
    "df2.shape"
   ]
  },
  {
   "cell_type": "code",
   "execution_count": 124,
   "metadata": {},
   "outputs": [],
   "source": [
    "state = state.merge(df2, left_on='STUSPS', right_on='State')"
   ]
  },
  {
   "cell_type": "code",
   "execution_count": 127,
   "metadata": {},
   "outputs": [],
   "source": [
    "state2 = state[['STUSPS','EHA_PtID_y','ALAND','AWATER']].drop_duplicates()\n",
    "state2['dams_per_land_area'] = state2['EHA_PtID_y']/state2['ALAND']\n",
    "state2['dams_per_water_area'] = state2['EHA_PtID_y']/state2['AWATER']"
   ]
  },
  {
   "cell_type": "code",
   "execution_count": 142,
   "metadata": {},
   "outputs": [
    {
     "data": {
      "text/html": [
       "<div>\n",
       "<style scoped>\n",
       "    .dataframe tbody tr th:only-of-type {\n",
       "        vertical-align: middle;\n",
       "    }\n",
       "\n",
       "    .dataframe tbody tr th {\n",
       "        vertical-align: top;\n",
       "    }\n",
       "\n",
       "    .dataframe thead th {\n",
       "        text-align: right;\n",
       "    }\n",
       "</style>\n",
       "<table border=\"1\" class=\"dataframe\">\n",
       "  <thead>\n",
       "    <tr style=\"text-align: right;\">\n",
       "      <th></th>\n",
       "      <th>STUSPS</th>\n",
       "      <th>EHA_PtID_y</th>\n",
       "      <th>ALAND</th>\n",
       "      <th>AWATER</th>\n",
       "      <th>dams_per_land_area</th>\n",
       "      <th>dams_per_water_area</th>\n",
       "    </tr>\n",
       "  </thead>\n",
       "  <tbody>\n",
       "    <tr>\n",
       "      <th>1680</th>\n",
       "      <td>NH</td>\n",
       "      <td>102</td>\n",
       "      <td>23189413166</td>\n",
       "      <td>1026675248</td>\n",
       "      <td>4.398559e-09</td>\n",
       "      <td>9.934982e-08</td>\n",
       "    </tr>\n",
       "    <tr>\n",
       "      <th>214</th>\n",
       "      <td>MA</td>\n",
       "      <td>72</td>\n",
       "      <td>20205125364</td>\n",
       "      <td>7129925486</td>\n",
       "      <td>3.563452e-09</td>\n",
       "      <td>1.009828e-08</td>\n",
       "    </tr>\n",
       "    <tr>\n",
       "      <th>1510</th>\n",
       "      <td>VT</td>\n",
       "      <td>84</td>\n",
       "      <td>23874175944</td>\n",
       "      <td>1030416650</td>\n",
       "      <td>3.518446e-09</td>\n",
       "      <td>8.152042e-08</td>\n",
       "    </tr>\n",
       "    <tr>\n",
       "      <th>2193</th>\n",
       "      <td>CT</td>\n",
       "      <td>31</td>\n",
       "      <td>12542497068</td>\n",
       "      <td>1815617571</td>\n",
       "      <td>2.471597e-09</td>\n",
       "      <td>1.707408e-08</td>\n",
       "    </tr>\n",
       "    <tr>\n",
       "      <th>1906</th>\n",
       "      <td>RI</td>\n",
       "      <td>6</td>\n",
       "      <td>2677779902</td>\n",
       "      <td>1323670487</td>\n",
       "      <td>2.240662e-09</td>\n",
       "      <td>4.532850e-09</td>\n",
       "    </tr>\n",
       "  </tbody>\n",
       "</table>\n",
       "</div>"
      ],
      "text/plain": [
       "     STUSPS  EHA_PtID_y        ALAND      AWATER  dams_per_land_area  \\\n",
       "1680     NH         102  23189413166  1026675248        4.398559e-09   \n",
       "214      MA          72  20205125364  7129925486        3.563452e-09   \n",
       "1510     VT          84  23874175944  1030416650        3.518446e-09   \n",
       "2193     CT          31  12542497068  1815617571        2.471597e-09   \n",
       "1906     RI           6   2677779902  1323670487        2.240662e-09   \n",
       "\n",
       "      dams_per_water_area  \n",
       "1680         9.934982e-08  \n",
       "214          1.009828e-08  \n",
       "1510         8.152042e-08  \n",
       "2193         1.707408e-08  \n",
       "1906         4.532850e-09  "
      ]
     },
     "execution_count": 142,
     "metadata": {},
     "output_type": "execute_result"
    },
    {
     "data": {
      "image/png": "[encoded data removed]",
      "text/plain": [
       "<Figure size 432x288 with 1 Axes>"
      ]
     },
     "metadata": {
      "needs_background": "light"
     },
     "output_type": "display_data"
    }
   ],
   "source": [
    "state2.sort_values(by='dams_per_land_area',ascending=False).head(20).plot(kind='bar', x='STUSPS', y='dams_per_land_area').set(title=\"Which states have the most dams per land area?\")\n",
    "\n",
    "state2.sort_values(by='dams_per_land_area',ascending=False).head()"
   ]
  },
  {
   "cell_type": "code",
   "execution_count": 143,
   "metadata": {},
   "outputs": [
    {
     "data": {
      "text/html": [
       "<div>\n",
       "<style scoped>\n",
       "    .dataframe tbody tr th:only-of-type {\n",
       "        vertical-align: middle;\n",
       "    }\n",
       "\n",
       "    .dataframe tbody tr th {\n",
       "        vertical-align: top;\n",
       "    }\n",
       "\n",
       "    .dataframe thead th {\n",
       "        text-align: right;\n",
       "    }\n",
       "</style>\n",
       "<table border=\"1\" class=\"dataframe\">\n",
       "  <thead>\n",
       "    <tr style=\"text-align: right;\">\n",
       "      <th></th>\n",
       "      <th>STUSPS</th>\n",
       "      <th>EHA_PtID_y</th>\n",
       "      <th>ALAND</th>\n",
       "      <th>AWATER</th>\n",
       "      <th>dams_per_land_area</th>\n",
       "      <th>dams_per_water_area</th>\n",
       "    </tr>\n",
       "  </thead>\n",
       "  <tbody>\n",
       "    <tr>\n",
       "      <th>1680</th>\n",
       "      <td>NH</td>\n",
       "      <td>102</td>\n",
       "      <td>23189413166</td>\n",
       "      <td>1026675248</td>\n",
       "      <td>4.398559e-09</td>\n",
       "      <td>9.934982e-08</td>\n",
       "    </tr>\n",
       "    <tr>\n",
       "      <th>1510</th>\n",
       "      <td>VT</td>\n",
       "      <td>84</td>\n",
       "      <td>23874175944</td>\n",
       "      <td>1030416650</td>\n",
       "      <td>3.518446e-09</td>\n",
       "      <td>8.152042e-08</td>\n",
       "    </tr>\n",
       "    <tr>\n",
       "      <th>1060</th>\n",
       "      <td>CO</td>\n",
       "      <td>91</td>\n",
       "      <td>268422891711</td>\n",
       "      <td>1181621593</td>\n",
       "      <td>3.390173e-10</td>\n",
       "      <td>7.701281e-08</td>\n",
       "    </tr>\n",
       "    <tr>\n",
       "      <th>286</th>\n",
       "      <td>ID</td>\n",
       "      <td>150</td>\n",
       "      <td>214049787659</td>\n",
       "      <td>2391722557</td>\n",
       "      <td>7.007715e-10</td>\n",
       "      <td>6.271630e-08</td>\n",
       "    </tr>\n",
       "    <tr>\n",
       "      <th>111</th>\n",
       "      <td>WV</td>\n",
       "      <td>14</td>\n",
       "      <td>62266474513</td>\n",
       "      <td>489028543</td>\n",
       "      <td>2.248401e-10</td>\n",
       "      <td>2.862819e-08</td>\n",
       "    </tr>\n",
       "  </tbody>\n",
       "</table>\n",
       "</div>"
      ],
      "text/plain": [
       "     STUSPS  EHA_PtID_y         ALAND      AWATER  dams_per_land_area  \\\n",
       "1680     NH         102   23189413166  1026675248        4.398559e-09   \n",
       "1510     VT          84   23874175944  1030416650        3.518446e-09   \n",
       "1060     CO          91  268422891711  1181621593        3.390173e-10   \n",
       "286      ID         150  214049787659  2391722557        7.007715e-10   \n",
       "111      WV          14   62266474513   489028543        2.248401e-10   \n",
       "\n",
       "      dams_per_water_area  \n",
       "1680         9.934982e-08  \n",
       "1510         8.152042e-08  \n",
       "1060         7.701281e-08  \n",
       "286          6.271630e-08  \n",
       "111          2.862819e-08  "
      ]
     },
     "execution_count": 143,
     "metadata": {},
     "output_type": "execute_result"
    },
    {
     "data": {
      "image/png": "[encoded data removed]",
      "text/plain": [
       "<Figure size 432x288 with 1 Axes>"
      ]
     },
     "metadata": {
      "needs_background": "light"
     },
     "output_type": "display_data"
    }
   ],
   "source": [
    "state2.sort_values(by='dams_per_water_area',ascending=False).head(20).plot(kind='bar', x='STUSPS', y='dams_per_water_area').set(title=\"Which states have the most dams per water area?\")\n",
    "\n",
    "state2.sort_values(by='dams_per_water_area',ascending=False).head()"
   ]
  },
  {
   "cell_type": "markdown",
   "metadata": {},
   "source": [
    "2. Explore EIA electricity data from https://www.eia.gov/electricity/data/eia923/"
   ]
  },
  {
   "cell_type": "code",
   "execution_count": 210,
   "metadata": {},
   "outputs": [],
   "source": [
    "eia_df = pd.read_excel(r'EIA-923/EIA923_Schedules_6_7_NU_SourceNDisposition_2019_Early_Release.xlsx',sheet_name='Source_and_disposition')"
   ]
  },
  {
   "cell_type": "code",
   "execution_count": 211,
   "metadata": {},
   "outputs": [],
   "source": [
    "#drop rows0-3\n",
    "eia_df = eia_df.drop([0,1,2,3], axis=0)\n",
    "\n",
    "#make row4 column names\n",
    "eia_df.columns = eia_df.loc[4]\n",
    "eia_df = eia_df.drop([4])"
   ]
  },
  {
   "cell_type": "code",
   "execution_count": 212,
   "metadata": {},
   "outputs": [],
   "source": [
    "cols = ['YEAR', 'Utility ID', 'Utility Name', 'Sector Code', 'Plant Code',\n",
    "       'CHP Plant', 'Plant Name', 'Plant State', 'Gross\\n Generation',\n",
    "       'Incoming\\n Electricity', 'Total Source', 'Station_Use', 'Direct_Use',\n",
    "       'Total\\n Facility Use', 'Retail Sales', 'Sales\\n for Resale',\n",
    "       'Tolling\\n Agreements', 'Outgoing\\n Electricity', 'Total_Disposition',\n",
    "       'Revenue from Resale', 'Types of Incoming\\n Electricity',\n",
    "       'Types of Outgoing\\n Electricity']\n",
    "\n",
    "eia_df = eia_df[cols]"
   ]
  },
  {
   "cell_type": "code",
   "execution_count": 213,
   "metadata": {},
   "outputs": [],
   "source": [
    "#df.loc[df['PtName'] == 'Boulder Canyon Hydro']"
   ]
  },
  {
   "cell_type": "code",
   "execution_count": 221,
   "metadata": {},
   "outputs": [
    {
     "name": "stdout",
     "output_type": "stream",
     "text": [
      "Year <class 'str'>\n",
      "Utility ID <class 'str'>\n",
      "Utility Name <class 'str'>\n",
      "Sector Code <class 'str'>\n",
      "Plant Code <class 'str'>\n",
      "CHP Plant <class 'str'>\n",
      "Plant Name <class 'str'>\n",
      "Plant State <class 'str'>\n",
      "Gross Generation <class 'str'>\n",
      "Incoming Electricity <class 'str'>\n",
      "Total Source <class 'str'>\n",
      "Station_Use <class 'str'>\n",
      "Direct_Use <class 'str'>\n",
      "Total Facility Use <class 'str'>\n",
      "Retail Sales <class 'str'>\n",
      "Sales for Resale <class 'str'>\n",
      "Tolling Agreements <class 'str'>\n",
      "Outgoing Electricity <class 'str'>\n",
      "Total_Disposition <class 'str'>\n",
      "Revenue from Resale <class 'str'>\n",
      "Types of Incoming Electricity <class 'str'>\n",
      "Types of Outgoing Electricity <class 'str'>\n"
     ]
    }
   ],
   "source": [
    "missing_vals = eia_df.columns[eia_df.isnull().any()]\n",
    "for column in eia_df:\n",
    "    print(column, type(column))\n",
    "#     print(eia_df[column].value_counts())\n",
    "#     print(\"missing values: \", eia_df[column].isna().sum())\n",
    "#     print()"
   ]
  },
  {
   "cell_type": "markdown",
   "metadata": {},
   "source": [
    "Notes on eia_df:\n",
    "- a few duplicate Plant Names\n",
    "- everything is string data type\n",
    "- missing values stored as 0s in numeric cols\n",
    "- Types of incoming electricity \"Purchased\" vs \"purchased\" --- not sure if we even care about this col"
   ]
  },
  {
   "cell_type": "code",
   "execution_count": 215,
   "metadata": {},
   "outputs": [],
   "source": [
    "eia_df.columns = ['Year', 'Utility ID', 'Utility Name', 'Sector Code', 'Plant Code',\n",
    "       'CHP Plant', 'Plant Name', 'Plant State', 'Gross Generation',\n",
    "       'Incoming Electricity', 'Total Source', 'Station_Use', 'Direct_Use',\n",
    "       'Total Facility Use', 'Retail Sales', 'Sales for Resale',\n",
    "       'Tolling Agreements', 'Outgoing Electricity', 'Total_Disposition',\n",
    "       'Revenue from Resale', 'Types of Incoming Electricity',\n",
    "       'Types of Outgoing Electricity']\n",
    "numerics = ['Year', 'Gross Generation', 'Incoming Electricity', 'Total Source', 'Station_Use', 'Direct_Use',\n",
    "       'Total Facility Use', 'Retail Sales', 'Sales for Resale', 'Tolling Agreements', 'Outgoing Electricity', \n",
    "        'Total_Disposition', 'Total_Disposition', 'Revenue from Resale']"
   ]
  },
  {
   "cell_type": "code",
   "execution_count": 220,
   "metadata": {},
   "outputs": [],
   "source": [
    "for col in eia_df:\n",
    "    if col in numerics:\n",
    "        eia_df[col] = eia_df[col].replace(\".\", np.nan)\n",
    "        eia_df[col] = eia_df[col].astype(float)"
   ]
  },
  {
   "cell_type": "code",
   "execution_count": 229,
   "metadata": {},
   "outputs": [],
   "source": [
    "#eia_df.describe()"
   ]
  },
  {
   "cell_type": "markdown",
   "metadata": {},
   "source": [
    "### What do these columns mean?"
   ]
  },
  {
   "cell_type": "code",
   "execution_count": 239,
   "metadata": {},
   "outputs": [],
   "source": [
    "eia_descriptions = pd.read_excel(r'EIA-923/EIA923_Schedules_6_7_NU_SourceNDisposition_2019_Early_Release.xlsx',\n",
    "                                 sheet_name='File Layout')"
   ]
  },
  {
   "cell_type": "code",
   "execution_count": 242,
   "metadata": {},
   "outputs": [],
   "source": [
    "eia_descriptions = eia_descriptions.loc[range(7,36)]\n",
    "eia_descriptions.columns = ['colname','description']\n",
    "eia_descriptions = eia_descriptions.set_index('colname')"
   ]
  },
  {
   "cell_type": "code",
   "execution_count": 243,
   "metadata": {},
   "outputs": [
    {
     "data": {
      "text/plain": [
       "'Total Gross Generation reported by the plant (in Megawatthours)'"
      ]
     },
     "execution_count": 243,
     "metadata": {},
     "output_type": "execute_result"
    }
   ],
   "source": [
    "#for explanation of each column:\n",
    "colname = 'Gross Generation'\n",
    "\n",
    "eia_descriptions.loc[colname,'description']"
   ]
  },
  {
   "cell_type": "markdown",
   "metadata": {},
   "source": [
    "## Merge data on the power plants, keeping only the hydroplants"
   ]
  },
  {
   "cell_type": "code",
   "execution_count": 247,
   "metadata": {},
   "outputs": [
    {
     "data": {
      "text/plain": [
       "(2298, 33)"
      ]
     },
     "execution_count": 247,
     "metadata": {},
     "output_type": "execute_result"
    }
   ],
   "source": [
    "df.shape"
   ]
  },
  {
   "cell_type": "code",
   "execution_count": 246,
   "metadata": {},
   "outputs": [
    {
     "data": {
      "text/plain": [
       "(6253, 22)"
      ]
     },
     "execution_count": 246,
     "metadata": {},
     "output_type": "execute_result"
    }
   ],
   "source": [
    "eia_df.shape"
   ]
  },
  {
   "cell_type": "code",
   "execution_count": 260,
   "metadata": {},
   "outputs": [
    {
     "data": {
      "text/plain": [
       "(389, 55)"
      ]
     },
     "execution_count": 260,
     "metadata": {},
     "output_type": "execute_result"
    }
   ],
   "source": [
    "#\"Plant Name\" from eia_df\n",
    "#\"PtName\" from df\n",
    "\n",
    "data = df.merge(eia_df, left_on='PtName', right_on='Plant Name')\n",
    "data.shape"
   ]
  },
  {
   "cell_type": "markdown",
   "metadata": {},
   "source": [
    "we have reduced the number of plants to 389 from 2298\n",
    "- are these the biggest plants?\n",
    "- is this data still usable?"
   ]
  },
  {
   "cell_type": "code",
   "execution_count": 261,
   "metadata": {},
   "outputs": [
    {
     "data": {
      "text/html": [
       "<div>\n",
       "<style scoped>\n",
       "    .dataframe tbody tr th:only-of-type {\n",
       "        vertical-align: middle;\n",
       "    }\n",
       "\n",
       "    .dataframe tbody tr th {\n",
       "        vertical-align: top;\n",
       "    }\n",
       "\n",
       "    .dataframe thead th {\n",
       "        text-align: right;\n",
       "    }\n",
       "</style>\n",
       "<table border=\"1\" class=\"dataframe\">\n",
       "  <thead>\n",
       "    <tr style=\"text-align: right;\">\n",
       "      <th></th>\n",
       "      <th>EHA_PtID</th>\n",
       "      <th>PtName</th>\n",
       "      <th>County</th>\n",
       "      <th>State</th>\n",
       "      <th>Lat</th>\n",
       "      <th>Lon</th>\n",
       "      <th>Pt_Own</th>\n",
       "      <th>OwType</th>\n",
       "      <th>Dam_Own</th>\n",
       "      <th>Type</th>\n",
       "      <th>EIA_PtID</th>\n",
       "      <th>FC_Dock</th>\n",
       "      <th>FcIssue</th>\n",
       "      <th>FcExpire</th>\n",
       "      <th>Mode</th>\n",
       "      <th>Pm_Type</th>\n",
       "      <th>Number_of_Units</th>\n",
       "      <th>CH_MW</th>\n",
       "      <th>CH_MWh</th>\n",
       "      <th>CH_Pf</th>\n",
       "      <th>CH_OpYear</th>\n",
       "      <th>PS_MW</th>\n",
       "      <th>PS_MWh</th>\n",
       "      <th>PS_Pf</th>\n",
       "      <th>PS_OpYear</th>\n",
       "      <th>Water</th>\n",
       "      <th>HUC</th>\n",
       "      <th>NID_ID</th>\n",
       "      <th>ReEDSPCA</th>\n",
       "      <th>NERC</th>\n",
       "      <th>BACode</th>\n",
       "      <th>Sector</th>\n",
       "      <th>Trans</th>\n",
       "      <th>Year</th>\n",
       "      <th>Utility ID</th>\n",
       "      <th>Utility Name</th>\n",
       "      <th>Sector Code</th>\n",
       "      <th>Plant Code</th>\n",
       "      <th>CHP Plant</th>\n",
       "      <th>Plant Name</th>\n",
       "      <th>Plant State</th>\n",
       "      <th>Gross Generation</th>\n",
       "      <th>Incoming Electricity</th>\n",
       "      <th>Total Source</th>\n",
       "      <th>Station_Use</th>\n",
       "      <th>Direct_Use</th>\n",
       "      <th>Total Facility Use</th>\n",
       "      <th>Retail Sales</th>\n",
       "      <th>Sales for Resale</th>\n",
       "      <th>Tolling Agreements</th>\n",
       "      <th>Outgoing Electricity</th>\n",
       "      <th>Total_Disposition</th>\n",
       "      <th>Revenue from Resale</th>\n",
       "      <th>Types of Incoming Electricity</th>\n",
       "      <th>Types of Outgoing Electricity</th>\n",
       "    </tr>\n",
       "  </thead>\n",
       "  <tbody>\n",
       "    <tr>\n",
       "      <th>0</th>\n",
       "      <td>hc0039_p01</td>\n",
       "      <td>Palisades</td>\n",
       "      <td>Bonneville</td>\n",
       "      <td>ID</td>\n",
       "      <td>43.334849</td>\n",
       "      <td>-111.205752</td>\n",
       "      <td>Reclamation Pacific Northwest Region (PN)</td>\n",
       "      <td>Reclamation</td>\n",
       "      <td>Reclamation Pacific Northwest Region (PN)</td>\n",
       "      <td>HY</td>\n",
       "      <td>850</td>\n",
       "      <td>NaN</td>\n",
       "      <td>NaN</td>\n",
       "      <td>NaN</td>\n",
       "      <td>Intermediate Peaking</td>\n",
       "      <td>Reclamation</td>\n",
       "      <td>4.0</td>\n",
       "      <td>176.4</td>\n",
       "      <td>578222.82</td>\n",
       "      <td>37.419031</td>\n",
       "      <td>1957</td>\n",
       "      <td>NaN</td>\n",
       "      <td>NaN</td>\n",
       "      <td>NaN</td>\n",
       "      <td>NaN</td>\n",
       "      <td>Snake River</td>\n",
       "      <td>1704010406</td>\n",
       "      <td>ID00273</td>\n",
       "      <td>16</td>\n",
       "      <td>WECC</td>\n",
       "      <td>BPAT</td>\n",
       "      <td>Electric Utility</td>\n",
       "      <td>Bonneville Power Administration</td>\n",
       "      <td>2019.0</td>\n",
       "      <td>56192</td>\n",
       "      <td>Entergy Nuclear Palisades LLC</td>\n",
       "      <td>2</td>\n",
       "      <td>1715</td>\n",
       "      <td>N</td>\n",
       "      <td>Palisades</td>\n",
       "      <td>MI</td>\n",
       "      <td>7198781.0</td>\n",
       "      <td>4066.0</td>\n",
       "      <td>7202847.0</td>\n",
       "      <td>338414.0</td>\n",
       "      <td>0.0</td>\n",
       "      <td>338414.0</td>\n",
       "      <td>0.0</td>\n",
       "      <td>6864433.0</td>\n",
       "      <td>0.0</td>\n",
       "      <td>0.0</td>\n",
       "      <td>7202847.0</td>\n",
       "      <td>159653.0</td>\n",
       "      <td>From Gris for offline station power</td>\n",
       "      <td>NaN</td>\n",
       "    </tr>\n",
       "    <tr>\n",
       "      <th>1</th>\n",
       "      <td>hc0040_p01</td>\n",
       "      <td>Parker</td>\n",
       "      <td>San Bernardino</td>\n",
       "      <td>CA</td>\n",
       "      <td>34.295334</td>\n",
       "      <td>-114.140222</td>\n",
       "      <td>Reclamation Lower Colorado Region (LC)</td>\n",
       "      <td>Reclamation</td>\n",
       "      <td>Reclamation Lower Colorado Region (LC)</td>\n",
       "      <td>HY</td>\n",
       "      <td>447</td>\n",
       "      <td>NaN</td>\n",
       "      <td>NaN</td>\n",
       "      <td>NaN</td>\n",
       "      <td>Intermediate Peaking</td>\n",
       "      <td>Reclamation</td>\n",
       "      <td>4.0</td>\n",
       "      <td>120.0</td>\n",
       "      <td>444049.29</td>\n",
       "      <td>42.242132</td>\n",
       "      <td>1942</td>\n",
       "      <td>NaN</td>\n",
       "      <td>NaN</td>\n",
       "      <td>NaN</td>\n",
       "      <td>NaN</td>\n",
       "      <td>Colorado River</td>\n",
       "      <td>1503010401</td>\n",
       "      <td>AZ10312</td>\n",
       "      <td>10</td>\n",
       "      <td>WECC</td>\n",
       "      <td>WALC</td>\n",
       "      <td>Electric Utility</td>\n",
       "      <td>WAPA-- Western Area Power Administration</td>\n",
       "      <td>2019.0</td>\n",
       "      <td>12312</td>\n",
       "      <td>Merced Irrigation District</td>\n",
       "      <td>2</td>\n",
       "      <td>428</td>\n",
       "      <td>N</td>\n",
       "      <td>Parker</td>\n",
       "      <td>CA</td>\n",
       "      <td>4340.0</td>\n",
       "      <td>0.0</td>\n",
       "      <td>4340.0</td>\n",
       "      <td>20.0</td>\n",
       "      <td>0.0</td>\n",
       "      <td>20.0</td>\n",
       "      <td>0.0</td>\n",
       "      <td>4320.0</td>\n",
       "      <td>0.0</td>\n",
       "      <td>0.0</td>\n",
       "      <td>4340.0</td>\n",
       "      <td>65.0</td>\n",
       "      <td>NaN</td>\n",
       "      <td>NaN</td>\n",
       "    </tr>\n",
       "    <tr>\n",
       "      <th>2</th>\n",
       "      <td>hc1773_p01</td>\n",
       "      <td>Parker</td>\n",
       "      <td>Merced</td>\n",
       "      <td>CA</td>\n",
       "      <td>37.477900</td>\n",
       "      <td>-120.444400</td>\n",
       "      <td>Merced Irrigation District</td>\n",
       "      <td>Publicly Owned Utility</td>\n",
       "      <td>Merced Irrigation District</td>\n",
       "      <td>HY</td>\n",
       "      <td>428</td>\n",
       "      <td>P-3055</td>\n",
       "      <td>08/13/1980</td>\n",
       "      <td>NaN</td>\n",
       "      <td>Canal/Conduit</td>\n",
       "      <td>FERC Exemption</td>\n",
       "      <td>1.0</td>\n",
       "      <td>2.7</td>\n",
       "      <td>8531.88</td>\n",
       "      <td>36.072552</td>\n",
       "      <td>1982</td>\n",
       "      <td>NaN</td>\n",
       "      <td>NaN</td>\n",
       "      <td>NaN</td>\n",
       "      <td>NaN</td>\n",
       "      <td>Main Merced Irrigation Canal</td>\n",
       "      <td>1804000118</td>\n",
       "      <td>NaN</td>\n",
       "      <td>9</td>\n",
       "      <td>WECC</td>\n",
       "      <td>CISO</td>\n",
       "      <td>IPP Non-CHP</td>\n",
       "      <td>Pacific Gas &amp; Electric Co</td>\n",
       "      <td>2019.0</td>\n",
       "      <td>12312</td>\n",
       "      <td>Merced Irrigation District</td>\n",
       "      <td>2</td>\n",
       "      <td>428</td>\n",
       "      <td>N</td>\n",
       "      <td>Parker</td>\n",
       "      <td>CA</td>\n",
       "      <td>4340.0</td>\n",
       "      <td>0.0</td>\n",
       "      <td>4340.0</td>\n",
       "      <td>20.0</td>\n",
       "      <td>0.0</td>\n",
       "      <td>20.0</td>\n",
       "      <td>0.0</td>\n",
       "      <td>4320.0</td>\n",
       "      <td>0.0</td>\n",
       "      <td>0.0</td>\n",
       "      <td>4340.0</td>\n",
       "      <td>65.0</td>\n",
       "      <td>NaN</td>\n",
       "      <td>NaN</td>\n",
       "    </tr>\n",
       "    <tr>\n",
       "      <th>3</th>\n",
       "      <td>hc0113_p01</td>\n",
       "      <td>New Lahontan</td>\n",
       "      <td>Churchill</td>\n",
       "      <td>NV</td>\n",
       "      <td>39.462900</td>\n",
       "      <td>-119.065800</td>\n",
       "      <td>Truckee-Carson Irrigation District</td>\n",
       "      <td>Publicly Owned Utility</td>\n",
       "      <td>U S Bureau of Reclamation</td>\n",
       "      <td>HY</td>\n",
       "      <td>50261</td>\n",
       "      <td>P-7828</td>\n",
       "      <td>12/21/1985</td>\n",
       "      <td>11/26/2035</td>\n",
       "      <td>NaN</td>\n",
       "      <td>FERC License</td>\n",
       "      <td>1.0</td>\n",
       "      <td>4.0</td>\n",
       "      <td>10682.69</td>\n",
       "      <td>30.487129</td>\n",
       "      <td>1989</td>\n",
       "      <td>NaN</td>\n",
       "      <td>NaN</td>\n",
       "      <td>NaN</td>\n",
       "      <td>NaN</td>\n",
       "      <td>Lahontan Reservoir</td>\n",
       "      <td>1605020309</td>\n",
       "      <td>NV10123</td>\n",
       "      <td>12</td>\n",
       "      <td>WECC</td>\n",
       "      <td>NEVP</td>\n",
       "      <td>IPP Non-CHP</td>\n",
       "      <td>Sierra Pacific Power Co</td>\n",
       "      <td>2019.0</td>\n",
       "      <td>40444</td>\n",
       "      <td>Truckee-Carson Irrigation District</td>\n",
       "      <td>2</td>\n",
       "      <td>50261</td>\n",
       "      <td>N</td>\n",
       "      <td>New Lahontan</td>\n",
       "      <td>NV</td>\n",
       "      <td>15631.0</td>\n",
       "      <td>0.0</td>\n",
       "      <td>15631.0</td>\n",
       "      <td>0.0</td>\n",
       "      <td>0.0</td>\n",
       "      <td>0.0</td>\n",
       "      <td>0.0</td>\n",
       "      <td>15631.0</td>\n",
       "      <td>0.0</td>\n",
       "      <td>0.0</td>\n",
       "      <td>15631.0</td>\n",
       "      <td>636.0</td>\n",
       "      <td>NaN</td>\n",
       "      <td>NaN</td>\n",
       "    </tr>\n",
       "    <tr>\n",
       "      <th>4</th>\n",
       "      <td>hc0113_p02</td>\n",
       "      <td>Lahontan</td>\n",
       "      <td>CHURCHILL</td>\n",
       "      <td>NV</td>\n",
       "      <td>39.462900</td>\n",
       "      <td>-119.065800</td>\n",
       "      <td>Truckee-Carson Irrigation District</td>\n",
       "      <td>Publicly Owned Utility</td>\n",
       "      <td>U S Bureau of Reclamation</td>\n",
       "      <td>HY</td>\n",
       "      <td>6521</td>\n",
       "      <td>NaN</td>\n",
       "      <td>NaN</td>\n",
       "      <td>NaN</td>\n",
       "      <td>NaN</td>\n",
       "      <td>Reclamation Transferred</td>\n",
       "      <td>3.0</td>\n",
       "      <td>1.8</td>\n",
       "      <td>2706.47</td>\n",
       "      <td>17.164320</td>\n",
       "      <td>1911</td>\n",
       "      <td>NaN</td>\n",
       "      <td>NaN</td>\n",
       "      <td>NaN</td>\n",
       "      <td>NaN</td>\n",
       "      <td>Lahontan Reservoir</td>\n",
       "      <td>1605020309</td>\n",
       "      <td>NV10123</td>\n",
       "      <td>12</td>\n",
       "      <td>WECC</td>\n",
       "      <td>NEVP</td>\n",
       "      <td>IPP Non-CHP</td>\n",
       "      <td>Sierra Pacific Power Co</td>\n",
       "      <td>2019.0</td>\n",
       "      <td>40444</td>\n",
       "      <td>Truckee-Carson Irrigation District</td>\n",
       "      <td>2</td>\n",
       "      <td>6521</td>\n",
       "      <td>N</td>\n",
       "      <td>Lahontan</td>\n",
       "      <td>NV</td>\n",
       "      <td>8278.0</td>\n",
       "      <td>0.0</td>\n",
       "      <td>8278.0</td>\n",
       "      <td>0.0</td>\n",
       "      <td>0.0</td>\n",
       "      <td>0.0</td>\n",
       "      <td>0.0</td>\n",
       "      <td>8278.0</td>\n",
       "      <td>0.0</td>\n",
       "      <td>0.0</td>\n",
       "      <td>8278.0</td>\n",
       "      <td>207.0</td>\n",
       "      <td>NaN</td>\n",
       "      <td>NaN</td>\n",
       "    </tr>\n",
       "  </tbody>\n",
       "</table>\n",
       "</div>"
      ],
      "text/plain": [
       "     EHA_PtID        PtName          County State        Lat         Lon  \\\n",
       "0  hc0039_p01     Palisades      Bonneville    ID  43.334849 -111.205752   \n",
       "1  hc0040_p01        Parker  San Bernardino    CA  34.295334 -114.140222   \n",
       "2  hc1773_p01        Parker          Merced    CA  37.477900 -120.444400   \n",
       "3  hc0113_p01  New Lahontan       Churchill    NV  39.462900 -119.065800   \n",
       "4  hc0113_p02      Lahontan       CHURCHILL    NV  39.462900 -119.065800   \n",
       "\n",
       "                                      Pt_Own                  OwType  \\\n",
       "0  Reclamation Pacific Northwest Region (PN)             Reclamation   \n",
       "1     Reclamation Lower Colorado Region (LC)             Reclamation   \n",
       "2                 Merced Irrigation District  Publicly Owned Utility   \n",
       "3         Truckee-Carson Irrigation District  Publicly Owned Utility   \n",
       "4         Truckee-Carson Irrigation District  Publicly Owned Utility   \n",
       "\n",
       "                                     Dam_Own Type EIA_PtID FC_Dock  \\\n",
       "0  Reclamation Pacific Northwest Region (PN)   HY      850     NaN   \n",
       "1     Reclamation Lower Colorado Region (LC)   HY      447     NaN   \n",
       "2                 Merced Irrigation District   HY      428  P-3055   \n",
       "3                  U S Bureau of Reclamation   HY    50261  P-7828   \n",
       "4                  U S Bureau of Reclamation   HY     6521     NaN   \n",
       "\n",
       "      FcIssue    FcExpire                  Mode                  Pm_Type  \\\n",
       "0         NaN         NaN  Intermediate Peaking              Reclamation   \n",
       "1         NaN         NaN  Intermediate Peaking              Reclamation   \n",
       "2  08/13/1980         NaN         Canal/Conduit           FERC Exemption   \n",
       "3  12/21/1985  11/26/2035                   NaN             FERC License   \n",
       "4         NaN         NaN                   NaN  Reclamation Transferred   \n",
       "\n",
       "   Number_of_Units  CH_MW     CH_MWh      CH_Pf CH_OpYear  PS_MW  PS_MWh  \\\n",
       "0              4.0  176.4  578222.82  37.419031      1957    NaN     NaN   \n",
       "1              4.0  120.0  444049.29  42.242132      1942    NaN     NaN   \n",
       "2              1.0    2.7    8531.88  36.072552      1982    NaN     NaN   \n",
       "3              1.0    4.0   10682.69  30.487129      1989    NaN     NaN   \n",
       "4              3.0    1.8    2706.47  17.164320      1911    NaN     NaN   \n",
       "\n",
       "   PS_Pf PS_OpYear                         Water         HUC   NID_ID  \\\n",
       "0    NaN       NaN                   Snake River  1704010406  ID00273   \n",
       "1    NaN       NaN                Colorado River  1503010401  AZ10312   \n",
       "2    NaN       NaN  Main Merced Irrigation Canal  1804000118      NaN   \n",
       "3    NaN       NaN            Lahontan Reservoir  1605020309  NV10123   \n",
       "4    NaN       NaN            Lahontan Reservoir  1605020309  NV10123   \n",
       "\n",
       "  ReEDSPCA  NERC BACode            Sector  \\\n",
       "0       16  WECC   BPAT  Electric Utility   \n",
       "1       10  WECC   WALC  Electric Utility   \n",
       "2        9  WECC   CISO       IPP Non-CHP   \n",
       "3       12  WECC   NEVP       IPP Non-CHP   \n",
       "4       12  WECC   NEVP       IPP Non-CHP   \n",
       "\n",
       "                                      Trans    Year Utility ID  \\\n",
       "0           Bonneville Power Administration  2019.0      56192   \n",
       "1  WAPA-- Western Area Power Administration  2019.0      12312   \n",
       "2                 Pacific Gas & Electric Co  2019.0      12312   \n",
       "3                   Sierra Pacific Power Co  2019.0      40444   \n",
       "4                   Sierra Pacific Power Co  2019.0      40444   \n",
       "\n",
       "                         Utility Name Sector Code Plant Code CHP Plant  \\\n",
       "0       Entergy Nuclear Palisades LLC           2       1715         N   \n",
       "1          Merced Irrigation District           2        428         N   \n",
       "2          Merced Irrigation District           2        428         N   \n",
       "3  Truckee-Carson Irrigation District           2      50261         N   \n",
       "4  Truckee-Carson Irrigation District           2       6521         N   \n",
       "\n",
       "     Plant Name Plant State  Gross Generation  Incoming Electricity  \\\n",
       "0     Palisades          MI         7198781.0                4066.0   \n",
       "1        Parker          CA            4340.0                   0.0   \n",
       "2        Parker          CA            4340.0                   0.0   \n",
       "3  New Lahontan          NV           15631.0                   0.0   \n",
       "4      Lahontan          NV            8278.0                   0.0   \n",
       "\n",
       "   Total Source  Station_Use  Direct_Use  Total Facility Use  Retail Sales  \\\n",
       "0     7202847.0     338414.0         0.0            338414.0           0.0   \n",
       "1        4340.0         20.0         0.0                20.0           0.0   \n",
       "2        4340.0         20.0         0.0                20.0           0.0   \n",
       "3       15631.0          0.0         0.0                 0.0           0.0   \n",
       "4        8278.0          0.0         0.0                 0.0           0.0   \n",
       "\n",
       "   Sales for Resale  Tolling Agreements  Outgoing Electricity  \\\n",
       "0         6864433.0                 0.0                   0.0   \n",
       "1            4320.0                 0.0                   0.0   \n",
       "2            4320.0                 0.0                   0.0   \n",
       "3           15631.0                 0.0                   0.0   \n",
       "4            8278.0                 0.0                   0.0   \n",
       "\n",
       "   Total_Disposition  Revenue from Resale  \\\n",
       "0          7202847.0             159653.0   \n",
       "1             4340.0                 65.0   \n",
       "2             4340.0                 65.0   \n",
       "3            15631.0                636.0   \n",
       "4             8278.0                207.0   \n",
       "\n",
       "         Types of Incoming Electricity Types of Outgoing Electricity  \n",
       "0  From Gris for offline station power                           NaN  \n",
       "1                                  NaN                           NaN  \n",
       "2                                  NaN                           NaN  \n",
       "3                                  NaN                           NaN  \n",
       "4                                  NaN                           NaN  "
      ]
     },
     "execution_count": 261,
     "metadata": {},
     "output_type": "execute_result"
    }
   ],
   "source": [
    "pd.set_option('max_columns', None)\n",
    "data.head()"
   ]
  },
  {
   "cell_type": "code",
   "execution_count": 264,
   "metadata": {},
   "outputs": [],
   "source": [
    "data.to_csv('USA_hydro_2019_production.csv')"
   ]
  }
 ],
 "metadata": {
  "kernelspec": {
   "display_name": "Python 3",
   "language": "python",
   "name": "python3"
  },
  "language_info": {
   "codemirror_mode": {
    "name": "ipython",
    "version": 3
   },
   "file_extension": ".py",
   "mimetype": "text/x-python",
   "name": "python",
   "nbconvert_exporter": "python",
   "pygments_lexer": "ipython3",
   "version": "3.7.6"
  }
 },
 "nbformat": 4,
 "nbformat_minor": 4
}
