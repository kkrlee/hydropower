{
 "cells": [
  {
   "cell_type": "code",
   "execution_count": 376,
   "metadata": {},
   "outputs": [],
   "source": [
    "%matplotlib inline\n",
    "import matplotlib.pyplot as plt\n",
    "import numpy as np\n",
    "import pandas as pd"
   ]
  },
  {
   "cell_type": "code",
   "execution_count": 377,
   "metadata": {},
   "outputs": [],
   "source": [
    "#df = pd.read_csv('../elena/barros_2011_training.csv')\n",
    "df = pd.read_csv('../data/training_final_latcorr.csv')"
   ]
  },
  {
   "cell_type": "markdown",
   "metadata": {},
   "source": [
    "## Clean / Reverse Engineer Features\n",
    "- Electricity generated (kWh)\n",
    "- Drop redundant columns\n",
    "- Drop non-lc columns"
   ]
  },
  {
   "cell_type": "code",
   "execution_count": 378,
   "metadata": {},
   "outputs": [],
   "source": [
    "df['kWh'] = df['Area_km2'] / df['Area / Electricity']\n",
    "df = df.drop(['Longitude', 'Latitude','CO2 (g/kWh)', 'CH4 (g/kWh)', 'Area / Electricity', 'Name', 'field_1',\n",
    "              'temp_spring_avg', 'temp_summer_avg', 'temp_fall_avg', 'temp_winter_avg', \n",
    "              'NDVI_spring_avg', 'NDVI_summer_avg', 'NDVI_fall_avg', 'NDVI_winter_avg', \n",
    "              'npp_spring_avg' , 'npp_summer_avg' , 'npp_fall_avg' , 'npp_winter_avg'], axis=1)"
   ]
  },
  {
   "cell_type": "code",
   "execution_count": 379,
   "metadata": {},
   "outputs": [
    {
     "data": {
      "text/plain": [
       "Index(['CO2 (mg C m¯² d¯¹)', 'CH4 (mg C m-2 d-1)', 'Area_km2', 'Age',\n",
       "       'Volume_km3', 'Areakm2_div_Volkm3', 'org_c', 'temp_annual_avg',\n",
       "       'temp_spring_avg_lc', 'temp_summer_avg_lc', 'temp_fall_avg_lc',\n",
       "       'temp_winter_avg_lc', 'NDVI_annual_avg', 'NDVI_spring_avg_lc',\n",
       "       'NDVI_summer_avg_lc', 'NDVI_fall_avg_lc', 'NDVI_winter_avg_lc',\n",
       "       'npp_annual_avg', 'npp_spring_avg_lc', 'npp_summer_avg_lc',\n",
       "       'npp_fall_avg_lc', 'npp_winter_avg_lc', 'erosion', 'precip', 'kWh'],\n",
       "      dtype='object')"
      ]
     },
     "execution_count": 379,
     "metadata": {},
     "output_type": "execute_result"
    }
   ],
   "source": [
    "df.columns"
   ]
  },
  {
   "cell_type": "code",
   "execution_count": 380,
   "metadata": {},
   "outputs": [
    {
     "data": {
      "text/plain": [
       "(154, 25)"
      ]
     },
     "execution_count": 380,
     "metadata": {},
     "output_type": "execute_result"
    }
   ],
   "source": [
    "df.shape"
   ]
  },
  {
   "cell_type": "code",
   "execution_count": null,
   "metadata": {},
   "outputs": [],
   "source": [
    "#create co2 df"
   ]
  },
  {
   "cell_type": "code",
   "execution_count": 381,
   "metadata": {},
   "outputs": [],
   "source": [
    "co2 = df.drop(['CH4 (mg C m-2 d-1)'], axis=1)\n",
    "co2 = co2[co2['CO2 (mg C m¯² d¯¹)'].notna()]"
   ]
  },
  {
   "cell_type": "markdown",
   "metadata": {},
   "source": [
    "## XGBoost"
   ]
  },
  {
   "cell_type": "code",
   "execution_count": 382,
   "metadata": {},
   "outputs": [],
   "source": [
    "X = co2.drop('CO2 (mg C m¯² d¯¹)', axis=1)\n",
    "Y = co2['CO2 (mg C m¯² d¯¹)']\n",
    "\n",
    "from sklearn.model_selection import train_test_split\n",
    "\n",
    "x_train, x_test, y_train, y_test = train_test_split(X, Y, test_size=0.2, random_state=42)\n",
    "\n",
    "x_train, x_val, y_train, y_val = train_test_split(x_train, y_train, test_size=0.25, random_state=42)"
   ]
  },
  {
   "cell_type": "code",
   "execution_count": 383,
   "metadata": {},
   "outputs": [],
   "source": [
    "import xgboost"
   ]
  },
  {
   "cell_type": "code",
   "execution_count": 384,
   "metadata": {},
   "outputs": [],
   "source": [
    "xgb_reg = xgboost.XGBRegressor()\n",
    "xgb_reg.fit(x_train, y_train)\n",
    "y_predict = xgb_reg.predict(x_train)"
   ]
  },
  {
   "cell_type": "code",
   "execution_count": 385,
   "metadata": {},
   "outputs": [
    {
     "name": "stdout",
     "output_type": "stream",
     "text": [
      "train r2: 0.9896469776668645\n",
      "test r2 : 0.01328621286666476\n"
     ]
    }
   ],
   "source": [
    "print('train r2:', xgb_reg.score(x_train, y_train))\n",
    "print('test r2 :', xgb_reg.score(x_test, y_test))"
   ]
  },
  {
   "cell_type": "code",
   "execution_count": 386,
   "metadata": {},
   "outputs": [
    {
     "name": "stdout",
     "output_type": "stream",
     "text": [
      "[0]\tvalidation_0-rmse:721.16870\n",
      "Will train until validation_0-rmse hasn't improved in 2 rounds.\n",
      "[1]\tvalidation_0-rmse:583.60352\n",
      "[2]\tvalidation_0-rmse:507.99374\n",
      "[3]\tvalidation_0-rmse:457.99149\n",
      "[4]\tvalidation_0-rmse:432.10147\n",
      "[5]\tvalidation_0-rmse:425.71744\n",
      "[6]\tvalidation_0-rmse:422.58069\n",
      "[7]\tvalidation_0-rmse:418.34064\n",
      "[8]\tvalidation_0-rmse:419.13281\n",
      "[9]\tvalidation_0-rmse:426.50302\n",
      "Stopping. Best iteration:\n",
      "[7]\tvalidation_0-rmse:418.34064\n",
      "\n"
     ]
    },
    {
     "data": {
      "text/plain": [
       "XGBRegressor(base_score=0.5, booster='gbtree', colsample_bylevel=1,\n",
       "             colsample_bynode=1, colsample_bytree=1, gamma=0, gpu_id=-1,\n",
       "             importance_type='gain', interaction_constraints='',\n",
       "             learning_rate=0.300000012, max_delta_step=0, max_depth=6,\n",
       "             min_child_weight=1, missing=nan, monotone_constraints='()',\n",
       "             n_estimators=100, n_jobs=0, num_parallel_tree=1,\n",
       "             objective='reg:squarederror', random_state=0, reg_alpha=0,\n",
       "             reg_lambda=1, scale_pos_weight=1, subsample=1, tree_method='exact',\n",
       "             validate_parameters=1, verbosity=None)"
      ]
     },
     "execution_count": 386,
     "metadata": {},
     "output_type": "execute_result"
    }
   ],
   "source": [
    "xgb_reg.fit(x_train, y_train,\n",
    "           eval_set=[(x_val, y_val)], early_stopping_rounds=2)"
   ]
  },
  {
   "cell_type": "code",
   "execution_count": 387,
   "metadata": {},
   "outputs": [
    {
     "name": "stdout",
     "output_type": "stream",
     "text": [
      "train r2: 0.9300556201415878\n",
      "test r2 : 0.29784523488377146\n"
     ]
    }
   ],
   "source": [
    "print('train r2:', xgb_reg.score(x_train, y_train))\n",
    "print('test r2 :', xgb_reg.score(x_test, y_test))"
   ]
  },
  {
   "cell_type": "code",
   "execution_count": 388,
   "metadata": {
    "scrolled": true
   },
   "outputs": [
    {
     "data": {
      "text/plain": [
       "<matplotlib.axes._subplots.AxesSubplot at 0x7f96bd447d10>"
      ]
     },
     "execution_count": 388,
     "metadata": {},
     "output_type": "execute_result"
    },
    {
     "data": {
      "image/png": "[encoded data removed]",
      "text/plain": [
       "<Figure size 432x288 with 1 Axes>"
      ]
     },
     "metadata": {
      "needs_background": "light"
     },
     "output_type": "display_data"
    }
   ],
   "source": [
    "# list(zip(x_train.columns, xgb_reg.feature_importances_))\n",
    "pd.DataFrame(index=x_train.columns, data=xgb_reg.feature_importances_*100, columns=['Importance']).sort_values(by='Importance', ascending=False).head(10).plot(kind='barh')\n",
    "\n"
   ]
  },
  {
   "cell_type": "markdown",
   "metadata": {},
   "source": [
    "#### comparing predictions to actual values\n",
    "- are there patterns we can see where residuals are low or high?"
   ]
  },
  {
   "cell_type": "code",
   "execution_count": 242,
   "metadata": {},
   "outputs": [],
   "source": [
    "predictions = pd.DataFrame(columns=['actual','predicted'], data=list(zip(y_test, xgb_reg.predict(x_test))))"
   ]
  },
  {
   "cell_type": "code",
   "execution_count": 243,
   "metadata": {},
   "outputs": [],
   "source": [
    "comparing = x_test.copy().reset_index().drop(['index'], axis=1)\n",
    "comparing['actual'] = predictions['actual']\n",
    "comparing['predicted'] = predictions['predicted']"
   ]
  },
  {
   "cell_type": "markdown",
   "metadata": {},
   "source": [
    "### scaling values"
   ]
  },
  {
   "cell_type": "code",
   "execution_count": 389,
   "metadata": {},
   "outputs": [],
   "source": [
    "from sklearn.preprocessing import StandardScaler\n",
    "\n",
    "data = co2.copy()\n",
    "scaler = StandardScaler()\n",
    "co2_scaled = pd.DataFrame(scaler.fit_transform(data),columns=co2.columns)"
   ]
  },
  {
   "cell_type": "code",
   "execution_count": 390,
   "metadata": {},
   "outputs": [],
   "source": [
    "X = co2_scaled.drop('CO2 (mg C m¯² d¯¹)', axis=1)\n",
    "Y = co2['CO2 (mg C m¯² d¯¹)']\n",
    "\n",
    "from sklearn.model_selection import train_test_split\n",
    "\n",
    "x_train, x_test, y_train, y_test = train_test_split(X, Y, test_size=0.2, random_state=42)\n",
    "\n",
    "x_train, x_val, y_train, y_val = train_test_split(x_train, y_train, test_size=0.2, random_state=42)"
   ]
  },
  {
   "cell_type": "code",
   "execution_count": 391,
   "metadata": {},
   "outputs": [
    {
     "name": "stdout",
     "output_type": "stream",
     "text": [
      "[0]\tvalidation_0-rmse:773.44659\n",
      "Will train until validation_0-rmse hasn't improved in 5 rounds.\n",
      "[1]\tvalidation_0-rmse:636.62592\n",
      "[2]\tvalidation_0-rmse:555.69629\n",
      "[3]\tvalidation_0-rmse:531.17535\n",
      "[4]\tvalidation_0-rmse:513.17163\n",
      "[5]\tvalidation_0-rmse:500.26703\n",
      "[6]\tvalidation_0-rmse:486.00000\n",
      "[7]\tvalidation_0-rmse:476.97626\n",
      "[8]\tvalidation_0-rmse:474.36438\n",
      "[9]\tvalidation_0-rmse:474.52478\n",
      "[10]\tvalidation_0-rmse:475.64081\n",
      "[11]\tvalidation_0-rmse:476.98248\n",
      "[12]\tvalidation_0-rmse:479.71167\n",
      "[13]\tvalidation_0-rmse:479.70795\n",
      "Stopping. Best iteration:\n",
      "[8]\tvalidation_0-rmse:474.36438\n",
      "\n"
     ]
    },
    {
     "data": {
      "text/plain": [
       "XGBRegressor(base_score=0.5, booster='gbtree', colsample_bylevel=1,\n",
       "             colsample_bynode=1, colsample_bytree=1, gamma=0, gpu_id=-1,\n",
       "             importance_type='gain', interaction_constraints='',\n",
       "             learning_rate=0.300000012, max_delta_step=0, max_depth=6,\n",
       "             min_child_weight=1, missing=nan, monotone_constraints='()',\n",
       "             n_estimators=100, n_jobs=0, num_parallel_tree=1,\n",
       "             objective='reg:squarederror', random_state=0, reg_alpha=0,\n",
       "             reg_lambda=1, scale_pos_weight=1, subsample=1, tree_method='exact',\n",
       "             validate_parameters=1, verbosity=None)"
      ]
     },
     "execution_count": 391,
     "metadata": {},
     "output_type": "execute_result"
    }
   ],
   "source": [
    "xgb_reg2 = xgboost.XGBRegressor()\n",
    "xgb_reg2.fit(x_train, y_train, \n",
    "             eval_set=[(x_val, y_val)], \n",
    "             early_stopping_rounds=5)"
   ]
  },
  {
   "cell_type": "code",
   "execution_count": 392,
   "metadata": {},
   "outputs": [
    {
     "name": "stdout",
     "output_type": "stream",
     "text": [
      "train r2: 0.9468081292370588\n",
      "test  r2: 0.4443317645867686\n"
     ]
    }
   ],
   "source": [
    "print('train r2:', xgb_reg2.score(x_train, y_train))\n",
    "print('test  r2:', xgb_reg2.score(x_test, y_test))"
   ]
  },
  {
   "cell_type": "code",
   "execution_count": 393,
   "metadata": {},
   "outputs": [
    {
     "data": {
      "text/plain": [
       "<matplotlib.axes._subplots.AxesSubplot at 0x7f96bc0b4d10>"
      ]
     },
     "execution_count": 393,
     "metadata": {},
     "output_type": "execute_result"
    },
    {
     "data": {
      "image/png": "[encoded data removed]",
      "text/plain": [
       "<Figure size 432x288 with 1 Axes>"
      ]
     },
     "metadata": {
      "needs_background": "light"
     },
     "output_type": "display_data"
    }
   ],
   "source": [
    "pd.DataFrame(index=x_train.columns, data=xgb_reg2.feature_importances_*100, columns=['Importance']).sort_values(by='Importance', ascending=False).head(10).plot(kind='barh')"
   ]
  },
  {
   "cell_type": "markdown",
   "metadata": {},
   "source": [
    "## grid search"
   ]
  },
  {
   "cell_type": "code",
   "execution_count": 263,
   "metadata": {},
   "outputs": [
    {
     "name": "stdout",
     "output_type": "stream",
     "text": [
      "CPU times: user 3.92 s, sys: 81 ms, total: 4 s\n",
      "Wall time: 16.2 s\n"
     ]
    },
    {
     "data": {
      "text/plain": [
       "GridSearchCV(cv=2, error_score=nan,\n",
       "             estimator=XGBRegressor(base_score=0.5, booster='gbtree',\n",
       "                                    colsample_bylevel=1, colsample_bynode=1,\n",
       "                                    colsample_bytree=1, gamma=0, gpu_id=-1,\n",
       "                                    importance_type='gain',\n",
       "                                    interaction_constraints='',\n",
       "                                    learning_rate=0.300000012, max_delta_step=0,\n",
       "                                    max_depth=6, min_child_weight=1,\n",
       "                                    missing=nan, monotone_constraints='()',\n",
       "                                    n_estimators=100, n_jobs...\n",
       "                                    tree_method='exact', validate_parameters=1,\n",
       "                                    verbosity=None),\n",
       "             iid='deprecated', n_jobs=-1,\n",
       "             param_grid={'learning_rate': array([0.001     , 0.05644444, 0.11188889, 0.16733333, 0.22277778,\n",
       "       0.27822222, 0.33366667, 0.38911111, 0.44455556, 0.5       ]),\n",
       "                         'max_depth': range(1, 11),\n",
       "                         'n_estimators': range(0, 100, 10)},\n",
       "             pre_dispatch='2*n_jobs', refit=True, return_train_score=False,\n",
       "             scoring='r2', verbose=0)"
      ]
     },
     "execution_count": 263,
     "metadata": {},
     "output_type": "execute_result"
    }
   ],
   "source": [
    "from sklearn.model_selection import GridSearchCV\n",
    "\n",
    "grid_values = {\n",
    "    \"n_estimators\": range(0,100,10),\n",
    "    \"learning_rate\" : np.linspace(.001,.5,10),\n",
    "    \"max_depth\" : range(1,11)\n",
    "}\n",
    "\n",
    "grid_search_xgb = GridSearchCV(xgb_reg2, grid_values, scoring='r2', cv=2, n_jobs=-1)\n",
    "%time grid_search_xgb.fit(x_train, y_train)"
   ]
  },
  {
   "cell_type": "code",
   "execution_count": 394,
   "metadata": {},
   "outputs": [
    {
     "data": {
      "text/plain": [
       "{'learning_rate': 0.2782222222222222, 'max_depth': 2, 'n_estimators': 10}"
      ]
     },
     "execution_count": 394,
     "metadata": {},
     "output_type": "execute_result"
    }
   ],
   "source": [
    "grid_search_xgb.best_params_"
   ]
  },
  {
   "cell_type": "code",
   "execution_count": 395,
   "metadata": {},
   "outputs": [
    {
     "data": {
      "text/plain": [
       "0.3116559366290087"
      ]
     },
     "execution_count": 395,
     "metadata": {},
     "output_type": "execute_result"
    }
   ],
   "source": [
    "grid_search_xgb.best_score_"
   ]
  },
  {
   "cell_type": "code",
   "execution_count": 396,
   "metadata": {},
   "outputs": [
    {
     "name": "stdout",
     "output_type": "stream",
     "text": [
      "[0]\tvalidation_0-rmse:796.10706\n",
      "Will train until validation_0-rmse hasn't improved in 10 rounds.\n",
      "[1]\tvalidation_0-rmse:674.35614\n",
      "[2]\tvalidation_0-rmse:588.64453\n",
      "[3]\tvalidation_0-rmse:557.90723\n",
      "[4]\tvalidation_0-rmse:549.00391\n",
      "[5]\tvalidation_0-rmse:526.26422\n",
      "[6]\tvalidation_0-rmse:523.37030\n",
      "[7]\tvalidation_0-rmse:509.99744\n",
      "[8]\tvalidation_0-rmse:501.52414\n",
      "[9]\tvalidation_0-rmse:504.21951\n",
      "\n",
      "train r2: 0.7207922231108306\n",
      "test  r2: 0.3922345049279864\n"
     ]
    }
   ],
   "source": [
    "xgb_best = xgboost.XGBRegressor(learning_rate=.2782, n_estimators=10, max_depth=2)\n",
    "xgb_best.fit(x_train, y_train, \n",
    "             eval_set=[(x_val, y_val)], \n",
    "             early_stopping_rounds=10)\n",
    "\n",
    "print('')\n",
    "print('train r2:', xgb_best.score(x_train, y_train))\n",
    "print('test  r2:', xgb_best.score(x_test, y_test))"
   ]
  },
  {
   "cell_type": "code",
   "execution_count": 397,
   "metadata": {},
   "outputs": [
    {
     "data": {
      "text/plain": [
       "<matplotlib.axes._subplots.AxesSubplot at 0x7f96bc197110>"
      ]
     },
     "execution_count": 397,
     "metadata": {},
     "output_type": "execute_result"
    },
    {
     "data": {
      "image/png": "[encoded data removed]",
      "text/plain": [
       "<Figure size 432x288 with 1 Axes>"
      ]
     },
     "metadata": {
      "needs_background": "light"
     },
     "output_type": "display_data"
    }
   ],
   "source": [
    "pd.DataFrame(index=x_train.columns, data=xgb_best.feature_importances_*100, columns=['Importance']).sort_values(by='Importance', ascending=False).head(10).plot(kind='barh')\n"
   ]
  },
  {
   "cell_type": "code",
   "execution_count": 398,
   "metadata": {},
   "outputs": [],
   "source": [
    "predictions = pd.DataFrame(columns=['actual','predicted'], data=list(zip(y_test, xgb_reg.predict(x_test))))\n",
    "\n",
    "comparing = x_test.copy().reset_index().drop(['index'], axis=1)\n",
    "comparing['actual'] = predictions['actual']\n",
    "comparing['predicted'] = predictions['predicted']\n",
    "comparing['error'] = abs(comparing['actual'] - comparing['predicted'])/comparing['actual']"
   ]
  },
  {
   "cell_type": "code",
   "execution_count": 399,
   "metadata": {},
   "outputs": [
    {
     "data": {
      "text/plain": [
       "<matplotlib.axes._subplots.AxesSubplot at 0x7f96bc21bed0>"
      ]
     },
     "execution_count": 399,
     "metadata": {},
     "output_type": "execute_result"
    },
    {
     "data": {
      "image/png": "[encoded data removed]",
      "text/plain": [
       "<Figure size 432x288 with 2 Axes>"
      ]
     },
     "metadata": {
      "needs_background": "light"
     },
     "output_type": "display_data"
    }
   ],
   "source": [
    "import seaborn as sns\n",
    "\n",
    "pd.options.display.max_rows = None\n",
    "pd.options.display.max_columns = None\n",
    "\n",
    "sns.heatmap(comparing.sort_values(by='error', ascending=False).drop(['actual','predicted'],axis=1))"
   ]
  },
  {
   "cell_type": "code",
   "execution_count": null,
   "metadata": {},
   "outputs": [],
   "source": [
    "##try with imputing NaNs in the train set:"
   ]
  },
  {
   "cell_type": "code",
   "execution_count": 400,
   "metadata": {
    "collapsed": true
   },
   "outputs": [
    {
     "name": "stdout",
     "output_type": "stream",
     "text": [
      "Area_km2 : 0\n",
      "Age : 0\n",
      "Volume_km3 : 0\n",
      "Areakm2_div_Volkm3 : 0\n",
      "org_c : 0\n",
      "temp_annual_avg : 0\n",
      "temp_spring_avg_lc : 0\n",
      "temp_summer_avg_lc : 0\n",
      "temp_fall_avg_lc : 0\n",
      "temp_winter_avg_lc : 0\n",
      "NDVI_annual_avg : 0\n",
      "NDVI_spring_avg_lc : 0\n",
      "NDVI_summer_avg_lc : 0\n",
      "NDVI_fall_avg_lc : 0\n",
      "NDVI_winter_avg_lc : 0\n",
      "npp_annual_avg : 0\n",
      "npp_spring_avg_lc : 0\n",
      "npp_summer_avg_lc : 0\n",
      "npp_fall_avg_lc : 0\n",
      "npp_winter_avg_lc : 0\n",
      "erosion : 0\n",
      "precip : 0\n",
      "kWh : 0\n"
     ]
    }
   ],
   "source": [
    "from sklearn.impute import KNNImputer\n",
    "model_impute = KNNImputer(n_neighbors=int(np.sqrt(x_train.shape[0])))\n",
    "x_train_imputed = model_impute.fit_transform(x_train)\n",
    "\n",
    "x_train_imputed = pd.DataFrame(columns=x_train.columns, data=x_train_imputed)\n",
    "\n",
    "#check\n",
    "for column in x_train:\n",
    "    print(column, ':',  x_train_imputed[column].isna().sum())"
   ]
  },
  {
   "cell_type": "code",
   "execution_count": 401,
   "metadata": {},
   "outputs": [
    {
     "name": "stdout",
     "output_type": "stream",
     "text": [
      "[0]\tvalidation_0-rmse:772.04333\n",
      "Will train until validation_0-rmse hasn't improved in 5 rounds.\n",
      "[1]\tvalidation_0-rmse:630.87427\n",
      "[2]\tvalidation_0-rmse:582.48187\n",
      "[3]\tvalidation_0-rmse:531.15790\n",
      "[4]\tvalidation_0-rmse:498.47775\n",
      "[5]\tvalidation_0-rmse:474.54703\n",
      "[6]\tvalidation_0-rmse:477.85489\n",
      "[7]\tvalidation_0-rmse:468.29495\n",
      "[8]\tvalidation_0-rmse:468.35754\n",
      "[9]\tvalidation_0-rmse:469.05930\n",
      "[10]\tvalidation_0-rmse:470.20474\n",
      "[11]\tvalidation_0-rmse:471.00882\n",
      "[12]\tvalidation_0-rmse:470.31238\n",
      "Stopping. Best iteration:\n",
      "[7]\tvalidation_0-rmse:468.29495\n",
      "\n"
     ]
    },
    {
     "data": {
      "text/plain": [
       "XGBRegressor(base_score=0.5, booster='gbtree', colsample_bylevel=1,\n",
       "             colsample_bynode=1, colsample_bytree=1, gamma=0, gpu_id=-1,\n",
       "             importance_type='gain', interaction_constraints='',\n",
       "             learning_rate=0.300000012, max_delta_step=0, max_depth=6,\n",
       "             min_child_weight=1, missing=nan, monotone_constraints='()',\n",
       "             n_estimators=100, n_jobs=0, num_parallel_tree=1,\n",
       "             objective='reg:squarederror', random_state=0, reg_alpha=0,\n",
       "             reg_lambda=1, scale_pos_weight=1, subsample=1, tree_method='exact',\n",
       "             validate_parameters=1, verbosity=None)"
      ]
     },
     "execution_count": 401,
     "metadata": {},
     "output_type": "execute_result"
    }
   ],
   "source": [
    "xgb_reg_imputed = xgboost.XGBRegressor()\n",
    "xgb_reg_imputed.fit(x_train_imputed, y_train, \n",
    "             eval_set=[(x_val, y_val)], \n",
    "             early_stopping_rounds=5)"
   ]
  },
  {
   "cell_type": "code",
   "execution_count": 402,
   "metadata": {},
   "outputs": [
    {
     "name": "stdout",
     "output_type": "stream",
     "text": [
      "train r2: 0.9115157401373564\n",
      "test  r2: 0.4565385091077107\n"
     ]
    }
   ],
   "source": [
    "print('train r2:', xgb_reg_imputed.score(x_train, y_train))\n",
    "print('test  r2:', xgb_reg_imputed.score(x_test, y_test))"
   ]
  },
  {
   "cell_type": "code",
   "execution_count": 403,
   "metadata": {},
   "outputs": [
    {
     "data": {
      "text/plain": [
       "<matplotlib.axes._subplots.AxesSubplot at 0x7f96be08b8d0>"
      ]
     },
     "execution_count": 403,
     "metadata": {},
     "output_type": "execute_result"
    },
    {
     "data": {
      "image/png": "[encoded data removed]",
      "text/plain": [
       "<Figure size 432x288 with 1 Axes>"
      ]
     },
     "metadata": {
      "needs_background": "light"
     },
     "output_type": "display_data"
    }
   ],
   "source": [
    "pd.DataFrame(index=x_train.columns, data=xgb_reg_imputed.feature_importances_*100, columns=['Importance']).sort_values(by='Importance', ascending=False).head(10).plot(kind='barh')\n"
   ]
  },
  {
   "cell_type": "code",
   "execution_count": 306,
   "metadata": {},
   "outputs": [
    {
     "name": "stdout",
     "output_type": "stream",
     "text": [
      "CPU times: user 4.2 s, sys: 168 ms, total: 4.37 s\n",
      "Wall time: 25.1 s\n"
     ]
    },
    {
     "data": {
      "text/plain": [
       "GridSearchCV(cv=2, error_score=nan,\n",
       "             estimator=XGBRegressor(base_score=0.5, booster='gbtree',\n",
       "                                    colsample_bylevel=1, colsample_bynode=1,\n",
       "                                    colsample_bytree=1, gamma=0, gpu_id=-1,\n",
       "                                    importance_type='gain',\n",
       "                                    interaction_constraints='',\n",
       "                                    learning_rate=0.300000012, max_delta_step=0,\n",
       "                                    max_depth=6, min_child_weight=1,\n",
       "                                    missing=nan, monotone_constraints='()',\n",
       "                                    n_estimators=100, n_jobs...\n",
       "                                    tree_method='exact', validate_parameters=1,\n",
       "                                    verbosity=None),\n",
       "             iid='deprecated', n_jobs=-1,\n",
       "             param_grid={'learning_rate': array([0.001     , 0.05644444, 0.11188889, 0.16733333, 0.22277778,\n",
       "       0.27822222, 0.33366667, 0.38911111, 0.44455556, 0.5       ]),\n",
       "                         'max_depth': range(1, 11),\n",
       "                         'n_estimators': range(0, 100, 10)},\n",
       "             pre_dispatch='2*n_jobs', refit=True, return_train_score=False,\n",
       "             scoring='r2', verbose=0)"
      ]
     },
     "execution_count": 306,
     "metadata": {},
     "output_type": "execute_result"
    }
   ],
   "source": [
    "from sklearn.model_selection import GridSearchCV\n",
    "\n",
    "grid_values = {\n",
    "    \"n_estimators\": range(0,100,10),\n",
    "    \"learning_rate\" : np.linspace(.001,.5,10),\n",
    "    \"max_depth\" : range(1,11)\n",
    "}\n",
    "\n",
    "grid_search_xgb_imputed = GridSearchCV(xgb_reg_imputed, grid_values, scoring='r2', cv=2, n_jobs=-1)\n",
    "%time grid_search_xgb_imputed.fit(x_train_imputed, y_train)"
   ]
  },
  {
   "cell_type": "code",
   "execution_count": 308,
   "metadata": {},
   "outputs": [
    {
     "data": {
      "text/plain": [
       "{'learning_rate': 0.33366666666666667, 'max_depth': 2, 'n_estimators': 20}"
      ]
     },
     "execution_count": 308,
     "metadata": {},
     "output_type": "execute_result"
    }
   ],
   "source": [
    "grid_search_xgb_imputed.best_params_"
   ]
  },
  {
   "cell_type": "code",
   "execution_count": 309,
   "metadata": {},
   "outputs": [
    {
     "data": {
      "text/plain": [
       "0.31955231769915665"
      ]
     },
     "execution_count": 309,
     "metadata": {},
     "output_type": "execute_result"
    }
   ],
   "source": [
    "grid_search_xgb_imputed.best_score_"
   ]
  },
  {
   "cell_type": "code",
   "execution_count": 404,
   "metadata": {},
   "outputs": [
    {
     "name": "stdout",
     "output_type": "stream",
     "text": [
      "[0]\tvalidation_0-rmse:765.30719\n",
      "Will train until validation_0-rmse hasn't improved in 10 rounds.\n",
      "[1]\tvalidation_0-rmse:625.00842\n",
      "[2]\tvalidation_0-rmse:578.60193\n",
      "[3]\tvalidation_0-rmse:536.88568\n",
      "[4]\tvalidation_0-rmse:538.29126\n",
      "[5]\tvalidation_0-rmse:525.58832\n",
      "[6]\tvalidation_0-rmse:499.24795\n",
      "[7]\tvalidation_0-rmse:502.21670\n",
      "[8]\tvalidation_0-rmse:496.35919\n",
      "[9]\tvalidation_0-rmse:488.48654\n",
      "[10]\tvalidation_0-rmse:487.58347\n",
      "[11]\tvalidation_0-rmse:483.63208\n",
      "[12]\tvalidation_0-rmse:482.99573\n",
      "[13]\tvalidation_0-rmse:491.59503\n",
      "[14]\tvalidation_0-rmse:495.03070\n",
      "[15]\tvalidation_0-rmse:490.02710\n",
      "[16]\tvalidation_0-rmse:484.79968\n",
      "[17]\tvalidation_0-rmse:483.41147\n",
      "[18]\tvalidation_0-rmse:487.18912\n",
      "[19]\tvalidation_0-rmse:485.40842\n",
      "\n",
      "train r2: 0.8367650389389587\n",
      "test  r2: 0.3255876759944524\n"
     ]
    }
   ],
   "source": [
    "xgb_best2 = xgboost.XGBRegressor(learning_rate=.33367, n_estimators=20, max_depth=2)\n",
    "xgb_best2.fit(x_train, y_train, \n",
    "             eval_set=[(x_val, y_val)], \n",
    "             early_stopping_rounds=10)\n",
    "\n",
    "print('')\n",
    "print('train r2:', xgb_best2.score(x_train, y_train))\n",
    "print('test  r2:', xgb_best2.score(x_test, y_test))"
   ]
  },
  {
   "cell_type": "code",
   "execution_count": 405,
   "metadata": {},
   "outputs": [
    {
     "data": {
      "text/plain": [
       "<matplotlib.axes._subplots.AxesSubplot at 0x7f96be178b50>"
      ]
     },
     "execution_count": 405,
     "metadata": {},
     "output_type": "execute_result"
    },
    {
     "data": {
      "image/png": "[encoded data removed]",
      "text/plain": [
       "<Figure size 432x288 with 1 Axes>"
      ]
     },
     "metadata": {
      "needs_background": "light"
     },
     "output_type": "display_data"
    }
   ],
   "source": [
    "pd.DataFrame(index=x_train.columns, data=xgb_best2.feature_importances_*100, columns=['Importance']).sort_values(by='Importance', ascending=False).head(10).plot(kind='barh')"
   ]
  },
  {
   "cell_type": "code",
   "execution_count": null,
   "metadata": {},
   "outputs": [],
   "source": [
    "## try cutting down the number of features - maybe theres too much noise:"
   ]
  },
  {
   "cell_type": "code",
   "execution_count": 406,
   "metadata": {
    "scrolled": true
   },
   "outputs": [
    {
     "data": {
      "text/plain": [
       "Index(['Area_km2', 'Age', 'Volume_km3', 'Areakm2_div_Volkm3', 'org_c',\n",
       "       'temp_annual_avg', 'temp_spring_avg_lc', 'temp_summer_avg_lc',\n",
       "       'temp_fall_avg_lc', 'temp_winter_avg_lc', 'NDVI_annual_avg',\n",
       "       'NDVI_spring_avg_lc', 'NDVI_summer_avg_lc', 'NDVI_fall_avg_lc',\n",
       "       'NDVI_winter_avg_lc', 'npp_annual_avg', 'npp_spring_avg_lc',\n",
       "       'npp_summer_avg_lc', 'npp_fall_avg_lc', 'npp_winter_avg_lc', 'erosion',\n",
       "       'precip', 'kWh'],\n",
       "      dtype='object')"
      ]
     },
     "execution_count": 406,
     "metadata": {},
     "output_type": "execute_result"
    }
   ],
   "source": [
    "X.columns"
   ]
  },
  {
   "cell_type": "code",
   "execution_count": 407,
   "metadata": {},
   "outputs": [],
   "source": [
    "X_reduced = X[['Area_km2', 'Age', 'Volume_km3', 'Areakm2_div_Volkm3', 'org_c',\n",
    "       'temp_summer_avg_lc', 'temp_winter_avg_lc', 'NDVI_annual_avg', 'npp_annual_avg',\n",
    "       'erosion', 'precip', 'kWh']]"
   ]
  },
  {
   "cell_type": "code",
   "execution_count": 408,
   "metadata": {},
   "outputs": [],
   "source": [
    "x_train, x_test, y_train, y_test = train_test_split(X_reduced, Y, test_size=0.2, random_state=42)\n",
    "\n",
    "x_train, x_val, y_train, y_val = train_test_split(x_train, y_train, test_size=0.2, random_state=42)"
   ]
  },
  {
   "cell_type": "code",
   "execution_count": 409,
   "metadata": {},
   "outputs": [
    {
     "name": "stdout",
     "output_type": "stream",
     "text": [
      "[0]\tvalidation_0-rmse:764.53656\n",
      "Will train until validation_0-rmse hasn't improved in 5 rounds.\n",
      "[1]\tvalidation_0-rmse:620.79987\n",
      "[2]\tvalidation_0-rmse:538.73157\n",
      "[3]\tvalidation_0-rmse:521.13440\n",
      "[4]\tvalidation_0-rmse:510.29352\n",
      "[5]\tvalidation_0-rmse:499.21777\n",
      "[6]\tvalidation_0-rmse:500.76053\n",
      "[7]\tvalidation_0-rmse:500.27597\n",
      "[8]\tvalidation_0-rmse:504.98541\n",
      "[9]\tvalidation_0-rmse:504.69574\n",
      "[10]\tvalidation_0-rmse:503.56076\n",
      "Stopping. Best iteration:\n",
      "[5]\tvalidation_0-rmse:499.21777\n",
      "\n",
      "\n",
      "train r2: 0.8295311517404469\n",
      "test  r2: 0.1313537425721616\n"
     ]
    }
   ],
   "source": [
    "model_impute = KNNImputer(n_neighbors=int(np.sqrt(x_train.shape[0])))\n",
    "x_train_imputed = model_impute.fit_transform(x_train)\n",
    "x_train_imputed = pd.DataFrame(columns=x_train.columns, data=x_train_imputed)\n",
    "\n",
    "\n",
    "xgb_reg_imputed2 = xgboost.XGBRegressor()\n",
    "xgb_reg_imputed2.fit(x_train_imputed, y_train, \n",
    "             eval_set=[(x_val, y_val)], \n",
    "             early_stopping_rounds=5)\n",
    "\n",
    "print('')\n",
    "print('train r2:', xgb_reg_imputed2.score(x_train, y_train))\n",
    "print('test  r2:', xgb_reg_imputed2.score(x_test, y_test))"
   ]
  },
  {
   "cell_type": "code",
   "execution_count": null,
   "metadata": {},
   "outputs": [],
   "source": [
    "### try again with train-test-split into thirds"
   ]
  },
  {
   "cell_type": "code",
   "execution_count": 421,
   "metadata": {},
   "outputs": [],
   "source": [
    "from sklearn.preprocessing import StandardScaler\n",
    "\n",
    "data = co2.copy()\n",
    "scaler = StandardScaler()\n",
    "co2_scaled = pd.DataFrame(scaler.fit_transform(data),columns=co2.columns)"
   ]
  },
  {
   "cell_type": "code",
   "execution_count": 428,
   "metadata": {},
   "outputs": [],
   "source": [
    "X = co2_scaled.drop('CO2 (mg C m¯² d¯¹)', axis=1)\n",
    "Y = co2_scaled['CO2 (mg C m¯² d¯¹)']\n",
    "\n",
    "from sklearn.model_selection import train_test_split\n",
    "\n",
    "x_train, x_test, y_train, y_test = train_test_split(X, Y, test_size=0.33, random_state=42)\n",
    "\n",
    "x_train, x_val, y_train, y_val = train_test_split(x_train, y_train, test_size=0.5, random_state=42)"
   ]
  },
  {
   "cell_type": "code",
   "execution_count": 429,
   "metadata": {},
   "outputs": [],
   "source": [
    "from sklearn.impute import KNNImputer\n",
    "model_impute = KNNImputer(n_neighbors=int(np.sqrt(x_train.shape[0])))\n",
    "x_train_imputed = model_impute.fit_transform(x_train)\n",
    "\n",
    "x_train_imputed = pd.DataFrame(columns=x_train.columns, data=x_train_imputed)"
   ]
  },
  {
   "cell_type": "code",
   "execution_count": 430,
   "metadata": {},
   "outputs": [
    {
     "name": "stdout",
     "output_type": "stream",
     "text": [
      "[0]\tvalidation_0-rmse:1.00924\n",
      "Will train until validation_0-rmse hasn't improved in 5 rounds.\n",
      "[1]\tvalidation_0-rmse:0.91617\n",
      "[2]\tvalidation_0-rmse:0.89101\n",
      "[3]\tvalidation_0-rmse:0.88736\n",
      "[4]\tvalidation_0-rmse:0.88649\n",
      "[5]\tvalidation_0-rmse:0.88237\n",
      "[6]\tvalidation_0-rmse:0.89498\n",
      "[7]\tvalidation_0-rmse:0.89918\n",
      "[8]\tvalidation_0-rmse:0.90329\n",
      "[9]\tvalidation_0-rmse:0.91034\n",
      "[10]\tvalidation_0-rmse:0.92096\n",
      "Stopping. Best iteration:\n",
      "[5]\tvalidation_0-rmse:0.88237\n",
      "\n",
      "train r2: 0.9117490076479455\n",
      "test  r2: 0.4375564675124709\n"
     ]
    },
    {
     "data": {
      "text/plain": [
       "<matplotlib.axes._subplots.AxesSubplot at 0x7f969ec6e150>"
      ]
     },
     "execution_count": 430,
     "metadata": {},
     "output_type": "execute_result"
    },
    {
     "data": {
      "image/png": "[encoded data removed]",
      "text/plain": [
       "<Figure size 432x288 with 1 Axes>"
      ]
     },
     "metadata": {
      "needs_background": "light"
     },
     "output_type": "display_data"
    }
   ],
   "source": [
    "xgb_reg_thirds = xgboost.XGBRegressor()\n",
    "xgb_reg_thirds.fit(x_train_imputed, y_train, \n",
    "             eval_set=[(x_val, y_val)], \n",
    "             early_stopping_rounds=5)\n",
    "\n",
    "print('train r2:', xgb_reg_thirds.score(x_train_imputed, y_train))\n",
    "print('test  r2:', xgb_reg_thirds.score(x_test, y_test))\n",
    "\n",
    "pd.DataFrame(index=x_train.columns, data=xgb_reg_thirds.feature_importances_*100, columns=['Importance']).sort_values(by='Importance', ascending=False).head(10).plot(kind='barh')\n"
   ]
  },
  {
   "cell_type": "code",
   "execution_count": 467,
   "metadata": {},
   "outputs": [
    {
     "name": "stdout",
     "output_type": "stream",
     "text": [
      "[0]\tvalidation_0-rmse:706.70947\n",
      "Will train until validation_0-rmse hasn't improved in 5 rounds.\n",
      "[1]\tvalidation_0-rmse:607.30298\n",
      "[2]\tvalidation_0-rmse:559.08063\n",
      "[3]\tvalidation_0-rmse:532.79205\n",
      "[4]\tvalidation_0-rmse:524.22546\n",
      "[5]\tvalidation_0-rmse:517.39117\n",
      "[6]\tvalidation_0-rmse:518.43939\n",
      "[7]\tvalidation_0-rmse:511.79047\n",
      "[8]\tvalidation_0-rmse:514.70227\n",
      "[9]\tvalidation_0-rmse:517.66919\n",
      "[10]\tvalidation_0-rmse:512.80633\n",
      "[11]\tvalidation_0-rmse:516.58826\n",
      "[12]\tvalidation_0-rmse:513.24280\n",
      "Stopping. Best iteration:\n",
      "[7]\tvalidation_0-rmse:511.79047\n",
      "\n",
      "train r2: 0.7392616831876303\n",
      "test  r2: 0.4711152737445228\n"
     ]
    }
   ],
   "source": [
    "xgb_reg_thirds.set_params(learning_rate=.33367, n_estimators=100, max_depth=2)\n",
    "\n",
    "xgb_reg_thirds.fit(x_train_imputed, y_train, \n",
    "             eval_set=[(x_val, y_val)], \n",
    "             early_stopping_rounds=5)\n",
    "\n",
    "print('train r2:', xgb_reg_thirds.score(x_train_imputed, y_train))\n",
    "print('test  r2:', xgb_reg_thirds.score(x_test, y_test))"
   ]
  },
  {
   "cell_type": "code",
   "execution_count": 468,
   "metadata": {},
   "outputs": [
    {
     "data": {
      "text/plain": [
       "<matplotlib.axes._subplots.AxesSubplot at 0x7f969ee93bd0>"
      ]
     },
     "execution_count": 468,
     "metadata": {},
     "output_type": "execute_result"
    },
    {
     "data": {
      "image/png": "[encoded data removed]",
      "text/plain": [
       "<Figure size 432x288 with 1 Axes>"
      ]
     },
     "metadata": {
      "needs_background": "light"
     },
     "output_type": "display_data"
    }
   ],
   "source": [
    "pd.DataFrame(index=x_train.columns, data=xgb_reg_thirds.feature_importances_*100, columns=['Importance']).sort_values(by='Importance', ascending=False).head(10).plot(kind='barh')\n"
   ]
  },
  {
   "cell_type": "code",
   "execution_count": null,
   "metadata": {},
   "outputs": [],
   "source": [
    "## squared, unscaled target\n",
    "## imputed, scaled features"
   ]
  },
  {
   "cell_type": "code",
   "execution_count": 461,
   "metadata": {},
   "outputs": [],
   "source": [
    "X = co2_scaled.drop('CO2 (mg C m¯² d¯¹)', axis=1)\n",
    "Y = co2['CO2 (mg C m¯² d¯¹)']"
   ]
  },
  {
   "cell_type": "code",
   "execution_count": 462,
   "metadata": {},
   "outputs": [],
   "source": [
    "from sklearn.model_selection import train_test_split\n",
    "\n",
    "x_train, x_test, y_train, y_test = train_test_split(X, Y, test_size=0.33, random_state=42)\n",
    "\n",
    "x_train, x_val, y_train, y_val = train_test_split(x_train, y_train, test_size=0.5, random_state=42)"
   ]
  },
  {
   "cell_type": "code",
   "execution_count": 463,
   "metadata": {},
   "outputs": [],
   "source": [
    "from sklearn.impute import KNNImputer\n",
    "model_impute = KNNImputer(n_neighbors=int(np.sqrt(x_train.shape[0])))\n",
    "x_train_imputed = model_impute.fit_transform(x_train)\n",
    "\n",
    "x_train_imputed = pd.DataFrame(columns=x_train.columns, data=x_train_imputed)"
   ]
  },
  {
   "cell_type": "code",
   "execution_count": 464,
   "metadata": {},
   "outputs": [],
   "source": [
    "y_train_sq = y_train**2\n",
    "y_val_sq = y_val**2\n",
    "y_test_sq = y_test**2"
   ]
  },
  {
   "cell_type": "code",
   "execution_count": 465,
   "metadata": {},
   "outputs": [
    {
     "name": "stdout",
     "output_type": "stream",
     "text": [
      "[0]\tvalidation_0-rmse:1806555.75000\n",
      "Will train until validation_0-rmse hasn't improved in 10 rounds.\n",
      "[1]\tvalidation_0-rmse:1863436.75000\n",
      "[2]\tvalidation_0-rmse:1906339.12500\n",
      "[3]\tvalidation_0-rmse:1947690.75000\n",
      "[4]\tvalidation_0-rmse:1977339.12500\n",
      "[5]\tvalidation_0-rmse:1997145.50000\n",
      "[6]\tvalidation_0-rmse:2009658.12500\n",
      "[7]\tvalidation_0-rmse:2017364.37500\n",
      "[8]\tvalidation_0-rmse:2022083.12500\n",
      "[9]\tvalidation_0-rmse:2024933.37500\n",
      "[10]\tvalidation_0-rmse:2026656.62500\n",
      "Stopping. Best iteration:\n",
      "[0]\tvalidation_0-rmse:1806555.75000\n",
      "\n",
      "train r2: 0.6498107078214889\n",
      "test  r2: 0.47176425504814906\n"
     ]
    }
   ],
   "source": [
    "xgb_reg_sq = xgboost.XGBRegressor(learning_rate=.8, n_estimators=100, max_depth=10)\n",
    "# xgb_reg_sq.set_params(learning_rate=.33367, n_estimators=100, max_depth=2)\n",
    "\n",
    "xgb_reg_sq.fit(x_train_imputed, y_train_sq, \n",
    "             eval_set=[(x_val, y_val_sq)], \n",
    "             early_stopping_rounds=10)\n",
    "\n",
    "print('train r2:', xgb_reg_sq.score(x_train_imputed, y_train_sq))\n",
    "print('test  r2:', xgb_reg_sq.score(x_test, y_test_sq))"
   ]
  },
  {
   "cell_type": "code",
   "execution_count": 466,
   "metadata": {},
   "outputs": [
    {
     "data": {
      "text/plain": [
       "<matplotlib.axes._subplots.AxesSubplot at 0x7f969ee63490>"
      ]
     },
     "execution_count": 466,
     "metadata": {},
     "output_type": "execute_result"
    },
    {
     "data": {
      "image/png": "[encoded data removed]",
      "text/plain": [
       "<Figure size 432x288 with 1 Axes>"
      ]
     },
     "metadata": {
      "needs_background": "light"
     },
     "output_type": "display_data"
    }
   ],
   "source": [
    "pd.DataFrame(index=x_train.columns, data=xgb_reg_sq.feature_importances_*100, columns=['Importance']).sort_values(by='Importance', ascending=False).head(10).plot(kind='barh')\n"
   ]
  },
  {
   "cell_type": "code",
   "execution_count": null,
   "metadata": {},
   "outputs": [],
   "source": []
  }
 ],
 "metadata": {
  "kernelspec": {
   "display_name": "Python 3",
   "language": "python",
   "name": "python3"
  },
  "language_info": {
   "codemirror_mode": {
    "name": "ipython",
    "version": 3
   },
   "file_extension": ".py",
   "mimetype": "text/x-python",
   "name": "python",
   "nbconvert_exporter": "python",
   "pygments_lexer": "ipython3",
   "version": "3.7.6"
  }
 },
 "nbformat": 4,
 "nbformat_minor": 4
}
